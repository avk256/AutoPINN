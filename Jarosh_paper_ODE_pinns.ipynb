{
  "cells": [
    {
      "cell_type": "markdown",
      "source": [
        "Розглянемо розв'язок наступного рівняння:\n",
        "\n",
        "$$y' = y(x + y) , x \\in [0,1]$$\n",
        "$$y(1)=1$$\n"
      ],
      "metadata": {
        "id": "6md5LHldC8q3"
      },
      "id": "6md5LHldC8q3"
    },
    {
      "cell_type": "markdown",
      "source": [
        "#Розв'язок за допомогою PINN"
      ],
      "metadata": {
        "id": "mbWFHPQ0CP89"
      },
      "id": "mbWFHPQ0CP89"
    },
    {
      "cell_type": "code",
      "execution_count": null,
      "id": "52680b11",
      "metadata": {
        "id": "52680b11"
      },
      "outputs": [],
      "source": [
        "import torch\n",
        "import torch.nn as nn\n",
        "import torch.optim as optim\n",
        "import seaborn as sns\n",
        "import matplotlib.pyplot as plt"
      ]
    },
    {
      "cell_type": "code",
      "execution_count": null,
      "id": "c42f60f1",
      "metadata": {
        "id": "c42f60f1"
      },
      "outputs": [],
      "source": [
        "class PINN(nn.Module):\n",
        "    def __init__(self):\n",
        "        super(PINN,self).__init__()\n",
        "        self.net = nn.Sequential(\n",
        "            nn.Linear(1,64),\n",
        "            nn.Tanh(),\n",
        "            nn.Linear(64,64),\n",
        "            nn.Tanh(),\n",
        "            nn.Linear(64,1)\n",
        "        )\n",
        "        self.double()\n",
        "    def forward(self,x):\n",
        "        return self.net(x)"
      ]
    },
    {
      "cell_type": "code",
      "source": [
        "x = (0 - 2)*torch.rand(10, 1, requires_grad = True) + 2\n",
        "x"
      ],
      "metadata": {
        "colab": {
          "base_uri": "https://localhost:8080/"
        },
        "id": "Q5ubWBn8j7er",
        "outputId": "752c21ec-7328-4985-a286-fda9eafe05e4"
      },
      "id": "Q5ubWBn8j7er",
      "execution_count": null,
      "outputs": [
        {
          "output_type": "execute_result",
          "data": {
            "text/plain": [
              "tensor([[1.5102],\n",
              "        [1.5263],\n",
              "        [1.7918],\n",
              "        [0.7030],\n",
              "        [1.6664],\n",
              "        [0.4544],\n",
              "        [0.9548],\n",
              "        [1.2066],\n",
              "        [1.0154],\n",
              "        [0.9449]], grad_fn=<AddBackward0>)"
            ]
          },
          "metadata": {},
          "execution_count": 351
        }
      ]
    },
    {
      "cell_type": "code",
      "source": [
        "x = torch.rand(10, 1, requires_grad = True)\n",
        "x"
      ],
      "metadata": {
        "colab": {
          "base_uri": "https://localhost:8080/"
        },
        "id": "CCEyURFU6WD9",
        "outputId": "f3c926f5-511d-432a-e7e9-19b91bd970b4"
      },
      "id": "CCEyURFU6WD9",
      "execution_count": null,
      "outputs": [
        {
          "output_type": "execute_result",
          "data": {
            "text/plain": [
              "tensor([[0.5565],\n",
              "        [0.8074],\n",
              "        [0.4151],\n",
              "        [0.8705],\n",
              "        [0.0013],\n",
              "        [0.5215],\n",
              "        [0.3622],\n",
              "        [0.4601],\n",
              "        [0.2716],\n",
              "        [0.6920]], requires_grad=True)"
            ]
          },
          "metadata": {},
          "execution_count": 352
        }
      ]
    },
    {
      "cell_type": "code",
      "execution_count": null,
      "id": "0d3d62a8",
      "metadata": {
        "id": "0d3d62a8"
      },
      "outputs": [],
      "source": [
        "def intial_condition():\n",
        "    return torch.tensor([0])\n",
        "\n",
        "def boundary_condition():\n",
        "    return torch.tensor([1])"
      ]
    },
    {
      "cell_type": "code",
      "execution_count": null,
      "id": "6cf104d1",
      "metadata": {
        "id": "6cf104d1"
      },
      "outputs": [],
      "source": [
        "def generate_training_data(num_points):\n",
        "    x = torch.rand(num_points, 1, requires_grad = True)\n",
        "\n",
        "    return x"
      ]
    },
    {
      "cell_type": "code",
      "execution_count": null,
      "id": "a42303a2",
      "metadata": {
        "id": "a42303a2"
      },
      "outputs": [],
      "source": [
        "def generate_boundary_points():\n",
        "    x_boundary = torch.tensor([1])\n",
        "\n",
        "\n",
        "    return x_boundary.view(-1,1)\n",
        "\n",
        "\n",
        "def generate_boundary_training_data():\n",
        "    x_boundary = generate_boundary_points()\n",
        "\n",
        "\n",
        "    return x_boundary"
      ]
    },
    {
      "cell_type": "code",
      "execution_count": null,
      "id": "9f9e7a39",
      "metadata": {
        "id": "9f9e7a39"
      },
      "outputs": [],
      "source": [
        "def pde(x,model):\n",
        "\n",
        "    x = x.double()\n",
        "\n",
        "    # print('*********************************************************')\n",
        "    # print(x.size())\n",
        "    # print(x.dtype)\n",
        "\n",
        "    input_data = x\n",
        "\n",
        "    # print('*********************************************************')\n",
        "    # print(input_data.size())\n",
        "    # print(input_data.dtype)\n",
        "\n",
        "    u = model(input_data)\n",
        "    u_x = torch.autograd.grad(u, x ,grad_outputs= torch.ones_like(u), create_graph= True, retain_graph=True)[0]\n",
        "    # u_xx = torch.autograd.grad(u_x,x,grad_outputs= torch.ones_like(u_x), create_graph= True, retain_graph=True)[0]\n",
        "    # print('*********************************************************')\n",
        "    # print(u_x.size())\n",
        "    # print(u_x.dtype)\n",
        "    # print('*********************************************************')\n",
        "    # print(u.size())\n",
        "    # print(u.dtype)\n",
        "    # print('*********************************************************')\n",
        "    # print(x.size())\n",
        "    # print(x.dtype)\n",
        "    eq_residual = 1 * u_x - 1 * u*x - u*u\n",
        "    return eq_residual"
      ]
    },
    {
      "cell_type": "code",
      "execution_count": null,
      "id": "00395c93",
      "metadata": {
        "id": "00395c93"
      },
      "outputs": [],
      "source": [
        "def train_PINN(model, num_iterations, num_points):\n",
        "    optimizer = optim.Adam(model.parameters(), lr=1e-3)\n",
        "    # breakpoint()\n",
        "    for  iteration in range(num_iterations):\n",
        "        optimizer.zero_grad()\n",
        "\n",
        "        # breakpoint()\n",
        "\n",
        "        x = generate_training_data(num_points)\n",
        "\n",
        "        # breakpoint()\n",
        "\n",
        "        x_b = generate_boundary_training_data()\n",
        "\n",
        "        # breakpoint()\n",
        "\n",
        "        custom_value = 0\n",
        "        u_boundary_x = boundary_condition()\n",
        "\n",
        "        # breakpoint()\n",
        "\n",
        "        residual = pde(x, model)\n",
        "\n",
        "        # breakpoint()\n",
        "\n",
        "        u_boundary_x = u_boundary_x.double()\n",
        "        x_b = x_b.double()\n",
        "\n",
        "        # print('*********************************************************')\n",
        "        # print(u_boundary_x.size())\n",
        "        # print(u_boundary_x.dtype)\n",
        "        # print('*********************************************************')\n",
        "        # print(x_b.size())\n",
        "        # print(x_b.dtype)\n",
        "        # print('*********************************************************')\n",
        "\n",
        "        # breakpoint()\n",
        "\n",
        "        loss =  nn.MSELoss()(u_boundary_x, model(x_b)) + \\\n",
        "                nn.MSELoss()(residual, torch.zeros_like(residual))\n",
        "\n",
        "        # breakpoint()\n",
        "\n",
        "        loss.backward()\n",
        "        optimizer.step()\n",
        "\n",
        "        if iteration % 100 == 0:\n",
        "            print(\"itration\", iteration, \"loss\", loss )"
      ]
    },
    {
      "cell_type": "code",
      "execution_count": null,
      "id": "3565e7b3",
      "metadata": {
        "scrolled": true,
        "colab": {
          "base_uri": "https://localhost:8080/"
        },
        "id": "3565e7b3",
        "outputId": "b872ab26-fe8f-4f7f-a146-b67733087a4f"
      },
      "outputs": [
        {
          "output_type": "stream",
          "name": "stderr",
          "text": [
            "/usr/local/lib/python3.10/dist-packages/torch/nn/modules/loss.py:535: UserWarning: Using a target size (torch.Size([1, 1])) that is different to the input size (torch.Size([1])). This will likely lead to incorrect results due to broadcasting. Please ensure they have the same size.\n",
            "  return F.mse_loss(input, target, reduction=self.reduction)\n"
          ]
        },
        {
          "output_type": "stream",
          "name": "stdout",
          "text": [
            "itration 0 loss tensor(1.0281, dtype=torch.float64, grad_fn=<AddBackward0>)\n",
            "itration 100 loss tensor(0.1173, dtype=torch.float64, grad_fn=<AddBackward0>)\n",
            "itration 200 loss tensor(0.0115, dtype=torch.float64, grad_fn=<AddBackward0>)\n",
            "itration 300 loss tensor(0.0013, dtype=torch.float64, grad_fn=<AddBackward0>)\n",
            "itration 400 loss tensor(0.0008, dtype=torch.float64, grad_fn=<AddBackward0>)\n",
            "itration 500 loss tensor(0.0004, dtype=torch.float64, grad_fn=<AddBackward0>)\n",
            "itration 600 loss tensor(0.0002, dtype=torch.float64, grad_fn=<AddBackward0>)\n",
            "itration 700 loss tensor(9.9970e-05, dtype=torch.float64, grad_fn=<AddBackward0>)\n",
            "itration 800 loss tensor(8.1752e-05, dtype=torch.float64, grad_fn=<AddBackward0>)\n",
            "itration 900 loss tensor(6.4284e-05, dtype=torch.float64, grad_fn=<AddBackward0>)\n",
            "itration 1000 loss tensor(4.6437e-05, dtype=torch.float64, grad_fn=<AddBackward0>)\n",
            "itration 1100 loss tensor(6.1586e-05, dtype=torch.float64, grad_fn=<AddBackward0>)\n",
            "itration 1200 loss tensor(5.2063e-05, dtype=torch.float64, grad_fn=<AddBackward0>)\n",
            "itration 1300 loss tensor(3.0708e-05, dtype=torch.float64, grad_fn=<AddBackward0>)\n",
            "itration 1400 loss tensor(2.2253e-05, dtype=torch.float64, grad_fn=<AddBackward0>)\n",
            "itration 1500 loss tensor(1.9664e-05, dtype=torch.float64, grad_fn=<AddBackward0>)\n",
            "itration 1600 loss tensor(1.0077e-05, dtype=torch.float64, grad_fn=<AddBackward0>)\n",
            "itration 1700 loss tensor(1.8375e-05, dtype=torch.float64, grad_fn=<AddBackward0>)\n",
            "itration 1800 loss tensor(9.8789e-06, dtype=torch.float64, grad_fn=<AddBackward0>)\n",
            "itration 1900 loss tensor(2.3525e-05, dtype=torch.float64, grad_fn=<AddBackward0>)\n",
            "itration 2000 loss tensor(1.7681e-05, dtype=torch.float64, grad_fn=<AddBackward0>)\n",
            "itration 2100 loss tensor(4.4931e-05, dtype=torch.float64, grad_fn=<AddBackward0>)\n",
            "itration 2200 loss tensor(0.0001, dtype=torch.float64, grad_fn=<AddBackward0>)\n",
            "itration 2300 loss tensor(1.5071e-05, dtype=torch.float64, grad_fn=<AddBackward0>)\n",
            "itration 2400 loss tensor(3.5695e-05, dtype=torch.float64, grad_fn=<AddBackward0>)\n",
            "itration 2500 loss tensor(0.0002, dtype=torch.float64, grad_fn=<AddBackward0>)\n",
            "itration 2600 loss tensor(1.2627e-05, dtype=torch.float64, grad_fn=<AddBackward0>)\n",
            "itration 2700 loss tensor(4.7791e-06, dtype=torch.float64, grad_fn=<AddBackward0>)\n",
            "itration 2800 loss tensor(6.7891e-06, dtype=torch.float64, grad_fn=<AddBackward0>)\n",
            "itration 2900 loss tensor(0.0009, dtype=torch.float64, grad_fn=<AddBackward0>)\n",
            "itration 3000 loss tensor(3.2770e-05, dtype=torch.float64, grad_fn=<AddBackward0>)\n",
            "itration 3100 loss tensor(4.3600e-06, dtype=torch.float64, grad_fn=<AddBackward0>)\n",
            "itration 3200 loss tensor(7.2313e-06, dtype=torch.float64, grad_fn=<AddBackward0>)\n",
            "itration 3300 loss tensor(7.1095e-06, dtype=torch.float64, grad_fn=<AddBackward0>)\n",
            "itration 3400 loss tensor(3.6764e-05, dtype=torch.float64, grad_fn=<AddBackward0>)\n",
            "itration 3500 loss tensor(3.1784e-06, dtype=torch.float64, grad_fn=<AddBackward0>)\n",
            "itration 3600 loss tensor(6.7829e-06, dtype=torch.float64, grad_fn=<AddBackward0>)\n",
            "itration 3700 loss tensor(4.5037e-06, dtype=torch.float64, grad_fn=<AddBackward0>)\n",
            "itration 3800 loss tensor(1.5734e-05, dtype=torch.float64, grad_fn=<AddBackward0>)\n",
            "itration 3900 loss tensor(2.5396e-06, dtype=torch.float64, grad_fn=<AddBackward0>)\n",
            "itration 4000 loss tensor(2.9746e-06, dtype=torch.float64, grad_fn=<AddBackward0>)\n",
            "itration 4100 loss tensor(2.1090e-06, dtype=torch.float64, grad_fn=<AddBackward0>)\n",
            "itration 4200 loss tensor(0.0005, dtype=torch.float64, grad_fn=<AddBackward0>)\n",
            "itration 4300 loss tensor(0.0001, dtype=torch.float64, grad_fn=<AddBackward0>)\n",
            "itration 4400 loss tensor(1.8215e-06, dtype=torch.float64, grad_fn=<AddBackward0>)\n",
            "itration 4500 loss tensor(2.8561e-05, dtype=torch.float64, grad_fn=<AddBackward0>)\n",
            "itration 4600 loss tensor(7.2476e-05, dtype=torch.float64, grad_fn=<AddBackward0>)\n",
            "itration 4700 loss tensor(4.5508e-06, dtype=torch.float64, grad_fn=<AddBackward0>)\n",
            "itration 4800 loss tensor(7.1475e-06, dtype=torch.float64, grad_fn=<AddBackward0>)\n",
            "itration 4900 loss tensor(4.2644e-06, dtype=torch.float64, grad_fn=<AddBackward0>)\n",
            "itration 5000 loss tensor(5.2542e-05, dtype=torch.float64, grad_fn=<AddBackward0>)\n",
            "itration 5100 loss tensor(0.0003, dtype=torch.float64, grad_fn=<AddBackward0>)\n",
            "itration 5200 loss tensor(0.0006, dtype=torch.float64, grad_fn=<AddBackward0>)\n",
            "itration 5300 loss tensor(1.1583e-05, dtype=torch.float64, grad_fn=<AddBackward0>)\n",
            "itration 5400 loss tensor(7.7250e-07, dtype=torch.float64, grad_fn=<AddBackward0>)\n",
            "itration 5500 loss tensor(1.0070e-06, dtype=torch.float64, grad_fn=<AddBackward0>)\n",
            "itration 5600 loss tensor(4.6776e-06, dtype=torch.float64, grad_fn=<AddBackward0>)\n",
            "itration 5700 loss tensor(4.3306e-06, dtype=torch.float64, grad_fn=<AddBackward0>)\n",
            "itration 5800 loss tensor(1.3495e-06, dtype=torch.float64, grad_fn=<AddBackward0>)\n",
            "itration 5900 loss tensor(1.3280e-06, dtype=torch.float64, grad_fn=<AddBackward0>)\n",
            "itration 6000 loss tensor(9.3455e-06, dtype=torch.float64, grad_fn=<AddBackward0>)\n",
            "itration 6100 loss tensor(7.7388e-07, dtype=torch.float64, grad_fn=<AddBackward0>)\n",
            "itration 6200 loss tensor(0.0008, dtype=torch.float64, grad_fn=<AddBackward0>)\n",
            "itration 6300 loss tensor(8.1401e-07, dtype=torch.float64, grad_fn=<AddBackward0>)\n",
            "itration 6400 loss tensor(1.7915e-06, dtype=torch.float64, grad_fn=<AddBackward0>)\n",
            "itration 6500 loss tensor(5.7665e-06, dtype=torch.float64, grad_fn=<AddBackward0>)\n",
            "itration 6600 loss tensor(1.4770e-05, dtype=torch.float64, grad_fn=<AddBackward0>)\n",
            "itration 6700 loss tensor(1.0756e-05, dtype=torch.float64, grad_fn=<AddBackward0>)\n",
            "itration 6800 loss tensor(5.1446e-06, dtype=torch.float64, grad_fn=<AddBackward0>)\n",
            "itration 6900 loss tensor(5.0842e-06, dtype=torch.float64, grad_fn=<AddBackward0>)\n",
            "itration 7000 loss tensor(1.0289e-05, dtype=torch.float64, grad_fn=<AddBackward0>)\n",
            "itration 7100 loss tensor(2.0043e-06, dtype=torch.float64, grad_fn=<AddBackward0>)\n",
            "itration 7200 loss tensor(1.7456e-05, dtype=torch.float64, grad_fn=<AddBackward0>)\n",
            "itration 7300 loss tensor(1.3434e-06, dtype=torch.float64, grad_fn=<AddBackward0>)\n",
            "itration 7400 loss tensor(3.8119e-06, dtype=torch.float64, grad_fn=<AddBackward0>)\n",
            "itration 7500 loss tensor(9.9389e-07, dtype=torch.float64, grad_fn=<AddBackward0>)\n",
            "itration 7600 loss tensor(8.2622e-07, dtype=torch.float64, grad_fn=<AddBackward0>)\n",
            "itration 7700 loss tensor(8.9429e-05, dtype=torch.float64, grad_fn=<AddBackward0>)\n",
            "itration 7800 loss tensor(4.3663e-05, dtype=torch.float64, grad_fn=<AddBackward0>)\n",
            "itration 7900 loss tensor(5.9085e-06, dtype=torch.float64, grad_fn=<AddBackward0>)\n",
            "itration 8000 loss tensor(8.5478e-06, dtype=torch.float64, grad_fn=<AddBackward0>)\n",
            "itration 8100 loss tensor(6.0820e-07, dtype=torch.float64, grad_fn=<AddBackward0>)\n",
            "itration 8200 loss tensor(5.8588e-05, dtype=torch.float64, grad_fn=<AddBackward0>)\n",
            "itration 8300 loss tensor(1.4222e-06, dtype=torch.float64, grad_fn=<AddBackward0>)\n",
            "itration 8400 loss tensor(1.6631e-06, dtype=torch.float64, grad_fn=<AddBackward0>)\n",
            "itration 8500 loss tensor(0.0005, dtype=torch.float64, grad_fn=<AddBackward0>)\n",
            "itration 8600 loss tensor(1.8815e-05, dtype=torch.float64, grad_fn=<AddBackward0>)\n",
            "itration 8700 loss tensor(6.2070e-06, dtype=torch.float64, grad_fn=<AddBackward0>)\n",
            "itration 8800 loss tensor(2.2365e-06, dtype=torch.float64, grad_fn=<AddBackward0>)\n",
            "itration 8900 loss tensor(1.5762e-06, dtype=torch.float64, grad_fn=<AddBackward0>)\n",
            "itration 9000 loss tensor(8.3910e-06, dtype=torch.float64, grad_fn=<AddBackward0>)\n",
            "itration 9100 loss tensor(4.1806e-06, dtype=torch.float64, grad_fn=<AddBackward0>)\n",
            "itration 9200 loss tensor(1.0789e-06, dtype=torch.float64, grad_fn=<AddBackward0>)\n",
            "itration 9300 loss tensor(9.7175e-07, dtype=torch.float64, grad_fn=<AddBackward0>)\n",
            "itration 9400 loss tensor(1.3117e-05, dtype=torch.float64, grad_fn=<AddBackward0>)\n",
            "itration 9500 loss tensor(4.2980e-06, dtype=torch.float64, grad_fn=<AddBackward0>)\n",
            "itration 9600 loss tensor(3.3229e-06, dtype=torch.float64, grad_fn=<AddBackward0>)\n",
            "itration 9700 loss tensor(9.4825e-07, dtype=torch.float64, grad_fn=<AddBackward0>)\n",
            "itration 9800 loss tensor(0.0004, dtype=torch.float64, grad_fn=<AddBackward0>)\n",
            "itration 9900 loss tensor(2.2958e-06, dtype=torch.float64, grad_fn=<AddBackward0>)\n"
          ]
        }
      ],
      "source": [
        "model = PINN()\n",
        "num_iterations = 10000\n",
        "num_points = 100\n",
        "train_PINN(model, num_iterations, num_points)"
      ]
    },
    {
      "cell_type": "code",
      "source": [
        "t = torch.linspace(0,1,10).flatten()\n",
        "X = torch.stack([t], dim=1)\n",
        "X"
      ],
      "metadata": {
        "colab": {
          "base_uri": "https://localhost:8080/"
        },
        "id": "7Z2tmRGi4fH-",
        "outputId": "f51170f7-e1b7-4007-cfe0-afe3106e2837"
      },
      "id": "7Z2tmRGi4fH-",
      "execution_count": null,
      "outputs": [
        {
          "output_type": "execute_result",
          "data": {
            "text/plain": [
              "tensor([[0.0000],\n",
              "        [0.1111],\n",
              "        [0.2222],\n",
              "        [0.3333],\n",
              "        [0.4444],\n",
              "        [0.5556],\n",
              "        [0.6667],\n",
              "        [0.7778],\n",
              "        [0.8889],\n",
              "        [1.0000]])"
            ]
          },
          "metadata": {},
          "execution_count": 359
        }
      ]
    },
    {
      "cell_type": "code",
      "execution_count": null,
      "id": "da8f8045",
      "metadata": {
        "colab": {
          "base_uri": "https://localhost:8080/"
        },
        "id": "da8f8045",
        "outputId": "cc11cd3f-3a54-4bf1-85ed-867ed68bdd93"
      },
      "outputs": [
        {
          "output_type": "stream",
          "name": "stdout",
          "text": [
            "tensor([[0.0000, 0.3523],\n",
            "        [0.0204, 0.3550],\n",
            "        [0.0408, 0.3578],\n",
            "        [0.0612, 0.3608],\n",
            "        [0.0816, 0.3640],\n",
            "        [0.1020, 0.3674],\n",
            "        [0.1224, 0.3710],\n",
            "        [0.1429, 0.3748],\n",
            "        [0.1633, 0.3788],\n",
            "        [0.1837, 0.3831],\n",
            "        [0.2041, 0.3876],\n",
            "        [0.2245, 0.3924],\n",
            "        [0.2449, 0.3974],\n",
            "        [0.2653, 0.4027],\n",
            "        [0.2857, 0.4083],\n",
            "        [0.3061, 0.4143],\n",
            "        [0.3265, 0.4205],\n",
            "        [0.3469, 0.4271],\n",
            "        [0.3673, 0.4340],\n",
            "        [0.3878, 0.4412],\n",
            "        [0.4082, 0.4489],\n",
            "        [0.4286, 0.4569],\n",
            "        [0.4490, 0.4654],\n",
            "        [0.4694, 0.4743],\n",
            "        [0.4898, 0.4836],\n",
            "        [0.5102, 0.4935],\n",
            "        [0.5306, 0.5038],\n",
            "        [0.5510, 0.5147],\n",
            "        [0.5714, 0.5261],\n",
            "        [0.5918, 0.5382],\n",
            "        [0.6122, 0.5509],\n",
            "        [0.6327, 0.5643],\n",
            "        [0.6531, 0.5785],\n",
            "        [0.6735, 0.5934],\n",
            "        [0.6939, 0.6091],\n",
            "        [0.7143, 0.6258],\n",
            "        [0.7347, 0.6434],\n",
            "        [0.7551, 0.6620],\n",
            "        [0.7755, 0.6817],\n",
            "        [0.7959, 0.7025],\n",
            "        [0.8163, 0.7247],\n",
            "        [0.8367, 0.7481],\n",
            "        [0.8571, 0.7730],\n",
            "        [0.8776, 0.7995],\n",
            "        [0.8980, 0.8278],\n",
            "        [0.9184, 0.8578],\n",
            "        [0.9388, 0.8900],\n",
            "        [0.9592, 0.9243],\n",
            "        [0.9796, 0.9611],\n",
            "        [1.0000, 1.0005]], dtype=torch.float64)\n"
          ]
        }
      ],
      "source": [
        "with torch.no_grad():\n",
        "    x_vals = torch.linspace(0, 1, 50)\n",
        "\n",
        "\n",
        "    input_data = torch.stack([x_vals.double()], dim=1)\n",
        "    solution = model(input_data)\n",
        "    sol = torch.stack([x_vals, solution.flatten()], dim=1)\n",
        "\n",
        "    print(sol)\n",
        "\n"
      ]
    },
    {
      "cell_type": "code",
      "source": [],
      "metadata": {
        "id": "2jqhZZie9GrR"
      },
      "id": "2jqhZZie9GrR",
      "execution_count": null,
      "outputs": []
    },
    {
      "cell_type": "code",
      "execution_count": null,
      "id": "692ef83c",
      "metadata": {
        "id": "692ef83c",
        "colab": {
          "base_uri": "https://localhost:8080/"
        },
        "outputId": "eabb6a94-aace-4e77-bc31-4cded74780ae"
      },
      "outputs": [
        {
          "output_type": "stream",
          "name": "stdout",
          "text": [
            "Eq(y(x), -2.0*exp(x**2/2)/(2.506628274631*erfi(sqrt(2)*x/2) - 5.68735786522071))\n"
          ]
        }
      ],
      "source": [
        "from sympy import symbols, Function, Derivative, dsolve, simplify, Eq, print_latex\n",
        "from scipy.special import erfi\n",
        "from math import exp, sqrt\n",
        "import numpy as np\n",
        "\n",
        "x   = symbols('x')\n",
        "y   = Function('y')\n",
        "ode = Eq(Derivative(y(x), x), y(x)*(x+y(x)))\n",
        "soll = dsolve(ode, y(x), ics={y(1):1})\n",
        "soll = simplify(soll.evalf())\n",
        "print(soll)"
      ]
    },
    {
      "cell_type": "code",
      "source": [
        "def ode_sol(x):\n",
        "    return -2.0*exp(x**2/2)/(2.506628274631*erfi(sqrt(2)*x/2) - 5.68735786522071)"
      ],
      "metadata": {
        "id": "yraxqTcW8vfA"
      },
      "id": "yraxqTcW8vfA",
      "execution_count": null,
      "outputs": []
    },
    {
      "cell_type": "code",
      "source": [
        "sol_np = sol.numpy()\n",
        "np.shape(sol_np)\n",
        "points = sol_np[:, 0]\n",
        "points"
      ],
      "metadata": {
        "colab": {
          "base_uri": "https://localhost:8080/"
        },
        "id": "kcDJO6eV9l-H",
        "outputId": "d7fe56e2-2e40-43ba-a14f-c4810fcbb472"
      },
      "id": "kcDJO6eV9l-H",
      "execution_count": null,
      "outputs": [
        {
          "output_type": "execute_result",
          "data": {
            "text/plain": [
              "array([0.        , 0.02040816, 0.04081633, 0.06122449, 0.08163265,\n",
              "       0.10204081, 0.12244898, 0.14285713, 0.1632653 , 0.18367347,\n",
              "       0.20408162, 0.22448979, 0.24489796, 0.26530612, 0.28571427,\n",
              "       0.30612245, 0.32653061, 0.34693876, 0.36734694, 0.3877551 ,\n",
              "       0.40816325, 0.42857143, 0.44897959, 0.46938774, 0.48979592,\n",
              "       0.51020408, 0.53061223, 0.55102044, 0.5714286 , 0.59183675,\n",
              "       0.6122449 , 0.63265306, 0.65306121, 0.67346942, 0.69387758,\n",
              "       0.71428573, 0.73469388, 0.75510204, 0.77551019, 0.79591835,\n",
              "       0.81632656, 0.83673471, 0.85714287, 0.87755102, 0.89795917,\n",
              "       0.91836733, 0.93877554, 0.95918369, 0.97959185, 1.        ])"
            ]
          },
          "metadata": {},
          "execution_count": 363
        }
      ]
    },
    {
      "cell_type": "code",
      "source": [
        "pred_y = []\n",
        "true_y = []\n",
        "pred_y = sol_np[:, 1]\n",
        "for x in points:\n",
        "    true_y.append(ode_sol(x))\n"
      ],
      "metadata": {
        "id": "9Whq6QhQ86yT"
      },
      "id": "9Whq6QhQ86yT",
      "execution_count": null,
      "outputs": []
    },
    {
      "cell_type": "code",
      "source": [
        "import plotly.express as px\n",
        "import plotly.graph_objects as go\n",
        "from plotly.offline import plot\n",
        "\n",
        "def plot_feature(true_y, pred_y, points):\n",
        "\n",
        "    fig_prices = go.Figure()\n",
        "    fig_prices.add_trace(go.Scatter(x=points, y=true_y,\n",
        "                        # fill= 'tonexty',\n",
        "                        mode='lines',\n",
        "                        # line_color='indigo',\n",
        "                        name=\"Точний розв'язок\"))\n",
        "    fig_prices.add_trace(go.Scatter(\n",
        "                        x=points,\n",
        "                        y=pred_y,\n",
        "                        # fill='tonexty', # fill area between trace0 and trace1\n",
        "                        mode='lines',\n",
        "                        # line_color='red',\n",
        "                        name=\"Наближений розв'язок\"))\n",
        "\n",
        "\n",
        "    fig_prices.update_layout(yaxis_title=\"Значення функції\")\n",
        "    fig_prices.update_layout(\n",
        "    xaxis=dict(\n",
        "        title='Точки колокації',\n",
        "        title_font=dict(size=20),  # Збільшення розміру шрифту підпису осі X\n",
        "        tickfont=dict(size=16),    # Збільшення розміру шрифту тікерів\n",
        "    ),\n",
        "    yaxis=dict(\n",
        "        title='Значення функції',\n",
        "        title_font=dict(size=20),  # Збільшення розміру шрифту підпису осі Y\n",
        "        tickfont=dict(size=16),    # Збільшення розміру шрифту тікерів\n",
        "    ),\n",
        "    legend=dict(\n",
        "        font=dict(size=18)          # Збільшення розміру шрифту легенди\n",
        "    )\n",
        ")\n",
        "    fig_prices.show()\n",
        "\n",
        "    return 0"
      ],
      "metadata": {
        "id": "LflG0UgaBEcu"
      },
      "id": "LflG0UgaBEcu",
      "execution_count": null,
      "outputs": []
    },
    {
      "cell_type": "code",
      "source": [
        "plot_feature(true_y, pred_y, points)"
      ],
      "metadata": {
        "colab": {
          "base_uri": "https://localhost:8080/",
          "height": 560
        },
        "id": "3CKkIOqcBKle",
        "outputId": "43689d1f-fc9b-4308-abbe-1c591dbbdb98"
      },
      "id": "3CKkIOqcBKle",
      "execution_count": null,
      "outputs": [
        {
          "output_type": "display_data",
          "data": {
            "text/html": [
              "<html>\n",
              "<head><meta charset=\"utf-8\" /></head>\n",
              "<body>\n",
              "    <div>            <script src=\"https://cdnjs.cloudflare.com/ajax/libs/mathjax/2.7.5/MathJax.js?config=TeX-AMS-MML_SVG\"></script><script type=\"text/javascript\">if (window.MathJax && window.MathJax.Hub && window.MathJax.Hub.Config) {window.MathJax.Hub.Config({SVG: {font: \"STIX-Web\"}});}</script>                <script type=\"text/javascript\">window.PlotlyConfig = {MathJaxConfig: 'local'};</script>\n",
              "        <script charset=\"utf-8\" src=\"https://cdn.plot.ly/plotly-2.24.1.min.js\"></script>                <div id=\"3e322d52-8a8f-4964-a134-d24e5f2a3140\" class=\"plotly-graph-div\" style=\"height:525px; width:100%;\"></div>            <script type=\"text/javascript\">                                    window.PLOTLYENV=window.PLOTLYENV || {};                                    if (document.getElementById(\"3e322d52-8a8f-4964-a134-d24e5f2a3140\")) {                    Plotly.newPlot(                        \"3e322d52-8a8f-4964-a134-d24e5f2a3140\",                        [{\"mode\":\"lines\",\"name\":\"\\u0422\\u043e\\u0447\\u043d\\u0438\\u0439 \\u0440\\u043e\\u0437\\u0432'\\u044f\\u0437\\u043e\\u043a\",\"x\":[0.0,0.020408162847161293,0.040816325694322586,0.06122449040412903,0.08163265138864517,0.10204081237316132,0.12244898080825806,0.1428571343421936,0.16326530277729034,0.18367347121238708,0.20408162474632263,0.22448979318141937,0.2448979616165161,0.26530611515045166,0.2857142686843872,0.30612245202064514,0.3265306055545807,0.34693875908851624,0.36734694242477417,0.3877550959587097,0.40816324949264526,0.4285714328289032,0.44897958636283875,0.4693877398967743,0.4897959232330322,0.5102040767669678,0.5306122303009033,0.5510204434394836,0.5714285969734192,0.5918367505073547,0.6122449040412903,0.6326530575752258,0.6530612111091614,0.6734694242477417,0.6938775777816772,0.7142857313156128,0.7346938848495483,0.7551020383834839,0.7755101919174194,0.795918345451355,0.8163265585899353,0.8367347121238708,0.8571428656578064,0.8775510191917419,0.8979591727256775,0.918367326259613,0.9387755393981934,0.9591836929321289,0.9795918464660645,1.0],\"y\":[0.3516571398171347,0.35427305834855793,0.35707686084824813,0.36007409203765395,0.3632706945399576,0.36667303537818874,0.3702879314727547,0.3741226716579683,0.3781850625394369,0.3824834439260536,0.3870267328334544,0.3918244738361947,0.39688686237020043,0.40222480094726254,0.4078499589814171,0.4137748267753615,0.42001274567997254,0.4265780274812287,0.43348600465379833,0.4407530792933725,0.44839687308336224,0.45643629805920316,0.4648916276091925,0.47378468694240655,0.48313895358907655,0.4929796607463167,0.5033340425818774,0.5142314946486771,0.5257036607253944,0.5377848495372013,0.5505121617548805,0.5639258041009027,0.5780694072593492,0.5929904284548486,0.6087403785724167,0.6253755399154369,0.6429573119088581,0.6615528418940969,0.6812356958393393,0.7020866251250732,0.7241945123276744,0.7476571208437237,0.772582649363971,0.7990908298354884,0.8273145621761323,0.8574017488833628,0.8895175417696207,0.9238464909812236,0.9605960979945481,1.0000000000000004],\"type\":\"scatter\"},{\"mode\":\"lines\",\"name\":\"\\u041d\\u0430\\u0431\\u043b\\u0438\\u0436\\u0435\\u043d\\u0438\\u0439 \\u0440\\u043e\\u0437\\u0432'\\u044f\\u0437\\u043e\\u043a\",\"x\":[0.0,0.020408162847161293,0.040816325694322586,0.06122449040412903,0.08163265138864517,0.10204081237316132,0.12244898080825806,0.1428571343421936,0.16326530277729034,0.18367347121238708,0.20408162474632263,0.22448979318141937,0.2448979616165161,0.26530611515045166,0.2857142686843872,0.30612245202064514,0.3265306055545807,0.34693875908851624,0.36734694242477417,0.3877550959587097,0.40816324949264526,0.4285714328289032,0.44897958636283875,0.4693877398967743,0.4897959232330322,0.5102040767669678,0.5306122303009033,0.5510204434394836,0.5714285969734192,0.5918367505073547,0.6122449040412903,0.6326530575752258,0.6530612111091614,0.6734694242477417,0.6938775777816772,0.7142857313156128,0.7346938848495483,0.7551020383834839,0.7755101919174194,0.795918345451355,0.8163265585899353,0.8367347121238708,0.8571428656578064,0.8775510191917419,0.8979591727256775,0.918367326259613,0.9387755393981934,0.9591836929321289,0.9795918464660645,1.0],\"y\":[0.3523425563018059,0.35499651014289413,0.3578174876819688,0.3608153740751391,0.3640000668024136,0.36738148714898156,0.3709695938398327,0.3747743969365676,0.3788059996257005,0.38307461461458325,0.3875906142205798,0.3923645926792474,0.3974074079136122,0.40273026274053186,0.40834479672187096,0.4142631792713096,0.42049818580166454,0.4270633694648165,0.4339731694993022,0.441243022625828,0.4488895783254128,0.4569308355865991,0.46538627800641363,0.47427712347090034,0.483626475492067,0.49345946540074875,0.503803520514435,0.5146885277495479,0.5261469006728391,0.5382139501522425,0.5509279381200441,0.5643302908513136,0.5784657912460529,0.5933828369239998,0.609133514548201,0.625774172606896,0.6433656534800986,0.6619738728052026,0.6816705395485022,0.7025341158434931,0.7246511390498834,0.7481175505671592,0.7730410030763412,0.7995427549662584,0.8277598394518241,0.8578465798101634,0.8899746534808105,0.9243296420175936,0.9611034328499662,1.000478166825903],\"type\":\"scatter\"}],                        {\"template\":{\"data\":{\"histogram2dcontour\":[{\"type\":\"histogram2dcontour\",\"colorbar\":{\"outlinewidth\":0,\"ticks\":\"\"},\"colorscale\":[[0.0,\"#0d0887\"],[0.1111111111111111,\"#46039f\"],[0.2222222222222222,\"#7201a8\"],[0.3333333333333333,\"#9c179e\"],[0.4444444444444444,\"#bd3786\"],[0.5555555555555556,\"#d8576b\"],[0.6666666666666666,\"#ed7953\"],[0.7777777777777778,\"#fb9f3a\"],[0.8888888888888888,\"#fdca26\"],[1.0,\"#f0f921\"]]}],\"choropleth\":[{\"type\":\"choropleth\",\"colorbar\":{\"outlinewidth\":0,\"ticks\":\"\"}}],\"histogram2d\":[{\"type\":\"histogram2d\",\"colorbar\":{\"outlinewidth\":0,\"ticks\":\"\"},\"colorscale\":[[0.0,\"#0d0887\"],[0.1111111111111111,\"#46039f\"],[0.2222222222222222,\"#7201a8\"],[0.3333333333333333,\"#9c179e\"],[0.4444444444444444,\"#bd3786\"],[0.5555555555555556,\"#d8576b\"],[0.6666666666666666,\"#ed7953\"],[0.7777777777777778,\"#fb9f3a\"],[0.8888888888888888,\"#fdca26\"],[1.0,\"#f0f921\"]]}],\"heatmap\":[{\"type\":\"heatmap\",\"colorbar\":{\"outlinewidth\":0,\"ticks\":\"\"},\"colorscale\":[[0.0,\"#0d0887\"],[0.1111111111111111,\"#46039f\"],[0.2222222222222222,\"#7201a8\"],[0.3333333333333333,\"#9c179e\"],[0.4444444444444444,\"#bd3786\"],[0.5555555555555556,\"#d8576b\"],[0.6666666666666666,\"#ed7953\"],[0.7777777777777778,\"#fb9f3a\"],[0.8888888888888888,\"#fdca26\"],[1.0,\"#f0f921\"]]}],\"heatmapgl\":[{\"type\":\"heatmapgl\",\"colorbar\":{\"outlinewidth\":0,\"ticks\":\"\"},\"colorscale\":[[0.0,\"#0d0887\"],[0.1111111111111111,\"#46039f\"],[0.2222222222222222,\"#7201a8\"],[0.3333333333333333,\"#9c179e\"],[0.4444444444444444,\"#bd3786\"],[0.5555555555555556,\"#d8576b\"],[0.6666666666666666,\"#ed7953\"],[0.7777777777777778,\"#fb9f3a\"],[0.8888888888888888,\"#fdca26\"],[1.0,\"#f0f921\"]]}],\"contourcarpet\":[{\"type\":\"contourcarpet\",\"colorbar\":{\"outlinewidth\":0,\"ticks\":\"\"}}],\"contour\":[{\"type\":\"contour\",\"colorbar\":{\"outlinewidth\":0,\"ticks\":\"\"},\"colorscale\":[[0.0,\"#0d0887\"],[0.1111111111111111,\"#46039f\"],[0.2222222222222222,\"#7201a8\"],[0.3333333333333333,\"#9c179e\"],[0.4444444444444444,\"#bd3786\"],[0.5555555555555556,\"#d8576b\"],[0.6666666666666666,\"#ed7953\"],[0.7777777777777778,\"#fb9f3a\"],[0.8888888888888888,\"#fdca26\"],[1.0,\"#f0f921\"]]}],\"surface\":[{\"type\":\"surface\",\"colorbar\":{\"outlinewidth\":0,\"ticks\":\"\"},\"colorscale\":[[0.0,\"#0d0887\"],[0.1111111111111111,\"#46039f\"],[0.2222222222222222,\"#7201a8\"],[0.3333333333333333,\"#9c179e\"],[0.4444444444444444,\"#bd3786\"],[0.5555555555555556,\"#d8576b\"],[0.6666666666666666,\"#ed7953\"],[0.7777777777777778,\"#fb9f3a\"],[0.8888888888888888,\"#fdca26\"],[1.0,\"#f0f921\"]]}],\"mesh3d\":[{\"type\":\"mesh3d\",\"colorbar\":{\"outlinewidth\":0,\"ticks\":\"\"}}],\"scatter\":[{\"fillpattern\":{\"fillmode\":\"overlay\",\"size\":10,\"solidity\":0.2},\"type\":\"scatter\"}],\"parcoords\":[{\"type\":\"parcoords\",\"line\":{\"colorbar\":{\"outlinewidth\":0,\"ticks\":\"\"}}}],\"scatterpolargl\":[{\"type\":\"scatterpolargl\",\"marker\":{\"colorbar\":{\"outlinewidth\":0,\"ticks\":\"\"}}}],\"bar\":[{\"error_x\":{\"color\":\"#2a3f5f\"},\"error_y\":{\"color\":\"#2a3f5f\"},\"marker\":{\"line\":{\"color\":\"#E5ECF6\",\"width\":0.5},\"pattern\":{\"fillmode\":\"overlay\",\"size\":10,\"solidity\":0.2}},\"type\":\"bar\"}],\"scattergeo\":[{\"type\":\"scattergeo\",\"marker\":{\"colorbar\":{\"outlinewidth\":0,\"ticks\":\"\"}}}],\"scatterpolar\":[{\"type\":\"scatterpolar\",\"marker\":{\"colorbar\":{\"outlinewidth\":0,\"ticks\":\"\"}}}],\"histogram\":[{\"marker\":{\"pattern\":{\"fillmode\":\"overlay\",\"size\":10,\"solidity\":0.2}},\"type\":\"histogram\"}],\"scattergl\":[{\"type\":\"scattergl\",\"marker\":{\"colorbar\":{\"outlinewidth\":0,\"ticks\":\"\"}}}],\"scatter3d\":[{\"type\":\"scatter3d\",\"line\":{\"colorbar\":{\"outlinewidth\":0,\"ticks\":\"\"}},\"marker\":{\"colorbar\":{\"outlinewidth\":0,\"ticks\":\"\"}}}],\"scattermapbox\":[{\"type\":\"scattermapbox\",\"marker\":{\"colorbar\":{\"outlinewidth\":0,\"ticks\":\"\"}}}],\"scatterternary\":[{\"type\":\"scatterternary\",\"marker\":{\"colorbar\":{\"outlinewidth\":0,\"ticks\":\"\"}}}],\"scattercarpet\":[{\"type\":\"scattercarpet\",\"marker\":{\"colorbar\":{\"outlinewidth\":0,\"ticks\":\"\"}}}],\"carpet\":[{\"aaxis\":{\"endlinecolor\":\"#2a3f5f\",\"gridcolor\":\"white\",\"linecolor\":\"white\",\"minorgridcolor\":\"white\",\"startlinecolor\":\"#2a3f5f\"},\"baxis\":{\"endlinecolor\":\"#2a3f5f\",\"gridcolor\":\"white\",\"linecolor\":\"white\",\"minorgridcolor\":\"white\",\"startlinecolor\":\"#2a3f5f\"},\"type\":\"carpet\"}],\"table\":[{\"cells\":{\"fill\":{\"color\":\"#EBF0F8\"},\"line\":{\"color\":\"white\"}},\"header\":{\"fill\":{\"color\":\"#C8D4E3\"},\"line\":{\"color\":\"white\"}},\"type\":\"table\"}],\"barpolar\":[{\"marker\":{\"line\":{\"color\":\"#E5ECF6\",\"width\":0.5},\"pattern\":{\"fillmode\":\"overlay\",\"size\":10,\"solidity\":0.2}},\"type\":\"barpolar\"}],\"pie\":[{\"automargin\":true,\"type\":\"pie\"}]},\"layout\":{\"autotypenumbers\":\"strict\",\"colorway\":[\"#636efa\",\"#EF553B\",\"#00cc96\",\"#ab63fa\",\"#FFA15A\",\"#19d3f3\",\"#FF6692\",\"#B6E880\",\"#FF97FF\",\"#FECB52\"],\"font\":{\"color\":\"#2a3f5f\"},\"hovermode\":\"closest\",\"hoverlabel\":{\"align\":\"left\"},\"paper_bgcolor\":\"white\",\"plot_bgcolor\":\"#E5ECF6\",\"polar\":{\"bgcolor\":\"#E5ECF6\",\"angularaxis\":{\"gridcolor\":\"white\",\"linecolor\":\"white\",\"ticks\":\"\"},\"radialaxis\":{\"gridcolor\":\"white\",\"linecolor\":\"white\",\"ticks\":\"\"}},\"ternary\":{\"bgcolor\":\"#E5ECF6\",\"aaxis\":{\"gridcolor\":\"white\",\"linecolor\":\"white\",\"ticks\":\"\"},\"baxis\":{\"gridcolor\":\"white\",\"linecolor\":\"white\",\"ticks\":\"\"},\"caxis\":{\"gridcolor\":\"white\",\"linecolor\":\"white\",\"ticks\":\"\"}},\"coloraxis\":{\"colorbar\":{\"outlinewidth\":0,\"ticks\":\"\"}},\"colorscale\":{\"sequential\":[[0.0,\"#0d0887\"],[0.1111111111111111,\"#46039f\"],[0.2222222222222222,\"#7201a8\"],[0.3333333333333333,\"#9c179e\"],[0.4444444444444444,\"#bd3786\"],[0.5555555555555556,\"#d8576b\"],[0.6666666666666666,\"#ed7953\"],[0.7777777777777778,\"#fb9f3a\"],[0.8888888888888888,\"#fdca26\"],[1.0,\"#f0f921\"]],\"sequentialminus\":[[0.0,\"#0d0887\"],[0.1111111111111111,\"#46039f\"],[0.2222222222222222,\"#7201a8\"],[0.3333333333333333,\"#9c179e\"],[0.4444444444444444,\"#bd3786\"],[0.5555555555555556,\"#d8576b\"],[0.6666666666666666,\"#ed7953\"],[0.7777777777777778,\"#fb9f3a\"],[0.8888888888888888,\"#fdca26\"],[1.0,\"#f0f921\"]],\"diverging\":[[0,\"#8e0152\"],[0.1,\"#c51b7d\"],[0.2,\"#de77ae\"],[0.3,\"#f1b6da\"],[0.4,\"#fde0ef\"],[0.5,\"#f7f7f7\"],[0.6,\"#e6f5d0\"],[0.7,\"#b8e186\"],[0.8,\"#7fbc41\"],[0.9,\"#4d9221\"],[1,\"#276419\"]]},\"xaxis\":{\"gridcolor\":\"white\",\"linecolor\":\"white\",\"ticks\":\"\",\"title\":{\"standoff\":15},\"zerolinecolor\":\"white\",\"automargin\":true,\"zerolinewidth\":2},\"yaxis\":{\"gridcolor\":\"white\",\"linecolor\":\"white\",\"ticks\":\"\",\"title\":{\"standoff\":15},\"zerolinecolor\":\"white\",\"automargin\":true,\"zerolinewidth\":2},\"scene\":{\"xaxis\":{\"backgroundcolor\":\"#E5ECF6\",\"gridcolor\":\"white\",\"linecolor\":\"white\",\"showbackground\":true,\"ticks\":\"\",\"zerolinecolor\":\"white\",\"gridwidth\":2},\"yaxis\":{\"backgroundcolor\":\"#E5ECF6\",\"gridcolor\":\"white\",\"linecolor\":\"white\",\"showbackground\":true,\"ticks\":\"\",\"zerolinecolor\":\"white\",\"gridwidth\":2},\"zaxis\":{\"backgroundcolor\":\"#E5ECF6\",\"gridcolor\":\"white\",\"linecolor\":\"white\",\"showbackground\":true,\"ticks\":\"\",\"zerolinecolor\":\"white\",\"gridwidth\":2}},\"shapedefaults\":{\"line\":{\"color\":\"#2a3f5f\"}},\"annotationdefaults\":{\"arrowcolor\":\"#2a3f5f\",\"arrowhead\":0,\"arrowwidth\":1},\"geo\":{\"bgcolor\":\"white\",\"landcolor\":\"#E5ECF6\",\"subunitcolor\":\"white\",\"showland\":true,\"showlakes\":true,\"lakecolor\":\"white\"},\"title\":{\"x\":0.05},\"mapbox\":{\"style\":\"light\"}}},\"yaxis\":{\"title\":{\"text\":\"\\u0417\\u043d\\u0430\\u0447\\u0435\\u043d\\u043d\\u044f \\u0444\\u0443\\u043d\\u043a\\u0446\\u0456\\u0457\",\"font\":{\"size\":20}},\"tickfont\":{\"size\":16}},\"xaxis\":{\"title\":{\"text\":\"\\u0422\\u043e\\u0447\\u043a\\u0438 \\u043a\\u043e\\u043b\\u043e\\u043a\\u0430\\u0446\\u0456\\u0457\",\"font\":{\"size\":20}},\"tickfont\":{\"size\":16}},\"legend\":{\"font\":{\"size\":18}}},                        {\"responsive\": true}                    ).then(function(){\n",
              "                            \n",
              "var gd = document.getElementById('3e322d52-8a8f-4964-a134-d24e5f2a3140');\n",
              "var x = new MutationObserver(function (mutations, observer) {{\n",
              "        var display = window.getComputedStyle(gd).display;\n",
              "        if (!display || display === 'none') {{\n",
              "            console.log([gd, 'removed!']);\n",
              "            Plotly.purge(gd);\n",
              "            observer.disconnect();\n",
              "        }}\n",
              "}});\n",
              "\n",
              "// Listen for the removal of the full notebook cells\n",
              "var notebookContainer = gd.closest('#notebook-container');\n",
              "if (notebookContainer) {{\n",
              "    x.observe(notebookContainer, {childList: true});\n",
              "}}\n",
              "\n",
              "// Listen for the clearing of the current output cell\n",
              "var outputEl = gd.closest('.output');\n",
              "if (outputEl) {{\n",
              "    x.observe(outputEl, {childList: true});\n",
              "}}\n",
              "\n",
              "                        })                };                            </script>        </div>\n",
              "</body>\n",
              "</html>"
            ]
          },
          "metadata": {}
        },
        {
          "output_type": "execute_result",
          "data": {
            "text/plain": [
              "0"
            ]
          },
          "metadata": {},
          "execution_count": 367
        }
      ]
    },
    {
      "cell_type": "code",
      "source": [
        "from sklearn.metrics import mean_absolute_percentage_error\n",
        "\n",
        "mean_absolute_percentage_error(true_y, pred_y)"
      ],
      "metadata": {
        "colab": {
          "base_uri": "https://localhost:8080/"
        },
        "id": "a6E9A-wc82ey",
        "outputId": "177746b4-58c3-4f30-c57c-5d6e8fec612e"
      },
      "id": "a6E9A-wc82ey",
      "execution_count": null,
      "outputs": [
        {
          "output_type": "execute_result",
          "data": {
            "text/plain": [
              "0.0010609372446527376"
            ]
          },
          "metadata": {},
          "execution_count": 368
        }
      ]
    }
  ],
  "metadata": {
    "kernelspec": {
      "display_name": "Python 3 (ipykernel)",
      "language": "python",
      "name": "python3"
    },
    "language_info": {
      "codemirror_mode": {
        "name": "ipython",
        "version": 3
      },
      "file_extension": ".py",
      "mimetype": "text/x-python",
      "name": "python",
      "nbconvert_exporter": "python",
      "pygments_lexer": "ipython3",
      "version": "3.11.3"
    },
    "colab": {
      "provenance": []
    }
  },
  "nbformat": 4,
  "nbformat_minor": 5
}