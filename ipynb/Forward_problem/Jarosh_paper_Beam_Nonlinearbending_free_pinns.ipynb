{
  "cells": [
    {
      "cell_type": "markdown",
      "source": [
        "#Прогин балки.\n",
        "\n",
        "Геометрично нелінійний випадок\n",
        "\n",
        "$\\cfrac{d^2w}{dx^2}=\\cfrac{M(x)}{EI} \\left( 1+ \\left(\\cfrac{dw}{dx} \\right)^2 \\right)^{3/2}$\n",
        "\n",
        "Лінійний випадок\n",
        "\n",
        "$\\cfrac{d^2w}{dx^2}=\\cfrac{M(x)}{EI}$\n",
        "\n"
      ],
      "metadata": {
        "id": "rbH1GySAj2cb"
      },
      "id": "rbH1GySAj2cb"
    },
    {
      "cell_type": "markdown",
      "source": [
        "##Защемлення\n",
        "\n",
        "\n",
        "![picture](https://drive.google.com/uc?id=19vWQY0lymRwPEDH2wq3UlpscL9E-5VVI)\n",
        "\n",
        "\n",
        "Граничні умови\n",
        "\n",
        "$w(0)=0,$\n",
        "$\\cfrac{dw}{dx}(0)=0$\n",
        "\n",
        "Розв'язок\n",
        "\n",
        "$w=\\cfrac{-P}{EI}x^2 \\left( \\cfrac{L}{2} - \\cfrac{x}{6} \\right)$\n",
        "\n"
      ],
      "metadata": {
        "id": "hCqU1qlGCCAx"
      },
      "id": "hCqU1qlGCCAx"
    },
    {
      "cell_type": "code",
      "source": [
        "import seaborn as sns\n",
        "import matplotlib.pyplot as plt\n",
        "import numpy as np\n",
        "from mpl_toolkits.mplot3d import Axes3D\n",
        "import math\n"
      ],
      "metadata": {
        "id": "MzT5jgdUCYi_"
      },
      "id": "MzT5jgdUCYi_",
      "execution_count": null,
      "outputs": []
    },
    {
      "cell_type": "code",
      "source": [
        "math.pi"
      ],
      "metadata": {
        "colab": {
          "base_uri": "https://localhost:8080/"
        },
        "id": "cGP6yGHDeAgc",
        "outputId": "85effad7-f0cc-496c-c444-684c7726dd2c"
      },
      "id": "cGP6yGHDeAgc",
      "execution_count": null,
      "outputs": [
        {
          "output_type": "execute_result",
          "data": {
            "text/plain": [
              "3.141592653589793"
            ]
          },
          "metadata": {},
          "execution_count": 355
        }
      ]
    },
    {
      "cell_type": "code",
      "source": [
        "L = 1.0\n",
        "q = 30\n",
        "# G = 2.77 * 10**4\n",
        "# nu = 0.3\n",
        "# E = 2*G*(1+nu)\n",
        "E = 70*10**9\n",
        "h = 0.01\n",
        "I = math.pi * (h**4)/64\n",
        "print(I)"
      ],
      "metadata": {
        "id": "4BUVvwxMCJ_9",
        "colab": {
          "base_uri": "https://localhost:8080/"
        },
        "outputId": "512fe0ef-25d8-4f06-babc-dc3624921ec3"
      },
      "id": "4BUVvwxMCJ_9",
      "execution_count": null,
      "outputs": [
        {
          "output_type": "stream",
          "name": "stdout",
          "text": [
            "4.908738521234052e-10\n"
          ]
        }
      ]
    },
    {
      "cell_type": "code",
      "source": [
        "def w(x, q, E, I, L):\n",
        "    return q/(E*I)*x**2*(L/2 - x/6)"
      ],
      "metadata": {
        "id": "YC4MH1-fCL29"
      },
      "id": "YC4MH1-fCL29",
      "execution_count": null,
      "outputs": []
    },
    {
      "cell_type": "code",
      "source": [
        "import matplotlib.pyplot as plt\n",
        "import numpy as np\n",
        "\n",
        "# Генерація значень x в діапазоні від -10 до 10\n",
        "x_values = np.linspace(0, L, 100)\n",
        "\n",
        "# Обчислення значень y за допомогою функції\n",
        "y_values = w(x_values, q, E, I, L)\n",
        "\n",
        "# Побудова графіка\n",
        "plt.plot(x_values, y_values, label='w(x)')\n",
        "plt.title('Прогин')\n",
        "plt.xlabel('x')\n",
        "plt.ylabel('w')\n",
        "plt.legend()\n",
        "plt.grid(True)\n",
        "plt.show()\n"
      ],
      "metadata": {
        "id": "91TpnGbIGhga",
        "colab": {
          "base_uri": "https://localhost:8080/",
          "height": 472
        },
        "outputId": "226a03a5-4bb2-47bd-f0da-90deb7c84e35"
      },
      "id": "91TpnGbIGhga",
      "execution_count": null,
      "outputs": [
        {
          "output_type": "display_data",
          "data": {
            "text/plain": [
              "<Figure size 640x480 with 1 Axes>"
            ],
            "image/png": "[encoded data removed]"
          },
          "metadata": {}
        }
      ]
    },
    {
      "cell_type": "code",
      "source": [
        "w(L, q, E, I, L)"
      ],
      "metadata": {
        "colab": {
          "base_uri": "https://localhost:8080/"
        },
        "id": "vXjHqg3dNBH1",
        "outputId": "2a71fd56-9dc4-4a65-e94f-9e8697fe3a2e"
      },
      "id": "vXjHqg3dNBH1",
      "execution_count": null,
      "outputs": [
        {
          "output_type": "execute_result",
          "data": {
            "text/plain": [
              "0.29102618165375155"
            ]
          },
          "metadata": {},
          "execution_count": 359
        }
      ]
    },
    {
      "cell_type": "markdown",
      "source": [
        "#Розв'язок за допомогою PINN"
      ],
      "metadata": {
        "id": "mbWFHPQ0CP89"
      },
      "id": "mbWFHPQ0CP89"
    },
    {
      "cell_type": "code",
      "execution_count": null,
      "id": "52680b11",
      "metadata": {
        "id": "52680b11"
      },
      "outputs": [],
      "source": [
        "import torch\n",
        "import torch.nn as nn\n",
        "import torch.optim as optim\n",
        "import seaborn as sns\n",
        "import matplotlib.pyplot as plt"
      ]
    },
    {
      "cell_type": "code",
      "execution_count": null,
      "id": "c42f60f1",
      "metadata": {
        "id": "c42f60f1"
      },
      "outputs": [],
      "source": [
        "class PINN(nn.Module):\n",
        "    def __init__(self):\n",
        "        super(PINN,self).__init__()\n",
        "        # def init_weights(m):\n",
        "        #     if isinstance(m, nn.Linear):\n",
        "        #         nn.init.xavier_uniform(m.weight)\n",
        "        #         m.bias.data.fill_(0.02)\n",
        "        self.net = nn.Sequential(\n",
        "            nn.Linear(1,64),\n",
        "            nn.Tanh(),\n",
        "            # nn.Linear(64,64),\n",
        "            # nn.Tanh(),\n",
        "            # nn.Linear(64,64),\n",
        "            # nn.ReLU(),\n",
        "            nn.Linear(64,1),\n",
        "            # nn.ReLU()\n",
        "        )\n",
        "\n",
        "        # self.apply(init_weights)\n",
        "        self.double()\n",
        "    def forward(self,x):\n",
        "        return self.net(x)"
      ]
    },
    {
      "cell_type": "code",
      "source": [
        "# x = torch.rand(10, 1, requires_grad = True)\n",
        "# x"
      ],
      "metadata": {
        "id": "CCEyURFU6WD9"
      },
      "id": "CCEyURFU6WD9",
      "execution_count": null,
      "outputs": []
    },
    {
      "cell_type": "code",
      "source": [
        "# x = (0 - 2)*torch.rand(10, 1, requires_grad = True) + 2 + 0.000000000001\n",
        "# x"
      ],
      "metadata": {
        "id": "hu7b2p2bEOh1"
      },
      "id": "hu7b2p2bEOh1",
      "execution_count": null,
      "outputs": []
    },
    {
      "cell_type": "code",
      "execution_count": null,
      "id": "0d3d62a8",
      "metadata": {
        "id": "0d3d62a8"
      },
      "outputs": [],
      "source": [
        "def initial_condition():\n",
        "    return torch.tensor([0.0])\n",
        "\n",
        "def boundary_condition():\n",
        "    return torch.tensor([0.0])"
      ]
    },
    {
      "cell_type": "code",
      "execution_count": null,
      "id": "6cf104d1",
      "metadata": {
        "id": "6cf104d1"
      },
      "outputs": [],
      "source": [
        "def generate_training_data(num_points, L):\n",
        "    # x = torch.rand(num_points, 1, requires_grad = True)\n",
        "\n",
        "    # x_rand = (0 - R)*torch.rand(int(num_points), 1, requires_grad = True) + R + 0.0001\n",
        "\n",
        "    # x_vals = torch.linspace(0+0.001, R-0.001, num_points, requires_grad = True)\n",
        "    # x_vals = x_vals + x_rand.flatten()\n",
        "    # x = torch.stack([x_vals.double()], dim=1)\n",
        "\n",
        "\n",
        "    # x = (0 - L)*torch.rand(int(num_points), 1, requires_grad = True) + L\n",
        "\n",
        "    x_vals = torch.linspace(0, L, num_points, requires_grad = True)\n",
        "    x = torch.stack([x_vals.double()], dim=1)\n",
        "\n",
        "\n",
        "    return x"
      ]
    },
    {
      "cell_type": "code",
      "source": [
        "tmp = torch.tensor([0.4])\n",
        "tmp.view(-1,1)"
      ],
      "metadata": {
        "colab": {
          "base_uri": "https://localhost:8080/"
        },
        "id": "JzbvspzLVWMj",
        "outputId": "f73681c7-264d-4411-aa17-3fa092db8546"
      },
      "id": "JzbvspzLVWMj",
      "execution_count": null,
      "outputs": [
        {
          "output_type": "execute_result",
          "data": {
            "text/plain": [
              "tensor([[0.4000]])"
            ]
          },
          "metadata": {},
          "execution_count": 366
        }
      ]
    },
    {
      "cell_type": "code",
      "execution_count": null,
      "id": "a42303a2",
      "metadata": {
        "id": "a42303a2"
      },
      "outputs": [],
      "source": [
        "def generate_boundary_points(b_point):\n",
        "    x_boundary = torch.tensor([b_point],  requires_grad = True)\n",
        "\n",
        "\n",
        "    return x_boundary.view(-1,1)\n",
        "\n",
        "\n",
        "def generate_boundary_training_data(b_point):\n",
        "    x_boundary = generate_boundary_points(b_point)\n",
        "\n",
        "\n",
        "    return x_boundary"
      ]
    },
    {
      "cell_type": "markdown",
      "source": [
        "$\\cfrac{d^2w}{dx^2}=\\cfrac{M(x)}{EI} \\left( 1+ \\left(\\cfrac{dw}{dx} \\right)^2 \\right)^{3/2}$\n"
      ],
      "metadata": {
        "id": "F_1-hsObitWD"
      },
      "id": "F_1-hsObitWD"
    },
    {
      "cell_type": "code",
      "execution_count": null,
      "id": "9f9e7a39",
      "metadata": {
        "id": "9f9e7a39"
      },
      "outputs": [],
      "source": [
        "def pde(x, model):\n",
        "\n",
        "    x = x.double()\n",
        "\n",
        "    # print('*********************************************************')\n",
        "    # print(x.size())\n",
        "    # print(x.dtype)\n",
        "\n",
        "    input_data = x\n",
        "\n",
        "    # print('*********************************************************')\n",
        "    # print(input_data.size())\n",
        "    # print(input_data.dtype)\n",
        "\n",
        "    u = model(input_data)\n",
        "    u_x = torch.autograd.grad(u, x, grad_outputs= torch.ones_like(u), create_graph= True, retain_graph=True)[0]\n",
        "    u_xx = torch.autograd.grad(u_x, x, grad_outputs= torch.ones_like(u_x), create_graph= True, retain_graph=True)[0]\n",
        "    u_xxx = torch.autograd.grad(u_xx, x, grad_outputs= torch.ones_like(u_xx), create_graph= True, retain_graph=True)[0]\n",
        "    u_xxxx = torch.autograd.grad(u_xxx, x, grad_outputs= torch.ones_like(u_xxx), create_graph= True, retain_graph=True)[0]\n",
        "    # print('*********************************************************')\n",
        "    # print(u_x.size())\n",
        "    # print(u_x.dtype)\n",
        "    # print('*********************************************************')\n",
        "    # print(u.size())\n",
        "    # print(u.dtype)\n",
        "    # print('*********************************************************')\n",
        "    # print(x.size())\n",
        "    # print(x.dtype)\n",
        "\n",
        "    eq_residual = u_xx\n",
        "    return eq_residual"
      ]
    },
    {
      "cell_type": "code",
      "execution_count": null,
      "id": "00395c93",
      "metadata": {
        "id": "00395c93"
      },
      "outputs": [],
      "source": [
        "def train_PINN(model, num_iterations, num_points, q, L, E, I):\n",
        "\n",
        "\n",
        "    optimizer = optim.Adam(model.parameters(), lr=1e-4)\n",
        "    # optimizer = optim.SGD(model.parameters(), lr=1e-3)\n",
        "    # optimizer = optim.LBFGS(model.parameters())\n",
        "    # breakpoint()\n",
        "    # x = generate_training_data(num_points, R)\n",
        "    for  iteration in range(num_iterations):\n",
        "        optimizer.zero_grad()\n",
        "\n",
        "        # breakpoint()\n",
        "\n",
        "        x = generate_training_data(num_points, L)\n",
        "\n",
        "        # print('generate_training_data')\n",
        "        # print(x)\n",
        "        # breakpoint()\n",
        "\n",
        "\n",
        "        x_b = generate_boundary_training_data(L)\n",
        "\n",
        "\n",
        "        # print('generate_boundary_training_data')\n",
        "        # print(x_b)\n",
        "        # breakpoint()\n",
        "\n",
        "        x_initial = torch.tensor([0.0],  requires_grad = True)\n",
        "        x_initial = x_initial.view(-1,1)\n",
        "        x_initial = x_initial.double()\n",
        "\n",
        "        # print('x_initial')\n",
        "        # print(x_initial)\n",
        "        # breakpoint()\n",
        "\n",
        "        u_initial_x = initial_condition()\n",
        "        u_initial_x = u_initial_x.double()\n",
        "\n",
        "        # print('u_initial_x')\n",
        "        # print(u_initial_x)\n",
        "        # breakpoint()\n",
        "\n",
        "\n",
        "        u_boundary_x = boundary_condition()\n",
        "\n",
        "        # print('boundary_condition')\n",
        "        # print(u_boundary_x)\n",
        "        # breakpoint()\n",
        "\n",
        "        residual = pde(x, model)\n",
        "\n",
        "        # print('residual')\n",
        "        # print(residual)\n",
        "        # breakpoint()\n",
        "\n",
        "        u_boundary_x = u_boundary_x.double()\n",
        "        x_b = x_b.double()\n",
        "\n",
        "        ub = model(x_b)\n",
        "        ui = model(x_initial)\n",
        "\n",
        "        ub_x = torch.autograd.grad(ub, x_b, grad_outputs= torch.ones_like(ub), create_graph= True, retain_graph=True)[0]\n",
        "        ub_xx = torch.autograd.grad(ub_x, x_b, grad_outputs= torch.ones_like(ub_x), create_graph= True, retain_graph=True)[0]\n",
        "        ub_xxx = torch.autograd.grad(ub_xx, x_b, grad_outputs= torch.ones_like(ub_xx), create_graph= True, retain_graph=True)[0]\n",
        "\n",
        "        ui_x = torch.autograd.grad(ui, x_initial, grad_outputs= torch.ones_like(ui), create_graph= True, retain_graph=True)[0]\n",
        "\n",
        "\n",
        "        u = model(x)\n",
        "        u_x = torch.autograd.grad(u, x, grad_outputs= torch.ones_like(u), create_graph= True, retain_graph=True)[0]\n",
        "\n",
        "\n",
        "\n",
        "\n",
        "\n",
        "        # print('ub_x')\n",
        "        # print(ub_x)\n",
        "\n",
        "        # print('ui_x')\n",
        "        # print(ui_x)\n",
        "\n",
        "        # print('ui')\n",
        "        # print(ui)\n",
        "\n",
        "        # print('ub')\n",
        "        # print(ub)\n",
        "\n",
        "        # breakpoint()\n",
        "\n",
        "        p = q*L-q*x\n",
        "\n",
        "        # print(p.dtype)\n",
        "\n",
        "        # residual_r = torch.tensor([(p)/(E*I)]).double()*(1+(u_x)**2)**(3/2)\n",
        "        residual_r = (p)/(E*I)*(1+(u_x)**2)**(3/2)\n",
        "\n",
        "        residual_r = residual_r.double()\n",
        "\n",
        "        # print('residual_r')\n",
        "        # print(residual_r)\n",
        "        # breakpoint()\n",
        "\n",
        "        # loss =  nn.MSELoss()(u_boundary_x, ub) + \\\n",
        "        #         nn.MSELoss()(u_boundary_x, ub_x) + \\\n",
        "        #         nn.MSELoss()(u_initial_x, ui_x) + \\\n",
        "        #         nn.MSELoss()(residual, torch.zeros_like(residual))\n",
        "\n",
        "        # loss =  nn.MSELoss()(u_boundary_x, ub) + \\\n",
        "        #         nn.MSELoss()(u_boundary_x, ub_x) + \\\n",
        "        #         nn.MSELoss()(u_boundary_x, (x_b)*ub_xx + nu*ub_x) + \\\n",
        "        #         nn.MSELoss()(u_initial_x, ui_x) + \\\n",
        "        #         nn.MSELoss()(residual, residual_r)\n",
        "\n",
        "        loss =  nn.MSELoss()(u_boundary_x, ub_xx) + \\\n",
        "                nn.MSELoss()(u_boundary_x, ub_xxx) + \\\n",
        "                nn.MSELoss()(u_initial_x, ui_x) + \\\n",
        "                nn.MSELoss()(u_initial_x, ui) + \\\n",
        "                nn.MSELoss()(residual, residual_r)\n",
        "\n",
        "\n",
        "\n",
        "        # l1_regularization, l2_regularization = torch.tensor(0.0), torch.tensor(0.0)\n",
        "        # for param in model.parameters():\n",
        "        #     l1_regularization += torch.norm(param, 1)**2\n",
        "        #     l2_regularization += torch.norm(param, 2)**2\n",
        "\n",
        "        # loss = loss + l1_regularization + l2_regularization\n",
        "\n",
        "        # print('loss')\n",
        "        # print(loss)\n",
        "        # breakpoint()\n",
        "\n",
        "        loss.backward()\n",
        "\n",
        "        # breakpoint()\n",
        "\n",
        "        optimizer.step()\n",
        "\n",
        "        # breakpoint()\n",
        "\n",
        "        if iteration % 100 == 0:\n",
        "            print(\"itration\", iteration, \"loss\", loss )"
      ]
    },
    {
      "cell_type": "code",
      "execution_count": null,
      "id": "3565e7b3",
      "metadata": {
        "scrolled": true,
        "colab": {
          "base_uri": "https://localhost:8080/"
        },
        "id": "3565e7b3",
        "outputId": "fdae6e6d-47e3-4cca-e392-3135137dda5a"
      },
      "outputs": [
        {
          "output_type": "stream",
          "name": "stderr",
          "text": [
            "/usr/local/lib/python3.10/dist-packages/torch/nn/modules/loss.py:535: UserWarning:\n",
            "\n",
            "Using a target size (torch.Size([1, 1])) that is different to the input size (torch.Size([1])). This will likely lead to incorrect results due to broadcasting. Please ensure they have the same size.\n",
            "\n"
          ]
        },
        {
          "output_type": "stream",
          "name": "stdout",
          "text": [
            "itration 0 loss tensor(0.2339, dtype=torch.float64, grad_fn=<AddBackward0>)\n",
            "itration 100 loss tensor(0.1678, dtype=torch.float64, grad_fn=<AddBackward0>)\n",
            "itration 200 loss tensor(0.1517, dtype=torch.float64, grad_fn=<AddBackward0>)\n",
            "itration 300 loss tensor(0.1356, dtype=torch.float64, grad_fn=<AddBackward0>)\n",
            "itration 400 loss tensor(0.1199, dtype=torch.float64, grad_fn=<AddBackward0>)\n",
            "itration 500 loss tensor(0.1048, dtype=torch.float64, grad_fn=<AddBackward0>)\n",
            "itration 600 loss tensor(0.0905, dtype=torch.float64, grad_fn=<AddBackward0>)\n",
            "itration 700 loss tensor(0.0773, dtype=torch.float64, grad_fn=<AddBackward0>)\n",
            "itration 800 loss tensor(0.0652, dtype=torch.float64, grad_fn=<AddBackward0>)\n",
            "itration 900 loss tensor(0.0546, dtype=torch.float64, grad_fn=<AddBackward0>)\n",
            "itration 1000 loss tensor(0.0455, dtype=torch.float64, grad_fn=<AddBackward0>)\n",
            "itration 1100 loss tensor(0.0380, dtype=torch.float64, grad_fn=<AddBackward0>)\n",
            "itration 1200 loss tensor(0.0321, dtype=torch.float64, grad_fn=<AddBackward0>)\n",
            "itration 1300 loss tensor(0.0277, dtype=torch.float64, grad_fn=<AddBackward0>)\n",
            "itration 1400 loss tensor(0.0245, dtype=torch.float64, grad_fn=<AddBackward0>)\n",
            "itration 1500 loss tensor(0.0222, dtype=torch.float64, grad_fn=<AddBackward0>)\n",
            "itration 1600 loss tensor(0.0207, dtype=torch.float64, grad_fn=<AddBackward0>)\n",
            "itration 1700 loss tensor(0.0196, dtype=torch.float64, grad_fn=<AddBackward0>)\n",
            "itration 1800 loss tensor(0.0189, dtype=torch.float64, grad_fn=<AddBackward0>)\n",
            "itration 1900 loss tensor(0.0183, dtype=torch.float64, grad_fn=<AddBackward0>)\n",
            "itration 2000 loss tensor(0.0178, dtype=torch.float64, grad_fn=<AddBackward0>)\n",
            "itration 2100 loss tensor(0.0174, dtype=torch.float64, grad_fn=<AddBackward0>)\n",
            "itration 2200 loss tensor(0.0169, dtype=torch.float64, grad_fn=<AddBackward0>)\n",
            "itration 2300 loss tensor(0.0165, dtype=torch.float64, grad_fn=<AddBackward0>)\n",
            "itration 2400 loss tensor(0.0161, dtype=torch.float64, grad_fn=<AddBackward0>)\n",
            "itration 2500 loss tensor(0.0156, dtype=torch.float64, grad_fn=<AddBackward0>)\n",
            "itration 2600 loss tensor(0.0152, dtype=torch.float64, grad_fn=<AddBackward0>)\n",
            "itration 2700 loss tensor(0.0148, dtype=torch.float64, grad_fn=<AddBackward0>)\n",
            "itration 2800 loss tensor(0.0144, dtype=torch.float64, grad_fn=<AddBackward0>)\n",
            "itration 2900 loss tensor(0.0140, dtype=torch.float64, grad_fn=<AddBackward0>)\n",
            "itration 3000 loss tensor(0.0136, dtype=torch.float64, grad_fn=<AddBackward0>)\n",
            "itration 3100 loss tensor(0.0132, dtype=torch.float64, grad_fn=<AddBackward0>)\n",
            "itration 3200 loss tensor(0.0128, dtype=torch.float64, grad_fn=<AddBackward0>)\n",
            "itration 3300 loss tensor(0.0124, dtype=torch.float64, grad_fn=<AddBackward0>)\n",
            "itration 3400 loss tensor(0.0120, dtype=torch.float64, grad_fn=<AddBackward0>)\n",
            "itration 3500 loss tensor(0.0116, dtype=torch.float64, grad_fn=<AddBackward0>)\n",
            "itration 3600 loss tensor(0.0113, dtype=torch.float64, grad_fn=<AddBackward0>)\n",
            "itration 3700 loss tensor(0.0109, dtype=torch.float64, grad_fn=<AddBackward0>)\n",
            "itration 3800 loss tensor(0.0106, dtype=torch.float64, grad_fn=<AddBackward0>)\n",
            "itration 3900 loss tensor(0.0102, dtype=torch.float64, grad_fn=<AddBackward0>)\n",
            "itration 4000 loss tensor(0.0099, dtype=torch.float64, grad_fn=<AddBackward0>)\n",
            "itration 4100 loss tensor(0.0096, dtype=torch.float64, grad_fn=<AddBackward0>)\n",
            "itration 4200 loss tensor(0.0094, dtype=torch.float64, grad_fn=<AddBackward0>)\n",
            "itration 4300 loss tensor(0.0091, dtype=torch.float64, grad_fn=<AddBackward0>)\n",
            "itration 4400 loss tensor(0.0089, dtype=torch.float64, grad_fn=<AddBackward0>)\n",
            "itration 4500 loss tensor(0.0087, dtype=torch.float64, grad_fn=<AddBackward0>)\n",
            "itration 4600 loss tensor(0.0085, dtype=torch.float64, grad_fn=<AddBackward0>)\n",
            "itration 4700 loss tensor(0.0083, dtype=torch.float64, grad_fn=<AddBackward0>)\n",
            "itration 4800 loss tensor(0.0081, dtype=torch.float64, grad_fn=<AddBackward0>)\n",
            "itration 4900 loss tensor(0.0080, dtype=torch.float64, grad_fn=<AddBackward0>)\n",
            "itration 5000 loss tensor(0.0078, dtype=torch.float64, grad_fn=<AddBackward0>)\n",
            "itration 5100 loss tensor(0.0077, dtype=torch.float64, grad_fn=<AddBackward0>)\n",
            "itration 5200 loss tensor(0.0076, dtype=torch.float64, grad_fn=<AddBackward0>)\n",
            "itration 5300 loss tensor(0.0075, dtype=torch.float64, grad_fn=<AddBackward0>)\n",
            "itration 5400 loss tensor(0.0074, dtype=torch.float64, grad_fn=<AddBackward0>)\n",
            "itration 5500 loss tensor(0.0073, dtype=torch.float64, grad_fn=<AddBackward0>)\n",
            "itration 5600 loss tensor(0.0073, dtype=torch.float64, grad_fn=<AddBackward0>)\n",
            "itration 5700 loss tensor(0.0072, dtype=torch.float64, grad_fn=<AddBackward0>)\n",
            "itration 5800 loss tensor(0.0071, dtype=torch.float64, grad_fn=<AddBackward0>)\n",
            "itration 5900 loss tensor(0.0070, dtype=torch.float64, grad_fn=<AddBackward0>)\n",
            "itration 6000 loss tensor(0.0070, dtype=torch.float64, grad_fn=<AddBackward0>)\n",
            "itration 6100 loss tensor(0.0069, dtype=torch.float64, grad_fn=<AddBackward0>)\n",
            "itration 6200 loss tensor(0.0068, dtype=torch.float64, grad_fn=<AddBackward0>)\n",
            "itration 6300 loss tensor(0.0067, dtype=torch.float64, grad_fn=<AddBackward0>)\n",
            "itration 6400 loss tensor(0.0067, dtype=torch.float64, grad_fn=<AddBackward0>)\n",
            "itration 6500 loss tensor(0.0066, dtype=torch.float64, grad_fn=<AddBackward0>)\n",
            "itration 6600 loss tensor(0.0065, dtype=torch.float64, grad_fn=<AddBackward0>)\n",
            "itration 6700 loss tensor(0.0064, dtype=torch.float64, grad_fn=<AddBackward0>)\n",
            "itration 6800 loss tensor(0.0063, dtype=torch.float64, grad_fn=<AddBackward0>)\n",
            "itration 6900 loss tensor(0.0062, dtype=torch.float64, grad_fn=<AddBackward0>)\n",
            "itration 7000 loss tensor(0.0062, dtype=torch.float64, grad_fn=<AddBackward0>)\n",
            "itration 7100 loss tensor(0.0061, dtype=torch.float64, grad_fn=<AddBackward0>)\n",
            "itration 7200 loss tensor(0.0060, dtype=torch.float64, grad_fn=<AddBackward0>)\n",
            "itration 7300 loss tensor(0.0059, dtype=torch.float64, grad_fn=<AddBackward0>)\n",
            "itration 7400 loss tensor(0.0058, dtype=torch.float64, grad_fn=<AddBackward0>)\n",
            "itration 7500 loss tensor(0.0057, dtype=torch.float64, grad_fn=<AddBackward0>)\n",
            "itration 7600 loss tensor(0.0056, dtype=torch.float64, grad_fn=<AddBackward0>)\n",
            "itration 7700 loss tensor(0.0056, dtype=torch.float64, grad_fn=<AddBackward0>)\n",
            "itration 7800 loss tensor(0.0055, dtype=torch.float64, grad_fn=<AddBackward0>)\n",
            "itration 7900 loss tensor(0.0054, dtype=torch.float64, grad_fn=<AddBackward0>)\n",
            "itration 8000 loss tensor(0.0053, dtype=torch.float64, grad_fn=<AddBackward0>)\n",
            "itration 8100 loss tensor(0.0052, dtype=torch.float64, grad_fn=<AddBackward0>)\n",
            "itration 8200 loss tensor(0.0051, dtype=torch.float64, grad_fn=<AddBackward0>)\n",
            "itration 8300 loss tensor(0.0050, dtype=torch.float64, grad_fn=<AddBackward0>)\n",
            "itration 8400 loss tensor(0.0049, dtype=torch.float64, grad_fn=<AddBackward0>)\n",
            "itration 8500 loss tensor(0.0049, dtype=torch.float64, grad_fn=<AddBackward0>)\n",
            "itration 8600 loss tensor(0.0048, dtype=torch.float64, grad_fn=<AddBackward0>)\n",
            "itration 8700 loss tensor(0.0047, dtype=torch.float64, grad_fn=<AddBackward0>)\n",
            "itration 8800 loss tensor(0.0046, dtype=torch.float64, grad_fn=<AddBackward0>)\n",
            "itration 8900 loss tensor(0.0045, dtype=torch.float64, grad_fn=<AddBackward0>)\n",
            "itration 9000 loss tensor(0.0044, dtype=torch.float64, grad_fn=<AddBackward0>)\n",
            "itration 9100 loss tensor(0.0043, dtype=torch.float64, grad_fn=<AddBackward0>)\n",
            "itration 9200 loss tensor(0.0042, dtype=torch.float64, grad_fn=<AddBackward0>)\n",
            "itration 9300 loss tensor(0.0041, dtype=torch.float64, grad_fn=<AddBackward0>)\n",
            "itration 9400 loss tensor(0.0040, dtype=torch.float64, grad_fn=<AddBackward0>)\n",
            "itration 9500 loss tensor(0.0039, dtype=torch.float64, grad_fn=<AddBackward0>)\n",
            "itration 9600 loss tensor(0.0038, dtype=torch.float64, grad_fn=<AddBackward0>)\n",
            "itration 9700 loss tensor(0.0037, dtype=torch.float64, grad_fn=<AddBackward0>)\n",
            "itration 9800 loss tensor(0.0036, dtype=torch.float64, grad_fn=<AddBackward0>)\n",
            "itration 9900 loss tensor(0.0035, dtype=torch.float64, grad_fn=<AddBackward0>)\n",
            "itration 10000 loss tensor(0.0034, dtype=torch.float64, grad_fn=<AddBackward0>)\n",
            "itration 10100 loss tensor(0.0032, dtype=torch.float64, grad_fn=<AddBackward0>)\n",
            "itration 10200 loss tensor(0.0031, dtype=torch.float64, grad_fn=<AddBackward0>)\n",
            "itration 10300 loss tensor(0.0029, dtype=torch.float64, grad_fn=<AddBackward0>)\n",
            "itration 10400 loss tensor(0.0027, dtype=torch.float64, grad_fn=<AddBackward0>)\n",
            "itration 10500 loss tensor(0.0026, dtype=torch.float64, grad_fn=<AddBackward0>)\n",
            "itration 10600 loss tensor(0.0024, dtype=torch.float64, grad_fn=<AddBackward0>)\n",
            "itration 10700 loss tensor(0.0022, dtype=torch.float64, grad_fn=<AddBackward0>)\n",
            "itration 10800 loss tensor(0.0021, dtype=torch.float64, grad_fn=<AddBackward0>)\n",
            "itration 10900 loss tensor(0.0019, dtype=torch.float64, grad_fn=<AddBackward0>)\n",
            "itration 11000 loss tensor(0.0018, dtype=torch.float64, grad_fn=<AddBackward0>)\n",
            "itration 11100 loss tensor(0.0016, dtype=torch.float64, grad_fn=<AddBackward0>)\n",
            "itration 11200 loss tensor(0.0015, dtype=torch.float64, grad_fn=<AddBackward0>)\n",
            "itration 11300 loss tensor(0.0014, dtype=torch.float64, grad_fn=<AddBackward0>)\n",
            "itration 11400 loss tensor(0.0013, dtype=torch.float64, grad_fn=<AddBackward0>)\n",
            "itration 11500 loss tensor(0.0013, dtype=torch.float64, grad_fn=<AddBackward0>)\n",
            "itration 11600 loss tensor(0.0012, dtype=torch.float64, grad_fn=<AddBackward0>)\n",
            "itration 11700 loss tensor(0.0012, dtype=torch.float64, grad_fn=<AddBackward0>)\n",
            "itration 11800 loss tensor(0.0012, dtype=torch.float64, grad_fn=<AddBackward0>)\n",
            "itration 11900 loss tensor(0.0011, dtype=torch.float64, grad_fn=<AddBackward0>)\n",
            "itration 12000 loss tensor(0.0011, dtype=torch.float64, grad_fn=<AddBackward0>)\n",
            "itration 12100 loss tensor(0.0011, dtype=torch.float64, grad_fn=<AddBackward0>)\n",
            "itration 12200 loss tensor(0.0011, dtype=torch.float64, grad_fn=<AddBackward0>)\n",
            "itration 12300 loss tensor(0.0011, dtype=torch.float64, grad_fn=<AddBackward0>)\n",
            "itration 12400 loss tensor(0.0011, dtype=torch.float64, grad_fn=<AddBackward0>)\n",
            "itration 12500 loss tensor(0.0010, dtype=torch.float64, grad_fn=<AddBackward0>)\n",
            "itration 12600 loss tensor(0.0010, dtype=torch.float64, grad_fn=<AddBackward0>)\n",
            "itration 12700 loss tensor(0.0010, dtype=torch.float64, grad_fn=<AddBackward0>)\n",
            "itration 12800 loss tensor(0.0010, dtype=torch.float64, grad_fn=<AddBackward0>)\n",
            "itration 12900 loss tensor(0.0010, dtype=torch.float64, grad_fn=<AddBackward0>)\n",
            "itration 13000 loss tensor(0.0010, dtype=torch.float64, grad_fn=<AddBackward0>)\n",
            "itration 13100 loss tensor(0.0009, dtype=torch.float64, grad_fn=<AddBackward0>)\n",
            "itration 13200 loss tensor(0.0009, dtype=torch.float64, grad_fn=<AddBackward0>)\n",
            "itration 13300 loss tensor(0.0009, dtype=torch.float64, grad_fn=<AddBackward0>)\n",
            "itration 13400 loss tensor(0.0009, dtype=torch.float64, grad_fn=<AddBackward0>)\n",
            "itration 13500 loss tensor(0.0009, dtype=torch.float64, grad_fn=<AddBackward0>)\n",
            "itration 13600 loss tensor(0.0009, dtype=torch.float64, grad_fn=<AddBackward0>)\n",
            "itration 13700 loss tensor(0.0009, dtype=torch.float64, grad_fn=<AddBackward0>)\n",
            "itration 13800 loss tensor(0.0009, dtype=torch.float64, grad_fn=<AddBackward0>)\n",
            "itration 13900 loss tensor(0.0008, dtype=torch.float64, grad_fn=<AddBackward0>)\n",
            "itration 14000 loss tensor(0.0008, dtype=torch.float64, grad_fn=<AddBackward0>)\n",
            "itration 14100 loss tensor(0.0008, dtype=torch.float64, grad_fn=<AddBackward0>)\n",
            "itration 14200 loss tensor(0.0008, dtype=torch.float64, grad_fn=<AddBackward0>)\n",
            "itration 14300 loss tensor(0.0008, dtype=torch.float64, grad_fn=<AddBackward0>)\n",
            "itration 14400 loss tensor(0.0008, dtype=torch.float64, grad_fn=<AddBackward0>)\n",
            "itration 14500 loss tensor(0.0008, dtype=torch.float64, grad_fn=<AddBackward0>)\n",
            "itration 14600 loss tensor(0.0008, dtype=torch.float64, grad_fn=<AddBackward0>)\n",
            "itration 14700 loss tensor(0.0008, dtype=torch.float64, grad_fn=<AddBackward0>)\n",
            "itration 14800 loss tensor(0.0007, dtype=torch.float64, grad_fn=<AddBackward0>)\n",
            "itration 14900 loss tensor(0.0007, dtype=torch.float64, grad_fn=<AddBackward0>)\n",
            "itration 15000 loss tensor(0.0007, dtype=torch.float64, grad_fn=<AddBackward0>)\n",
            "itration 15100 loss tensor(0.0007, dtype=torch.float64, grad_fn=<AddBackward0>)\n",
            "itration 15200 loss tensor(0.0007, dtype=torch.float64, grad_fn=<AddBackward0>)\n",
            "itration 15300 loss tensor(0.0007, dtype=torch.float64, grad_fn=<AddBackward0>)\n",
            "itration 15400 loss tensor(0.0007, dtype=torch.float64, grad_fn=<AddBackward0>)\n",
            "itration 15500 loss tensor(0.0007, dtype=torch.float64, grad_fn=<AddBackward0>)\n",
            "itration 15600 loss tensor(0.0007, dtype=torch.float64, grad_fn=<AddBackward0>)\n",
            "itration 15700 loss tensor(0.0007, dtype=torch.float64, grad_fn=<AddBackward0>)\n",
            "itration 15800 loss tensor(0.0007, dtype=torch.float64, grad_fn=<AddBackward0>)\n",
            "itration 15900 loss tensor(0.0007, dtype=torch.float64, grad_fn=<AddBackward0>)\n",
            "itration 16000 loss tensor(0.0006, dtype=torch.float64, grad_fn=<AddBackward0>)\n",
            "itration 16100 loss tensor(0.0006, dtype=torch.float64, grad_fn=<AddBackward0>)\n",
            "itration 16200 loss tensor(0.0006, dtype=torch.float64, grad_fn=<AddBackward0>)\n",
            "itration 16300 loss tensor(0.0006, dtype=torch.float64, grad_fn=<AddBackward0>)\n",
            "itration 16400 loss tensor(0.0006, dtype=torch.float64, grad_fn=<AddBackward0>)\n",
            "itration 16500 loss tensor(0.0006, dtype=torch.float64, grad_fn=<AddBackward0>)\n",
            "itration 16600 loss tensor(0.0006, dtype=torch.float64, grad_fn=<AddBackward0>)\n",
            "itration 16700 loss tensor(0.0006, dtype=torch.float64, grad_fn=<AddBackward0>)\n",
            "itration 16800 loss tensor(0.0006, dtype=torch.float64, grad_fn=<AddBackward0>)\n",
            "itration 16900 loss tensor(0.0006, dtype=torch.float64, grad_fn=<AddBackward0>)\n",
            "itration 17000 loss tensor(0.0006, dtype=torch.float64, grad_fn=<AddBackward0>)\n",
            "itration 17100 loss tensor(0.0006, dtype=torch.float64, grad_fn=<AddBackward0>)\n",
            "itration 17200 loss tensor(0.0006, dtype=torch.float64, grad_fn=<AddBackward0>)\n",
            "itration 17300 loss tensor(0.0006, dtype=torch.float64, grad_fn=<AddBackward0>)\n",
            "itration 17400 loss tensor(0.0006, dtype=torch.float64, grad_fn=<AddBackward0>)\n",
            "itration 17500 loss tensor(0.0006, dtype=torch.float64, grad_fn=<AddBackward0>)\n",
            "itration 17600 loss tensor(0.0006, dtype=torch.float64, grad_fn=<AddBackward0>)\n",
            "itration 17700 loss tensor(0.0005, dtype=torch.float64, grad_fn=<AddBackward0>)\n",
            "itration 17800 loss tensor(0.0005, dtype=torch.float64, grad_fn=<AddBackward0>)\n",
            "itration 17900 loss tensor(0.0005, dtype=torch.float64, grad_fn=<AddBackward0>)\n",
            "itration 18000 loss tensor(0.0005, dtype=torch.float64, grad_fn=<AddBackward0>)\n",
            "itration 18100 loss tensor(0.0005, dtype=torch.float64, grad_fn=<AddBackward0>)\n",
            "itration 18200 loss tensor(0.0005, dtype=torch.float64, grad_fn=<AddBackward0>)\n",
            "itration 18300 loss tensor(0.0005, dtype=torch.float64, grad_fn=<AddBackward0>)\n",
            "itration 18400 loss tensor(0.0005, dtype=torch.float64, grad_fn=<AddBackward0>)\n",
            "itration 18500 loss tensor(0.0005, dtype=torch.float64, grad_fn=<AddBackward0>)\n",
            "itration 18600 loss tensor(0.0005, dtype=torch.float64, grad_fn=<AddBackward0>)\n",
            "itration 18700 loss tensor(0.0005, dtype=torch.float64, grad_fn=<AddBackward0>)\n",
            "itration 18800 loss tensor(0.0005, dtype=torch.float64, grad_fn=<AddBackward0>)\n",
            "itration 18900 loss tensor(0.0005, dtype=torch.float64, grad_fn=<AddBackward0>)\n",
            "itration 19000 loss tensor(0.0005, dtype=torch.float64, grad_fn=<AddBackward0>)\n",
            "itration 19100 loss tensor(0.0005, dtype=torch.float64, grad_fn=<AddBackward0>)\n",
            "itration 19200 loss tensor(0.0005, dtype=torch.float64, grad_fn=<AddBackward0>)\n",
            "itration 19300 loss tensor(0.0005, dtype=torch.float64, grad_fn=<AddBackward0>)\n",
            "itration 19400 loss tensor(0.0005, dtype=torch.float64, grad_fn=<AddBackward0>)\n",
            "itration 19500 loss tensor(0.0005, dtype=torch.float64, grad_fn=<AddBackward0>)\n",
            "itration 19600 loss tensor(0.0005, dtype=torch.float64, grad_fn=<AddBackward0>)\n",
            "itration 19700 loss tensor(0.0005, dtype=torch.float64, grad_fn=<AddBackward0>)\n",
            "itration 19800 loss tensor(0.0005, dtype=torch.float64, grad_fn=<AddBackward0>)\n",
            "itration 19900 loss tensor(0.0005, dtype=torch.float64, grad_fn=<AddBackward0>)\n"
          ]
        }
      ],
      "source": [
        "model = PINN()\n",
        "num_iterations = 20000\n",
        "num_points = 100\n",
        "train_PINN(model, num_iterations, num_points, q, L, E, I)"
      ]
    },
    {
      "cell_type": "code",
      "execution_count": null,
      "id": "da8f8045",
      "metadata": {
        "id": "da8f8045",
        "colab": {
          "base_uri": "https://localhost:8080/"
        },
        "outputId": "1fe5c220-9867-4e6d-8caa-c78e34a76cfd"
      },
      "outputs": [
        {
          "output_type": "stream",
          "name": "stdout",
          "text": [
            "tensor([[ 0.0000e+00, -2.7752e-06],\n",
            "        [ 2.0408e-02,  1.5354e-04],\n",
            "        [ 4.0816e-02,  6.6129e-04],\n",
            "        [ 6.1224e-02,  1.5172e-03],\n",
            "        [ 8.1632e-02,  2.7172e-03],\n",
            "        [ 1.0204e-01,  4.2567e-03],\n",
            "        [ 1.2245e-01,  6.1303e-03],\n",
            "        [ 1.4286e-01,  8.3322e-03],\n",
            "        [ 1.6326e-01,  1.0856e-02],\n",
            "        [ 1.8367e-01,  1.3696e-02],\n",
            "        [ 2.0408e-01,  1.6844e-02],\n",
            "        [ 2.2449e-01,  2.0294e-02],\n",
            "        [ 2.4490e-01,  2.4039e-02],\n",
            "        [ 2.6530e-01,  2.8072e-02],\n",
            "        [ 2.8571e-01,  3.2385e-02],\n",
            "        [ 3.0612e-01,  3.6973e-02],\n",
            "        [ 3.2653e-01,  4.1829e-02],\n",
            "        [ 3.4694e-01,  4.6946e-02],\n",
            "        [ 3.6734e-01,  5.2319e-02],\n",
            "        [ 3.8775e-01,  5.7942e-02],\n",
            "        [ 4.0816e-01,  6.3811e-02],\n",
            "        [ 4.2857e-01,  6.9918e-02],\n",
            "        [ 4.4898e-01,  7.6261e-02],\n",
            "        [ 4.6938e-01,  8.2834e-02],\n",
            "        [ 4.8979e-01,  8.9631e-02],\n",
            "        [ 5.1020e-01,  9.6649e-02],\n",
            "        [ 5.3061e-01,  1.0388e-01],\n",
            "        [ 5.5101e-01,  1.1132e-01],\n",
            "        [ 5.7142e-01,  1.1897e-01],\n",
            "        [ 5.9183e-01,  1.2682e-01],\n",
            "        [ 6.1224e-01,  1.3485e-01],\n",
            "        [ 6.3265e-01,  1.4307e-01],\n",
            "        [ 6.5305e-01,  1.5146e-01],\n",
            "        [ 6.7346e-01,  1.6002e-01],\n",
            "        [ 6.9387e-01,  1.6874e-01],\n",
            "        [ 7.1428e-01,  1.7760e-01],\n",
            "        [ 7.3469e-01,  1.8660e-01],\n",
            "        [ 7.5509e-01,  1.9572e-01],\n",
            "        [ 7.7550e-01,  2.0495e-01],\n",
            "        [ 7.9591e-01,  2.1429e-01],\n",
            "        [ 8.1632e-01,  2.2370e-01],\n",
            "        [ 8.3673e-01,  2.3319e-01],\n",
            "        [ 8.5713e-01,  2.4275e-01],\n",
            "        [ 8.7754e-01,  2.5235e-01],\n",
            "        [ 8.9795e-01,  2.6199e-01],\n",
            "        [ 9.1836e-01,  2.7166e-01],\n",
            "        [ 9.3877e-01,  2.8135e-01],\n",
            "        [ 9.5917e-01,  2.9106e-01],\n",
            "        [ 9.7958e-01,  3.0077e-01],\n",
            "        [ 9.9999e-01,  3.1048e-01]], dtype=torch.float64)\n"
          ]
        }
      ],
      "source": [
        "with torch.no_grad():\n",
        "    x_vals = torch.linspace(0, L-0.00001, 50)\n",
        "\n",
        "\n",
        "    input_data = torch.stack([x_vals.double()], dim=1)\n",
        "    solution = model(input_data)\n",
        "    sol = torch.stack([x_vals, solution.flatten()], dim=1)\n",
        "\n",
        "    print(sol)\n",
        "\n"
      ]
    },
    {
      "cell_type": "code",
      "source": [],
      "metadata": {
        "id": "480gbxLLSDHd"
      },
      "id": "480gbxLLSDHd",
      "execution_count": null,
      "outputs": []
    },
    {
      "cell_type": "code",
      "source": [],
      "metadata": {
        "id": "2jqhZZie9GrR"
      },
      "id": "2jqhZZie9GrR",
      "execution_count": null,
      "outputs": []
    },
    {
      "cell_type": "code",
      "source": [
        "sol_np = sol.numpy()\n",
        "np.shape(sol_np)\n",
        "points = sol_np[:, 0]\n",
        "points"
      ],
      "metadata": {
        "id": "kcDJO6eV9l-H",
        "colab": {
          "base_uri": "https://localhost:8080/"
        },
        "outputId": "7af181d3-78fd-4764-e938-1fbfe0be232e"
      },
      "id": "kcDJO6eV9l-H",
      "execution_count": null,
      "outputs": [
        {
          "output_type": "execute_result",
          "data": {
            "text/plain": [
              "array([0.        , 0.02040796, 0.04081592, 0.06122388, 0.08163184,\n",
              "       0.1020398 , 0.12244776, 0.14285572, 0.16326368, 0.18367164,\n",
              "       0.2040796 , 0.22448756, 0.24489552, 0.26530349, 0.28571144,\n",
              "       0.30611938, 0.32652736, 0.34693533, 0.36734328, 0.38775122,\n",
              "       0.4081592 , 0.42856717, 0.44897512, 0.46938306, 0.48979104,\n",
              "       0.51019895, 0.53060693, 0.5510149 , 0.57142282, 0.59183079,\n",
              "       0.61223876, 0.63264668, 0.65305465, 0.67346263, 0.6938706 ,\n",
              "       0.71427858, 0.73468649, 0.75509447, 0.77550244, 0.79591036,\n",
              "       0.81631833, 0.83672631, 0.85713428, 0.87754226, 0.89795017,\n",
              "       0.91835815, 0.93876612, 0.95917404, 0.97958201, 0.99998999])"
            ]
          },
          "metadata": {},
          "execution_count": 372
        }
      ]
    },
    {
      "cell_type": "code",
      "source": [
        "pred_y = []\n",
        "true_y = []\n",
        "pred_y = sol_np[:, 1]\n",
        "for x in points:\n",
        "    true_y.append(w(x, q, E, I, L))\n",
        "\n",
        "print(true_y)"
      ],
      "metadata": {
        "id": "9Whq6QhQ86yT",
        "colab": {
          "base_uri": "https://localhost:8080/"
        },
        "outputId": "fe50c9b5-6ad7-467e-f174-0b622efa2b61"
      },
      "id": "9Whq6QhQ86yT",
      "execution_count": null,
      "outputs": [
        {
          "output_type": "stream",
          "name": "stdout",
          "text": [
            "[0.0, 0.0001805751781791659, 0.000717353497217543, 0.0016029141338664498, 0.0028298362648772053, 0.004390699067001129, 0.006278081716989538, 0.008484563391593751, 0.01100272326756509, 0.01382514052165487, 0.016944394330614412, 0.020353063871195037, 0.02404372832014806, 0.028008969847935942, 0.03224135865017658, 0.03673347951174905, 0.04147791873471051, 0.04646724910742206, 0.051694041987760425, 0.05715088367778325, 0.06283036182333687, 0.06872504778229846, 0.07482751165545036, 0.08113034108863934, 0.0876261248981115, 0.0943074134071548, 0.10116682482191242, 0.10819691905640175, 0.11539025403061941, 0.12273945094173898, 0.1302370681757521, 0.13787566238471374, 0.14564785736670188, 0.15354621017474546, 0.16156329996934052, 0.16969170591098306, 0.1779239829719647, 0.18625275841825872, 0.19467058751476204, 0.20317002448599278, 0.2117436981584923, 0.22038416298436303, 0.22908399812410113, 0.2378357827382025, 0.24663207023836906, 0.255465491185143, 0.26432859910944206, 0.2732139471953628, 0.28211416652367927, 0.2910218103326829]\n"
          ]
        }
      ]
    },
    {
      "cell_type": "code",
      "source": [
        "import plotly.express as px\n",
        "import plotly.graph_objects as go\n",
        "from plotly.offline import plot\n",
        "\n",
        "def plot_feature(true_y, pred_y, points):\n",
        "\n",
        "    fig_prices = go.Figure()\n",
        "    fig_prices.add_trace(go.Scatter(x=points, y=true_y,\n",
        "                        # fill= 'tonexty',\n",
        "                        mode='lines',\n",
        "                        # line_color='indigo',\n",
        "                        name=\"Лінійний розв'язок\"))\n",
        "    fig_prices.add_trace(go.Scatter(\n",
        "                        x=points,\n",
        "                        y=pred_y,\n",
        "                        # fill='tonexty', # fill area between trace0 and trace1\n",
        "                        mode='lines',\n",
        "                        # line_color='red',\n",
        "                        name=\"Нелінійний розв'язок\"))\n",
        "\n",
        "\n",
        "    fig_prices.update_layout(yaxis_title=\"Значення функції\")\n",
        "    fig_prices.update_layout(\n",
        "    xaxis=dict(\n",
        "        title='Точки колокації',\n",
        "        title_font=dict(size=20),  # Збільшення розміру шрифту підпису осі X\n",
        "        tickfont=dict(size=16),    # Збільшення розміру шрифту тікерів-\n",
        "    ),\n",
        "    yaxis=dict(\n",
        "        title='Значення функції',\n",
        "        title_font=dict(size=20),  # Збільшення розміру шрифту підпису осі Y\n",
        "        tickfont=dict(size=16),    # Збільшення розміру шрифту тікерів\n",
        "    ),\n",
        "    legend=dict(\n",
        "        font=dict(size=18)          # Збільшення розміру шрифту легенди\n",
        "    )\n",
        ")\n",
        "    fig_prices.show()\n",
        "\n",
        "    return 0"
      ],
      "metadata": {
        "id": "AfTNIgdy4lBi"
      },
      "id": "AfTNIgdy4lBi",
      "execution_count": null,
      "outputs": []
    },
    {
      "cell_type": "code",
      "source": [
        "plot_feature(true_y, pred_y, points)"
      ],
      "metadata": {
        "id": "YQsC-3cA4lhh",
        "colab": {
          "base_uri": "https://localhost:8080/",
          "height": 560
        },
        "outputId": "f220631d-070e-4b1e-bd89-11646f3f18db"
      },
      "id": "YQsC-3cA4lhh",
      "execution_count": null,
      "outputs": [
        {
          "output_type": "display_data",
          "data": {
            "text/html": [
              "<html>\n",
              "<head><meta charset=\"utf-8\" /></head>\n",
              "<body>\n",
              "    <div>            <script src=\"https://cdnjs.cloudflare.com/ajax/libs/mathjax/2.7.5/MathJax.js?config=TeX-AMS-MML_SVG\"></script><script type=\"text/javascript\">if (window.MathJax && window.MathJax.Hub && window.MathJax.Hub.Config) {window.MathJax.Hub.Config({SVG: {font: \"STIX-Web\"}});}</script>                <script type=\"text/javascript\">window.PlotlyConfig = {MathJaxConfig: 'local'};</script>\n",
              "        <script charset=\"utf-8\" src=\"https://cdn.plot.ly/plotly-2.24.1.min.js\"></script>                <div id=\"1f255d3a-c878-4697-b4d0-141caefbd820\" class=\"plotly-graph-div\" style=\"height:525px; width:100%;\"></div>            <script type=\"text/javascript\">                                    window.PLOTLYENV=window.PLOTLYENV || {};                                    if (document.getElementById(\"1f255d3a-c878-4697-b4d0-141caefbd820\")) {                    Plotly.newPlot(                        \"1f255d3a-c878-4697-b4d0-141caefbd820\",                        [{\"mode\":\"lines\",\"name\":\"\\u041b\\u0456\\u043d\\u0456\\u0439\\u043d\\u0438\\u0439 \\u0440\\u043e\\u0437\\u0432'\\u044f\\u0437\\u043e\\u043a\",\"x\":[0.0,0.020407959818840027,0.040815919637680054,0.06122387945652008,0.08163183927536011,0.10203979909420013,0.12244775891304016,0.1428557187318802,0.16326367855072021,0.18367163836956024,0.20407959818840027,0.2244875580072403,0.24489551782608032,0.26530349254608154,0.2857114374637604,0.3061193823814392,0.32652735710144043,0.34693533182144165,0.3673432767391205,0.3877512216567993,0.40815919637680054,0.42856717109680176,0.4489751160144806,0.4693830609321594,0.48979103565216064,0.5101989507675171,0.5306069254875183,0.5510149002075195,0.571422815322876,0.5918307900428772,0.6122387647628784,0.6326466798782349,0.6530546545982361,0.6734626293182373,0.6938706040382385,0.7142785787582397,0.7346864938735962,0.7550944685935974,0.7755024433135986,0.7959103584289551,0.8163183331489563,0.8367263078689575,0.8571342825889587,0.87754225730896,0.8979501724243164,0.9183581471443176,0.9387661218643188,0.9591740369796753,0.9795820116996765,0.9999899864196777],\"y\":[0.0,0.0001805751781791659,0.000717353497217543,0.0016029141338664498,0.0028298362648772053,0.004390699067001129,0.006278081716989538,0.008484563391593751,0.01100272326756509,0.01382514052165487,0.016944394330614412,0.020353063871195037,0.02404372832014806,0.028008969847935942,0.03224135865017658,0.03673347951174905,0.04147791873471051,0.04646724910742206,0.051694041987760425,0.05715088367778325,0.06283036182333687,0.06872504778229846,0.07482751165545036,0.08113034108863934,0.0876261248981115,0.0943074134071548,0.10116682482191242,0.10819691905640175,0.11539025403061941,0.12273945094173898,0.1302370681757521,0.13787566238471374,0.14564785736670188,0.15354621017474546,0.16156329996934052,0.16969170591098306,0.1779239829719647,0.18625275841825872,0.19467058751476204,0.20317002448599278,0.2117436981584923,0.22038416298436303,0.22908399812410113,0.2378357827382025,0.24663207023836906,0.255465491185143,0.26432859910944206,0.2732139471953628,0.28211416652367927,0.2910218103326829],\"type\":\"scatter\"},{\"mode\":\"lines\",\"name\":\"\\u041d\\u0435\\u043b\\u0456\\u043d\\u0456\\u0439\\u043d\\u0438\\u0439 \\u0440\\u043e\\u0437\\u0432'\\u044f\\u0437\\u043e\\u043a\",\"x\":[0.0,0.020407959818840027,0.040815919637680054,0.06122387945652008,0.08163183927536011,0.10203979909420013,0.12244775891304016,0.1428557187318802,0.16326367855072021,0.18367163836956024,0.20407959818840027,0.2244875580072403,0.24489551782608032,0.26530349254608154,0.2857114374637604,0.3061193823814392,0.32652735710144043,0.34693533182144165,0.3673432767391205,0.3877512216567993,0.40815919637680054,0.42856717109680176,0.4489751160144806,0.4693830609321594,0.48979103565216064,0.5101989507675171,0.5306069254875183,0.5510149002075195,0.571422815322876,0.5918307900428772,0.6122387647628784,0.6326466798782349,0.6530546545982361,0.6734626293182373,0.6938706040382385,0.7142785787582397,0.7346864938735962,0.7550944685935974,0.7755024433135986,0.7959103584289551,0.8163183331489563,0.8367263078689575,0.8571342825889587,0.87754225730896,0.8979501724243164,0.9183581471443176,0.9387661218643188,0.9591740369796753,0.9795820116996765,0.9999899864196777],\"y\":[-2.7752083373855374e-06,0.00015354228043620854,0.0006612897766266612,0.0015171832518992012,0.002717203608849028,0.004256659805343149,0.006130261933858128,0.008332202937569283,0.010856247251092938,0.013695824285951924,0.01684412435822391,0.020294194397508042,0.024039030600025796,0.028071668157655633,0.03238524384210442,0.036973089262721054,0.04182876978907832,0.04694610513751199,0.052319199896253915,0.05794245985549981,0.06381055844766872,0.06991837999824105,0.07626097889282843,0.08283352698588423,0.08963121106676555,0.09664909508675132,0.10388212892225226,0.11132491038105699,0.11897164001128932,0.12681609306549765,0.13485139832238222,0.14307003043525987,0.1514638313735822,0.16002383599040246,0.1687403629300139,0.17760301446589408,0.18660070343331422,0.19572184278401814,0.2049543024884561,0.21428563120435282,0.22370331165887755,0.23319479446423716,0.24274782610244658,0.25235065874337903,0.2619922719860347,0.27166274339273777,0.2813533395589063,0.2910568569393782,0.30076795448028604,0.310483215867818],\"type\":\"scatter\"}],                        {\"template\":{\"data\":{\"histogram2dcontour\":[{\"type\":\"histogram2dcontour\",\"colorbar\":{\"outlinewidth\":0,\"ticks\":\"\"},\"colorscale\":[[0.0,\"#0d0887\"],[0.1111111111111111,\"#46039f\"],[0.2222222222222222,\"#7201a8\"],[0.3333333333333333,\"#9c179e\"],[0.4444444444444444,\"#bd3786\"],[0.5555555555555556,\"#d8576b\"],[0.6666666666666666,\"#ed7953\"],[0.7777777777777778,\"#fb9f3a\"],[0.8888888888888888,\"#fdca26\"],[1.0,\"#f0f921\"]]}],\"choropleth\":[{\"type\":\"choropleth\",\"colorbar\":{\"outlinewidth\":0,\"ticks\":\"\"}}],\"histogram2d\":[{\"type\":\"histogram2d\",\"colorbar\":{\"outlinewidth\":0,\"ticks\":\"\"},\"colorscale\":[[0.0,\"#0d0887\"],[0.1111111111111111,\"#46039f\"],[0.2222222222222222,\"#7201a8\"],[0.3333333333333333,\"#9c179e\"],[0.4444444444444444,\"#bd3786\"],[0.5555555555555556,\"#d8576b\"],[0.6666666666666666,\"#ed7953\"],[0.7777777777777778,\"#fb9f3a\"],[0.8888888888888888,\"#fdca26\"],[1.0,\"#f0f921\"]]}],\"heatmap\":[{\"type\":\"heatmap\",\"colorbar\":{\"outlinewidth\":0,\"ticks\":\"\"},\"colorscale\":[[0.0,\"#0d0887\"],[0.1111111111111111,\"#46039f\"],[0.2222222222222222,\"#7201a8\"],[0.3333333333333333,\"#9c179e\"],[0.4444444444444444,\"#bd3786\"],[0.5555555555555556,\"#d8576b\"],[0.6666666666666666,\"#ed7953\"],[0.7777777777777778,\"#fb9f3a\"],[0.8888888888888888,\"#fdca26\"],[1.0,\"#f0f921\"]]}],\"heatmapgl\":[{\"type\":\"heatmapgl\",\"colorbar\":{\"outlinewidth\":0,\"ticks\":\"\"},\"colorscale\":[[0.0,\"#0d0887\"],[0.1111111111111111,\"#46039f\"],[0.2222222222222222,\"#7201a8\"],[0.3333333333333333,\"#9c179e\"],[0.4444444444444444,\"#bd3786\"],[0.5555555555555556,\"#d8576b\"],[0.6666666666666666,\"#ed7953\"],[0.7777777777777778,\"#fb9f3a\"],[0.8888888888888888,\"#fdca26\"],[1.0,\"#f0f921\"]]}],\"contourcarpet\":[{\"type\":\"contourcarpet\",\"colorbar\":{\"outlinewidth\":0,\"ticks\":\"\"}}],\"contour\":[{\"type\":\"contour\",\"colorbar\":{\"outlinewidth\":0,\"ticks\":\"\"},\"colorscale\":[[0.0,\"#0d0887\"],[0.1111111111111111,\"#46039f\"],[0.2222222222222222,\"#7201a8\"],[0.3333333333333333,\"#9c179e\"],[0.4444444444444444,\"#bd3786\"],[0.5555555555555556,\"#d8576b\"],[0.6666666666666666,\"#ed7953\"],[0.7777777777777778,\"#fb9f3a\"],[0.8888888888888888,\"#fdca26\"],[1.0,\"#f0f921\"]]}],\"surface\":[{\"type\":\"surface\",\"colorbar\":{\"outlinewidth\":0,\"ticks\":\"\"},\"colorscale\":[[0.0,\"#0d0887\"],[0.1111111111111111,\"#46039f\"],[0.2222222222222222,\"#7201a8\"],[0.3333333333333333,\"#9c179e\"],[0.4444444444444444,\"#bd3786\"],[0.5555555555555556,\"#d8576b\"],[0.6666666666666666,\"#ed7953\"],[0.7777777777777778,\"#fb9f3a\"],[0.8888888888888888,\"#fdca26\"],[1.0,\"#f0f921\"]]}],\"mesh3d\":[{\"type\":\"mesh3d\",\"colorbar\":{\"outlinewidth\":0,\"ticks\":\"\"}}],\"scatter\":[{\"fillpattern\":{\"fillmode\":\"overlay\",\"size\":10,\"solidity\":0.2},\"type\":\"scatter\"}],\"parcoords\":[{\"type\":\"parcoords\",\"line\":{\"colorbar\":{\"outlinewidth\":0,\"ticks\":\"\"}}}],\"scatterpolargl\":[{\"type\":\"scatterpolargl\",\"marker\":{\"colorbar\":{\"outlinewidth\":0,\"ticks\":\"\"}}}],\"bar\":[{\"error_x\":{\"color\":\"#2a3f5f\"},\"error_y\":{\"color\":\"#2a3f5f\"},\"marker\":{\"line\":{\"color\":\"#E5ECF6\",\"width\":0.5},\"pattern\":{\"fillmode\":\"overlay\",\"size\":10,\"solidity\":0.2}},\"type\":\"bar\"}],\"scattergeo\":[{\"type\":\"scattergeo\",\"marker\":{\"colorbar\":{\"outlinewidth\":0,\"ticks\":\"\"}}}],\"scatterpolar\":[{\"type\":\"scatterpolar\",\"marker\":{\"colorbar\":{\"outlinewidth\":0,\"ticks\":\"\"}}}],\"histogram\":[{\"marker\":{\"pattern\":{\"fillmode\":\"overlay\",\"size\":10,\"solidity\":0.2}},\"type\":\"histogram\"}],\"scattergl\":[{\"type\":\"scattergl\",\"marker\":{\"colorbar\":{\"outlinewidth\":0,\"ticks\":\"\"}}}],\"scatter3d\":[{\"type\":\"scatter3d\",\"line\":{\"colorbar\":{\"outlinewidth\":0,\"ticks\":\"\"}},\"marker\":{\"colorbar\":{\"outlinewidth\":0,\"ticks\":\"\"}}}],\"scattermapbox\":[{\"type\":\"scattermapbox\",\"marker\":{\"colorbar\":{\"outlinewidth\":0,\"ticks\":\"\"}}}],\"scatterternary\":[{\"type\":\"scatterternary\",\"marker\":{\"colorbar\":{\"outlinewidth\":0,\"ticks\":\"\"}}}],\"scattercarpet\":[{\"type\":\"scattercarpet\",\"marker\":{\"colorbar\":{\"outlinewidth\":0,\"ticks\":\"\"}}}],\"carpet\":[{\"aaxis\":{\"endlinecolor\":\"#2a3f5f\",\"gridcolor\":\"white\",\"linecolor\":\"white\",\"minorgridcolor\":\"white\",\"startlinecolor\":\"#2a3f5f\"},\"baxis\":{\"endlinecolor\":\"#2a3f5f\",\"gridcolor\":\"white\",\"linecolor\":\"white\",\"minorgridcolor\":\"white\",\"startlinecolor\":\"#2a3f5f\"},\"type\":\"carpet\"}],\"table\":[{\"cells\":{\"fill\":{\"color\":\"#EBF0F8\"},\"line\":{\"color\":\"white\"}},\"header\":{\"fill\":{\"color\":\"#C8D4E3\"},\"line\":{\"color\":\"white\"}},\"type\":\"table\"}],\"barpolar\":[{\"marker\":{\"line\":{\"color\":\"#E5ECF6\",\"width\":0.5},\"pattern\":{\"fillmode\":\"overlay\",\"size\":10,\"solidity\":0.2}},\"type\":\"barpolar\"}],\"pie\":[{\"automargin\":true,\"type\":\"pie\"}]},\"layout\":{\"autotypenumbers\":\"strict\",\"colorway\":[\"#636efa\",\"#EF553B\",\"#00cc96\",\"#ab63fa\",\"#FFA15A\",\"#19d3f3\",\"#FF6692\",\"#B6E880\",\"#FF97FF\",\"#FECB52\"],\"font\":{\"color\":\"#2a3f5f\"},\"hovermode\":\"closest\",\"hoverlabel\":{\"align\":\"left\"},\"paper_bgcolor\":\"white\",\"plot_bgcolor\":\"#E5ECF6\",\"polar\":{\"bgcolor\":\"#E5ECF6\",\"angularaxis\":{\"gridcolor\":\"white\",\"linecolor\":\"white\",\"ticks\":\"\"},\"radialaxis\":{\"gridcolor\":\"white\",\"linecolor\":\"white\",\"ticks\":\"\"}},\"ternary\":{\"bgcolor\":\"#E5ECF6\",\"aaxis\":{\"gridcolor\":\"white\",\"linecolor\":\"white\",\"ticks\":\"\"},\"baxis\":{\"gridcolor\":\"white\",\"linecolor\":\"white\",\"ticks\":\"\"},\"caxis\":{\"gridcolor\":\"white\",\"linecolor\":\"white\",\"ticks\":\"\"}},\"coloraxis\":{\"colorbar\":{\"outlinewidth\":0,\"ticks\":\"\"}},\"colorscale\":{\"sequential\":[[0.0,\"#0d0887\"],[0.1111111111111111,\"#46039f\"],[0.2222222222222222,\"#7201a8\"],[0.3333333333333333,\"#9c179e\"],[0.4444444444444444,\"#bd3786\"],[0.5555555555555556,\"#d8576b\"],[0.6666666666666666,\"#ed7953\"],[0.7777777777777778,\"#fb9f3a\"],[0.8888888888888888,\"#fdca26\"],[1.0,\"#f0f921\"]],\"sequentialminus\":[[0.0,\"#0d0887\"],[0.1111111111111111,\"#46039f\"],[0.2222222222222222,\"#7201a8\"],[0.3333333333333333,\"#9c179e\"],[0.4444444444444444,\"#bd3786\"],[0.5555555555555556,\"#d8576b\"],[0.6666666666666666,\"#ed7953\"],[0.7777777777777778,\"#fb9f3a\"],[0.8888888888888888,\"#fdca26\"],[1.0,\"#f0f921\"]],\"diverging\":[[0,\"#8e0152\"],[0.1,\"#c51b7d\"],[0.2,\"#de77ae\"],[0.3,\"#f1b6da\"],[0.4,\"#fde0ef\"],[0.5,\"#f7f7f7\"],[0.6,\"#e6f5d0\"],[0.7,\"#b8e186\"],[0.8,\"#7fbc41\"],[0.9,\"#4d9221\"],[1,\"#276419\"]]},\"xaxis\":{\"gridcolor\":\"white\",\"linecolor\":\"white\",\"ticks\":\"\",\"title\":{\"standoff\":15},\"zerolinecolor\":\"white\",\"automargin\":true,\"zerolinewidth\":2},\"yaxis\":{\"gridcolor\":\"white\",\"linecolor\":\"white\",\"ticks\":\"\",\"title\":{\"standoff\":15},\"zerolinecolor\":\"white\",\"automargin\":true,\"zerolinewidth\":2},\"scene\":{\"xaxis\":{\"backgroundcolor\":\"#E5ECF6\",\"gridcolor\":\"white\",\"linecolor\":\"white\",\"showbackground\":true,\"ticks\":\"\",\"zerolinecolor\":\"white\",\"gridwidth\":2},\"yaxis\":{\"backgroundcolor\":\"#E5ECF6\",\"gridcolor\":\"white\",\"linecolor\":\"white\",\"showbackground\":true,\"ticks\":\"\",\"zerolinecolor\":\"white\",\"gridwidth\":2},\"zaxis\":{\"backgroundcolor\":\"#E5ECF6\",\"gridcolor\":\"white\",\"linecolor\":\"white\",\"showbackground\":true,\"ticks\":\"\",\"zerolinecolor\":\"white\",\"gridwidth\":2}},\"shapedefaults\":{\"line\":{\"color\":\"#2a3f5f\"}},\"annotationdefaults\":{\"arrowcolor\":\"#2a3f5f\",\"arrowhead\":0,\"arrowwidth\":1},\"geo\":{\"bgcolor\":\"white\",\"landcolor\":\"#E5ECF6\",\"subunitcolor\":\"white\",\"showland\":true,\"showlakes\":true,\"lakecolor\":\"white\"},\"title\":{\"x\":0.05},\"mapbox\":{\"style\":\"light\"}}},\"yaxis\":{\"title\":{\"text\":\"\\u0417\\u043d\\u0430\\u0447\\u0435\\u043d\\u043d\\u044f \\u0444\\u0443\\u043d\\u043a\\u0446\\u0456\\u0457\",\"font\":{\"size\":20}},\"tickfont\":{\"size\":16}},\"xaxis\":{\"title\":{\"text\":\"\\u0422\\u043e\\u0447\\u043a\\u0438 \\u043a\\u043e\\u043b\\u043e\\u043a\\u0430\\u0446\\u0456\\u0457\",\"font\":{\"size\":20}},\"tickfont\":{\"size\":16}},\"legend\":{\"font\":{\"size\":18}}},                        {\"responsive\": true}                    ).then(function(){\n",
              "                            \n",
              "var gd = document.getElementById('1f255d3a-c878-4697-b4d0-141caefbd820');\n",
              "var x = new MutationObserver(function (mutations, observer) {{\n",
              "        var display = window.getComputedStyle(gd).display;\n",
              "        if (!display || display === 'none') {{\n",
              "            console.log([gd, 'removed!']);\n",
              "            Plotly.purge(gd);\n",
              "            observer.disconnect();\n",
              "        }}\n",
              "}});\n",
              "\n",
              "// Listen for the removal of the full notebook cells\n",
              "var notebookContainer = gd.closest('#notebook-container');\n",
              "if (notebookContainer) {{\n",
              "    x.observe(notebookContainer, {childList: true});\n",
              "}}\n",
              "\n",
              "// Listen for the clearing of the current output cell\n",
              "var outputEl = gd.closest('.output');\n",
              "if (outputEl) {{\n",
              "    x.observe(outputEl, {childList: true});\n",
              "}}\n",
              "\n",
              "                        })                };                            </script>        </div>\n",
              "</body>\n",
              "</html>"
            ]
          },
          "metadata": {}
        },
        {
          "output_type": "execute_result",
          "data": {
            "text/plain": [
              "0"
            ]
          },
          "metadata": {},
          "execution_count": 381
        }
      ]
    },
    {
      "cell_type": "code",
      "source": [
        "w(L, q, E, I, L)"
      ],
      "metadata": {
        "id": "vlGyp0tAMvFN",
        "colab": {
          "base_uri": "https://localhost:8080/"
        },
        "outputId": "5cada08a-9a4f-4b3d-cad2-b8b8bd125627"
      },
      "id": "vlGyp0tAMvFN",
      "execution_count": null,
      "outputs": [
        {
          "output_type": "execute_result",
          "data": {
            "text/plain": [
              "0.29102618165375155"
            ]
          },
          "metadata": {},
          "execution_count": 376
        }
      ]
    },
    {
      "cell_type": "code",
      "source": [],
      "metadata": {
        "id": "M9SaqzVSMwGI"
      },
      "id": "M9SaqzVSMwGI",
      "execution_count": null,
      "outputs": []
    },
    {
      "cell_type": "code",
      "source": [
        "import pandas as pd\n",
        "import numpy as np\n",
        "\n",
        "# Об'єднання масивів в DataFrame та назви стовпців\n",
        "df = pd.DataFrame({'True': true_y, 'Pred': np.round(pred_y, 6)})\n",
        "\n",
        "# Вивід DataFrame\n",
        "print(df)"
      ],
      "metadata": {
        "id": "Ylrx8jTx7r2H",
        "colab": {
          "base_uri": "https://localhost:8080/"
        },
        "outputId": "adc0fcba-0824-4b58-be60-a3659fcd943b"
      },
      "id": "Ylrx8jTx7r2H",
      "execution_count": null,
      "outputs": [
        {
          "output_type": "stream",
          "name": "stdout",
          "text": [
            "        True      Pred\n",
            "0   0.000000 -0.000003\n",
            "1   0.000181  0.000154\n",
            "2   0.000717  0.000661\n",
            "3   0.001603  0.001517\n",
            "4   0.002830  0.002717\n",
            "5   0.004391  0.004257\n",
            "6   0.006278  0.006130\n",
            "7   0.008485  0.008332\n",
            "8   0.011003  0.010856\n",
            "9   0.013825  0.013696\n",
            "10  0.016944  0.016844\n",
            "11  0.020353  0.020294\n",
            "12  0.024044  0.024039\n",
            "13  0.028009  0.028072\n",
            "14  0.032241  0.032385\n",
            "15  0.036733  0.036973\n",
            "16  0.041478  0.041829\n",
            "17  0.046467  0.046946\n",
            "18  0.051694  0.052319\n",
            "19  0.057151  0.057942\n",
            "20  0.062830  0.063811\n",
            "21  0.068725  0.069918\n",
            "22  0.074828  0.076261\n",
            "23  0.081130  0.082834\n",
            "24  0.087626  0.089631\n",
            "25  0.094307  0.096649\n",
            "26  0.101167  0.103882\n",
            "27  0.108197  0.111325\n",
            "28  0.115390  0.118972\n",
            "29  0.122739  0.126816\n",
            "30  0.130237  0.134851\n",
            "31  0.137876  0.143070\n",
            "32  0.145648  0.151464\n",
            "33  0.153546  0.160024\n",
            "34  0.161563  0.168740\n",
            "35  0.169692  0.177603\n",
            "36  0.177924  0.186601\n",
            "37  0.186253  0.195722\n",
            "38  0.194671  0.204954\n",
            "39  0.203170  0.214286\n",
            "40  0.211744  0.223703\n",
            "41  0.220384  0.233195\n",
            "42  0.229084  0.242748\n",
            "43  0.237836  0.252351\n",
            "44  0.246632  0.261992\n",
            "45  0.255465  0.271663\n",
            "46  0.264329  0.281353\n",
            "47  0.273214  0.291057\n",
            "48  0.282114  0.300768\n",
            "49  0.291022  0.310483\n"
          ]
        }
      ]
    },
    {
      "cell_type": "code",
      "source": [
        "df['True'].iloc[-1]"
      ],
      "metadata": {
        "colab": {
          "base_uri": "https://localhost:8080/"
        },
        "id": "hOJ3ghxLSai4",
        "outputId": "db58a9e9-8020-4612-d41d-0d46ed3a9701"
      },
      "id": "hOJ3ghxLSai4",
      "execution_count": null,
      "outputs": [
        {
          "output_type": "execute_result",
          "data": {
            "text/plain": [
              "0.2910218103326829"
            ]
          },
          "metadata": {},
          "execution_count": 378
        }
      ]
    },
    {
      "cell_type": "code",
      "source": [
        "from sklearn.metrics import mean_absolute_percentage_error\n",
        "y_true = [df['True'].iloc[-1]]\n",
        "y_pred = [df['Pred'].iloc[-1]]\n",
        "mean_absolute_percentage_error(y_true, y_pred)"
      ],
      "metadata": {
        "colab": {
          "base_uri": "https://localhost:8080/"
        },
        "id": "0KC9faxzSsrv",
        "outputId": "68fef6d5-81f6-4ae7-9922-ffcd17c1b7bb"
      },
      "id": "0KC9faxzSsrv",
      "execution_count": null,
      "outputs": [
        {
          "output_type": "execute_result",
          "data": {
            "text/plain": [
              "0.06687192841344088"
            ]
          },
          "metadata": {},
          "execution_count": 379
        }
      ]
    }
  ],
  "metadata": {
    "kernelspec": {
      "display_name": "Python 3 (ipykernel)",
      "language": "python",
      "name": "python3"
    },
    "language_info": {
      "codemirror_mode": {
        "name": "ipython",
        "version": 3
      },
      "file_extension": ".py",
      "mimetype": "text/x-python",
      "name": "python",
      "nbconvert_exporter": "python",
      "pygments_lexer": "ipython3",
      "version": "3.11.3"
    },
    "colab": {
      "provenance": []
    }
  },
  "nbformat": 4,
  "nbformat_minor": 5
}