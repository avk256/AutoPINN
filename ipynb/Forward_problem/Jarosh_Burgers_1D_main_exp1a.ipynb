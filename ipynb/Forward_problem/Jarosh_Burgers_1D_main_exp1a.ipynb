{
  "cells": [
    {
      "cell_type": "code",
      "execution_count": null,
      "id": "924b1faf",
      "metadata": {
        "id": "924b1faf"
      },
      "outputs": [],
      "source": [
        "import math\n",
        "import numpy as np\n",
        "import seaborn as sns\n",
        "import matplotlib.pyplot as plt\n",
        "from tqdm import tqdm\n",
        "\n",
        "import torch\n",
        "import torch.nn as nn"
      ]
    },
    {
      "cell_type": "code",
      "source": [
        "gpu_info = !nvidia-smi\n",
        "gpu_info = '\\n'.join(gpu_info)\n",
        "if gpu_info.find('failed') >= 0:\n",
        "  print('Not connected to a GPU')\n",
        "else:\n",
        "  print(gpu_info)"
      ],
      "metadata": {
        "colab": {
          "base_uri": "https://localhost:8080/"
        },
        "id": "jlKBFv2DB6UK",
        "outputId": "cd154452-0193-4f3e-cdae-baaf723d28be"
      },
      "id": "jlKBFv2DB6UK",
      "execution_count": null,
      "outputs": [
        {
          "output_type": "stream",
          "name": "stdout",
          "text": [
            "Sun Apr 21 11:51:36 2024       \n",
            "+---------------------------------------------------------------------------------------+\n",
            "| NVIDIA-SMI 535.104.05             Driver Version: 535.104.05   CUDA Version: 12.2     |\n",
            "|-----------------------------------------+----------------------+----------------------+\n",
            "| GPU  Name                 Persistence-M | Bus-Id        Disp.A | Volatile Uncorr. ECC |\n",
            "| Fan  Temp   Perf          Pwr:Usage/Cap |         Memory-Usage | GPU-Util  Compute M. |\n",
            "|                                         |                      |               MIG M. |\n",
            "|=========================================+======================+======================|\n",
            "|   0  NVIDIA L4                      Off | 00000000:00:03.0 Off |                    0 |\n",
            "| N/A   66C    P0              32W /  72W |    363MiB / 23034MiB |      0%      Default |\n",
            "|                                         |                      |                  N/A |\n",
            "+-----------------------------------------+----------------------+----------------------+\n",
            "                                                                                         \n",
            "+---------------------------------------------------------------------------------------+\n",
            "| Processes:                                                                            |\n",
            "|  GPU   GI   CI        PID   Type   Process name                            GPU Memory |\n",
            "|        ID   ID                                                             Usage      |\n",
            "|=======================================================================================|\n",
            "+---------------------------------------------------------------------------------------+\n"
          ]
        }
      ]
    },
    {
      "cell_type": "code",
      "source": [
        "from psutil import virtual_memory\n",
        "ram_gb = virtual_memory().total / 1e9\n",
        "print('Your runtime has {:.1f} gigabytes of available RAM\\n'.format(ram_gb))\n",
        "\n",
        "if ram_gb < 20:\n",
        "  print('Not using a high-RAM runtime')\n",
        "else:\n",
        "  print('You are using a high-RAM runtime!')"
      ],
      "metadata": {
        "colab": {
          "base_uri": "https://localhost:8080/"
        },
        "id": "Izc0AOObB_SX",
        "outputId": "4be438b3-f7ee-40ac-e452-bae6ac185d30"
      },
      "id": "Izc0AOObB_SX",
      "execution_count": null,
      "outputs": [
        {
          "output_type": "stream",
          "name": "stdout",
          "text": [
            "Your runtime has 67.4 gigabytes of available RAM\n",
            "\n",
            "You are using a high-RAM runtime!\n"
          ]
        }
      ]
    },
    {
      "cell_type": "markdown",
      "source": [
        "#Рівняння Бюргерса. Точний розв'язок\n",
        "\n",
        "$\\displaystyle \\frac{\\partial u}{\\partial t} + u\\frac{\\partial u}{\\partial x} = \\nu \\frac{\\partial^2 u}{\\partial x^2}$\n",
        "\n",
        "Тестова задача. Домен [0,2], нульові граничні умови, початкова умова визначається з точного розв'язку [Arora, Geeta, Mishra, Shubham, Emaifar, Homan, Khademi, Masoumeh (2023) Numerical Simulation and Dynamics of Burgers’ Equation Using the Modified Cubic B-Spline Differential Quadrature Method. Discrete Dynamics in Nature and Society Volume 2023, Article ID 5102374, 8 pages\n",
        "https://doi.org/10.1155/2023/5102374\n",
        "]:\n",
        "\n",
        "$\\displaystyle u(x,t) =  2 \\pi \\nu \\frac{\\sin(\\gamma)e^\\beta+4\\sin(2\\gamma)e^{-4\\beta}}{4+\\cos(\\gamma)e^\\beta+2\\cos(2\\gamma)e^{-4\\beta}},$\n",
        "\n",
        "де $\\gamma=\\pi x$, $\\beta=-\\pi^2 \\nu^2 t$"
      ],
      "metadata": {
        "id": "lkrPGu6hWEF6"
      },
      "id": "lkrPGu6hWEF6"
    },
    {
      "cell_type": "code",
      "source": [
        "# x_max = 1\n",
        "# t_max = 4"
      ],
      "metadata": {
        "id": "Hn765d_zaOxL"
      },
      "id": "Hn765d_zaOxL",
      "execution_count": null,
      "outputs": []
    },
    {
      "cell_type": "markdown",
      "source": [
        "#Розв'язок засобами PINN"
      ],
      "metadata": {
        "id": "0qgtHGP3hDKA"
      },
      "id": "0qgtHGP3hDKA"
    },
    {
      "cell_type": "code",
      "execution_count": null,
      "id": "95ae2b01",
      "metadata": {
        "id": "95ae2b01"
      },
      "outputs": [],
      "source": [
        "class NN(nn.Module):\n",
        "    def __init__(self):\n",
        "        super(NN, self).__init__()\n",
        "        self.net = torch.nn.Sequential(\n",
        "            nn.Linear(2,32),\n",
        "            nn.Tanh(),\n",
        "            nn.Linear(32,32),\n",
        "            # nn.Tanh(),\n",
        "            # nn.Linear(20,20),\n",
        "\n",
        "            nn.Tanh(),\n",
        "            nn.Linear(32,1)\n",
        "        )\n",
        "\n",
        "    def forward(self, x):\n",
        "        out = self.net(x)\n",
        "        return out"
      ]
    },
    {
      "cell_type": "code",
      "execution_count": null,
      "id": "f47c45a0",
      "metadata": {
        "colab": {
          "base_uri": "https://localhost:8080/",
          "height": 89
        },
        "id": "f47c45a0",
        "outputId": "b419f051-fe70-47b8-94c7-123f0ca1ff78"
      },
      "outputs": [
        {
          "output_type": "execute_result",
          "data": {
            "text/plain": [
              "'\\nx_test = torch.arange(-1,1+0.1, 0.1)\\n#print(x_test)\\nt_test = torch.arange(0,1+0.1, 0.1)\\n#print(t_test)\\n\\nX = torch.stack(torch.meshgrid(x_test,t_test)).reshape(2,-1).T\\n#print(X)\\n\\nbc1_test = torch.stack(torch.meshgrid(x_test[-1],t_test)).reshape(2,-1).T\\n#print(bc1_test)\\n#print(torch.meshgrid(x_test,t_test))\\n\\ny_train_test = torch.tensor([1,2,3,4])\\nprint(y_train_test)\\ny_train_test = y_train_test.unsqueeze(1)\\nprint(y_train_test)\\n'"
            ],
            "application/vnd.google.colaboratory.intrinsic+json": {
              "type": "string"
            }
          },
          "metadata": {},
          "execution_count": 34
        }
      ],
      "source": [
        "'''\n",
        "x_test = torch.arange(-1,1+0.1, 0.1)\n",
        "#print(x_test)\n",
        "t_test = torch.arange(0,1+0.1, 0.1)\n",
        "#print(t_test)\n",
        "\n",
        "X = torch.stack(torch.meshgrid(x_test,t_test)).reshape(2,-1).T\n",
        "#print(X)\n",
        "\n",
        "bc1_test = torch.stack(torch.meshgrid(x_test[-1],t_test)).reshape(2,-1).T\n",
        "#print(bc1_test)\n",
        "#print(torch.meshgrid(x_test,t_test))\n",
        "\n",
        "y_train_test = torch.tensor([1,2,3,4])\n",
        "print(y_train_test)\n",
        "y_train_test = y_train_test.unsqueeze(1)\n",
        "print(y_train_test)\n",
        "'''"
      ]
    },
    {
      "cell_type": "code",
      "source": [
        "# h = 0.01\n",
        "# k = 0.01\n",
        "# nu = 0.5\n",
        "\n",
        "# x = torch.arange(0,8+h, h)\n",
        "# t = torch.arange(0,5+k, k)\n",
        "\n",
        "# X = torch.stack(torch.meshgrid(x,t)).reshape(2,-1).T\n",
        "# bc2 = torch.stack(torch.meshgrid(x[-1],t)).reshape(2,-1).T\n",
        "\n",
        "# # bc2[:,1]+10e-5\n",
        "# # X[:,1]\n",
        "# # bc2.size()\n",
        "# # X.size()\n",
        "# y_bc2 = (bc2[:,0]/(bc2[:,1]+10e-6))*1/(1+torch.sqrt((bc2[:,1]+10e-6)*nu/0.125)*torch.exp(bc2[:,0]**2/4*nu*(bc2[:,1]+10e-6)))\n",
        "# y_bc2\n",
        "\n",
        "torch.pi"
      ],
      "metadata": {
        "colab": {
          "base_uri": "https://localhost:8080/"
        },
        "id": "rPm2dsrw72ua",
        "outputId": "a8aa42ec-4041-4ac9-ad27-a113375ddc30"
      },
      "id": "rPm2dsrw72ua",
      "execution_count": null,
      "outputs": [
        {
          "output_type": "execute_result",
          "data": {
            "text/plain": [
              "3.141592653589793"
            ]
          },
          "metadata": {},
          "execution_count": 35
        }
      ]
    },
    {
      "cell_type": "code",
      "execution_count": null,
      "id": "b8cf0e91",
      "metadata": {
        "id": "b8cf0e91"
      },
      "outputs": [],
      "source": [
        "class Net:\n",
        "    def __init__(self):\n",
        "        device = torch.device(\"cuda\") if torch.cuda.is_available() else torch.device(\"cpu\")\n",
        "\n",
        "        self.model = NN().to(device)\n",
        "\n",
        "        self.x_max = 1\n",
        "        self.t_max = 4\n",
        "\n",
        "        # comp. domain\n",
        "        self.h = 0.01\n",
        "        self.k = 0.01\n",
        "        self.nu = 0.01\n",
        "        self.epoch = 2000\n",
        "\n",
        "        x = torch.arange(0, self.x_max + self.h, self.h)\n",
        "        t = torch.arange(1, self.t_max + self.k, self.k)\n",
        "\n",
        "\n",
        "        self.X = torch.stack(torch.meshgrid(x,t)).reshape(2,-1).T\n",
        "        # print('self.X ', self.X.shape)\n",
        "        # breakpoint()\n",
        "\n",
        "\n",
        "\n",
        "        # train data\n",
        "        bc1 = torch.stack(torch.meshgrid(x[0],t)).reshape(2,-1).T\n",
        "        bc2 = torch.stack(torch.meshgrid(x[-1],t)).reshape(2,-1).T\n",
        "        ic  = torch.stack(torch.meshgrid(x,t[0])).reshape(2,-1).T\n",
        "        # ic2  = torch.stack(torch.meshgrid(x,t[-1])).reshape(2,-1).T\n",
        "        # print('bc1, ', bc1.shape)\n",
        "        # print('bc2, ', bc2.shape)\n",
        "        # print('ic, ', ic.shape)\n",
        "        # breakpoint()\n",
        "\n",
        "        self.X_train = torch.cat([bc1, bc2, ic])\n",
        "\n",
        "        # print('self.X_train ', self.X_train.shape)\n",
        "        # breakpoint()\n",
        "\n",
        "        y_bc1 = torch.zeros(len(bc1))\n",
        "        y_bc2 = torch.zeros(len(bc2))\n",
        "\n",
        "        t0 = torch.exp(torch.tensor([1/(8*self.nu)]))\n",
        "\n",
        "        y_ic  = ic[:,0] / (1 + torch.sqrt(1/t0)*torch.exp((ic[:,0]**2)/(4*self.nu)))\n",
        "\n",
        "        self.y_train = torch.cat([y_bc1, y_bc2, y_ic])\n",
        "\n",
        "\n",
        "        self.y_train = self.y_train.unsqueeze(1)\n",
        "\n",
        "\n",
        "\n",
        "        self.X = self.X.to(device)\n",
        "        self.y_train = self.y_train.to(device)\n",
        "        self.X_train = self.X_train.to(device)\n",
        "        self.X.requires_grad = True\n",
        "\n",
        "        # optimizer setting\n",
        "        self.adam =  torch.optim.Adam(self.model.parameters())\n",
        "        #Limited-memory Broyden-Fletcher-Goldfarb-Shanno (L-BFGS)\n",
        "        self.optimizer = torch.optim.LBFGS(\n",
        "            self.model.parameters(),\n",
        "            lr=1.0,\n",
        "            max_iter = 2000,\n",
        "            max_eval = 2000,\n",
        "            history_size = 50,\n",
        "            tolerance_grad = 1e-7,\n",
        "            tolerance_change = 1.0* np.finfo(float).eps,\n",
        "            line_search_fn =\"strong_wolfe\"\n",
        "        )\n",
        "\n",
        "        self.criterion = torch.nn.MSELoss()\n",
        "        self.iter = 1\n",
        "\n",
        "    def loss_func(self):\n",
        "        self.adam.zero_grad()\n",
        "        self.optimizer.zero_grad()\n",
        "\n",
        "        y_pred = self.model(self.X_train)\n",
        "\n",
        "        # print('y_pred ', y_pred.shape)\n",
        "        # print('self.y_train.shape ', self.y_train.shape)\n",
        "        # breakpoint()\n",
        "\n",
        "\n",
        "        loss_data = self.criterion(y_pred - self.y_train, torch.zeros_like(self.y_train))\n",
        "\n",
        "        u = self.model(self.X)\n",
        "\n",
        "        du_dX = torch.autograd.grad(\n",
        "            u,\n",
        "            self.X,\n",
        "            grad_outputs = torch.ones_like(u),\n",
        "            create_graph = True,\n",
        "            retain_graph = True\n",
        "        )[0]\n",
        "\n",
        "        #print(du_dX)\n",
        "        #print(\"xxxxxxxxxxxxxxxxxxxxxxxxx\")\n",
        "        #print(du_dX[0])\n",
        "\n",
        "        du_dt = du_dX[:,1]\n",
        "        du_dx = du_dX[:,0]\n",
        "\n",
        "        # print('du_dx ', du_dx.shape)\n",
        "        # print('du_dt ', du_dt.shape)\n",
        "        # breakpoint()\n",
        "\n",
        "\n",
        "        du_dXX = torch.autograd.grad(\n",
        "            du_dX,\n",
        "            self.X,\n",
        "            grad_outputs = torch.ones_like(du_dX),\n",
        "            create_graph = True,\n",
        "            retain_graph = True\n",
        "        )[0]\n",
        "\n",
        "        du_dxx = du_dXX[:,0]\n",
        "\n",
        "        loss_pde = self.criterion(du_dt + u.squeeze()*du_dx - self.nu * du_dxx, torch.zeros_like(du_dxx))\n",
        "\n",
        "        loss = loss_pde + loss_data\n",
        "        loss.backward()\n",
        "\n",
        "        if self.iter % 100 == 0:\n",
        "            print(self.iter, loss.item())\n",
        "            print(loss_pde.item())\n",
        "            print(loss_data.item())\n",
        "        self.iter = self.iter+1\n",
        "\n",
        "        return loss\n",
        "\n",
        "    def train(self):\n",
        "        self.model.train()\n",
        "        for i in range(self.epoch):\n",
        "            self.adam.step(self.loss_func)\n",
        "        self.optimizer.step(self.loss_func)\n",
        "\n",
        "    def eval_(self):\n",
        "        self.model.eval()"
      ]
    },
    {
      "cell_type": "code",
      "execution_count": null,
      "id": "f7b786a1",
      "metadata": {
        "colab": {
          "base_uri": "https://localhost:8080/"
        },
        "id": "f7b786a1",
        "scrolled": true,
        "outputId": "78559a26-b9d6-4c6c-9859-367354c179b8"
      },
      "outputs": [
        {
          "output_type": "stream",
          "name": "stdout",
          "text": [
            "100 0.004060676787048578\n",
            "0.00018646431271918118\n",
            "0.003874212270602584\n",
            "200 0.00394028052687645\n",
            "0.0002006643480854109\n",
            "0.003739616135135293\n",
            "300 0.003841687459498644\n",
            "0.00022480842017102987\n",
            "0.0036168789956718683\n",
            "400 0.003741985885426402\n",
            "0.00024411798221990466\n",
            "0.0034978678449988365\n",
            "500 0.00361625081859529\n",
            "0.0002554098318796605\n",
            "0.0033608409576117992\n",
            "600 0.0034258298110216856\n",
            "0.0002536604006309062\n",
            "0.00317216943949461\n",
            "700 0.0030850491020828485\n",
            "0.00022545379761140794\n",
            "0.0028595952317118645\n",
            "800 0.0024458379484713078\n",
            "0.00015138712478801608\n",
            "0.0022944507654756308\n",
            "900 0.0018143041525036097\n",
            "0.00012752875045407563\n",
            "0.0016867753583937883\n",
            "1000 0.0016753154341131449\n",
            "0.00020049192244186997\n",
            "0.001474823453463614\n",
            "1100 0.0015730219893157482\n",
            "0.00019901762425433844\n",
            "0.0013740044087171555\n",
            "1200 0.0013946073595434427\n",
            "0.00018482105224393308\n",
            "0.0012097862781956792\n",
            "1300 0.0010910406708717346\n",
            "0.00015505572082474828\n",
            "0.0009359848918393254\n",
            "1400 0.0007620152900926769\n",
            "0.00012532096297945827\n",
            "0.0006366943125613034\n",
            "1500 0.0005399103392846882\n",
            "0.000111840468889568\n",
            "0.00042806987767107785\n",
            "1600 0.00040335237281396985\n",
            "0.00010245478188153356\n",
            "0.0003008976054843515\n",
            "1700 0.000309989380184561\n",
            "9.044623584486544e-05\n",
            "0.00021954312978778034\n",
            "1800 0.00024369946913793683\n",
            "7.85888041718863e-05\n",
            "0.00016511065769009292\n",
            "1900 0.0002015647041844204\n",
            "7.282255683094263e-05\n",
            "0.00012874214735347778\n",
            "2000 0.00017667141219135374\n",
            "7.170450408011675e-05\n",
            "0.00010496690811123699\n",
            "2100 9.370896441396326e-05\n",
            "4.985979830962606e-05\n",
            "4.3849162466358393e-05\n",
            "2200 6.561724876519293e-05\n",
            "3.481023304630071e-05\n",
            "3.080701208091341e-05\n",
            "2300 5.7185403420589864e-05\n",
            "3.148093674099073e-05\n",
            "2.5704464860609733e-05\n",
            "2400 5.341532232705504e-05\n",
            "3.0404236895265058e-05\n",
            "2.3011083612800576e-05\n",
            "2500 4.968337088939734e-05\n",
            "2.621675594127737e-05\n",
            "2.3466614948119968e-05\n",
            "2600 4.430166882229969e-05\n",
            "2.2760015781386755e-05\n",
            "2.1541653040912934e-05\n",
            "2700 4.0855280531104654e-05\n",
            "2.1025638488936238e-05\n",
            "1.9829640223179013e-05\n",
            "2800 3.79050470655784e-05\n",
            "1.8114224076271057e-05\n",
            "1.979082117031794e-05\n",
            "2900 3.300431853858754e-05\n",
            "1.685970346443355e-05\n",
            "1.614461507415399e-05\n",
            "3000 2.7422040147939697e-05\n",
            "1.4621590707974974e-05\n",
            "1.2800449439964723e-05\n",
            "3100 2.360459984629415e-05\n",
            "1.259856071555987e-05\n",
            "1.1006038221239578e-05\n",
            "3200 2.168359606002923e-05\n",
            "1.1780804015870672e-05\n",
            "9.90279204415856e-06\n",
            "3300 2.0573950678226538e-05\n",
            "1.1751519195968285e-05\n",
            "8.822431482258253e-06\n",
            "3400 1.8957374777528457e-05\n",
            "1.1524879482749384e-05\n",
            "7.432495749526424e-06\n",
            "3500 1.7282543922192417e-05\n",
            "1.0927785297099035e-05\n",
            "6.354759079840733e-06\n",
            "3600 1.5544695997959934e-05\n",
            "1.0971830306516495e-05\n",
            "4.5728661461907905e-06\n",
            "3700 1.3739048881689087e-05\n",
            "1.0724918865889776e-05\n",
            "3.0141297884256346e-06\n",
            "3800 1.2167447493993677e-05\n",
            "9.562537343299482e-06\n",
            "2.604910605441546e-06\n",
            "3900 1.0690712770156097e-05\n",
            "8.981325663626194e-06\n",
            "1.7093868791562272e-06\n",
            "4000 9.466475603403524e-06\n",
            "8.064755093073472e-06\n",
            "1.401720624016889e-06\n"
          ]
        }
      ],
      "source": [
        "# training\n",
        "net = Net()\n",
        "net.train()"
      ]
    },
    {
      "cell_type": "code",
      "execution_count": null,
      "id": "a32f74e9",
      "metadata": {
        "id": "a32f74e9",
        "colab": {
          "base_uri": "https://localhost:8080/"
        },
        "outputId": "dba1f247-fae5-47de-e000-57af123e6aa8"
      },
      "outputs": [
        {
          "output_type": "execute_result",
          "data": {
            "text/plain": [
              "NN(\n",
              "  (net): Sequential(\n",
              "    (0): Linear(in_features=2, out_features=32, bias=True)\n",
              "    (1): Tanh()\n",
              "    (2): Linear(in_features=32, out_features=32, bias=True)\n",
              "    (3): Tanh()\n",
              "    (4): Linear(in_features=32, out_features=1, bias=True)\n",
              "  )\n",
              ")"
            ]
          },
          "metadata": {},
          "execution_count": 38
        }
      ],
      "source": [
        "net.model.eval()"
      ]
    },
    {
      "cell_type": "code",
      "execution_count": null,
      "id": "caffd7ad",
      "metadata": {
        "id": "caffd7ad"
      },
      "outputs": [],
      "source": [
        "h = 0.01\n",
        "k = 0.01\n",
        "\n",
        "x = torch.arange(0, net.x_max+h,h)\n",
        "t = torch.arange(1, net.t_max+k,k)\n",
        "\n",
        "X = torch.stack(torch.meshgrid(x,t)).reshape(2,-1).T\n",
        "X = X.to(net.X.device)"
      ]
    },
    {
      "cell_type": "code",
      "execution_count": null,
      "id": "324530ea",
      "metadata": {
        "id": "324530ea",
        "colab": {
          "base_uri": "https://localhost:8080/"
        },
        "outputId": "a86dc074-1263-4608-9999-53e3e6faf769"
      },
      "outputs": [
        {
          "output_type": "execute_result",
          "data": {
            "text/plain": [
              "tensor([[0.0000, 1.0000],\n",
              "        [0.0000, 1.0100],\n",
              "        [0.0000, 1.0200],\n",
              "        ...,\n",
              "        [1.0000, 3.9800],\n",
              "        [1.0000, 3.9900],\n",
              "        [1.0000, 4.0000]], device='cuda:0')"
            ]
          },
          "metadata": {},
          "execution_count": 40
        }
      ],
      "source": [
        "X"
      ]
    },
    {
      "cell_type": "code",
      "execution_count": null,
      "id": "7cb0d485",
      "metadata": {
        "id": "7cb0d485",
        "colab": {
          "base_uri": "https://localhost:8080/"
        },
        "outputId": "de0d2f03-aa9b-41f8-95ed-8375c652ce89"
      },
      "outputs": [
        {
          "output_type": "execute_result",
          "data": {
            "text/plain": [
              "torch.Size([30401, 2])"
            ]
          },
          "metadata": {},
          "execution_count": 41
        }
      ],
      "source": [
        "X.shape"
      ]
    },
    {
      "cell_type": "code",
      "execution_count": null,
      "id": "b8618120",
      "metadata": {
        "id": "b8618120"
      },
      "outputs": [],
      "source": [
        "model = net.model\n",
        "model.eval()\n",
        "with torch.no_grad():\n",
        "    y_pred = model(X)\n",
        "    y_pred = y_pred.reshape(len(x),len(t)).cpu().numpy()"
      ]
    },
    {
      "cell_type": "code",
      "execution_count": null,
      "id": "8aeebe42",
      "metadata": {
        "id": "8aeebe42",
        "colab": {
          "base_uri": "https://localhost:8080/"
        },
        "outputId": "ad5da65f-eeb6-4bff-bd9e-088e878b320a"
      },
      "outputs": [
        {
          "output_type": "execute_result",
          "data": {
            "text/plain": [
              "(101, 301)"
            ]
          },
          "metadata": {},
          "execution_count": 43
        }
      ],
      "source": [
        "y_pred.shape"
      ]
    },
    {
      "cell_type": "code",
      "execution_count": null,
      "id": "2d8544b1",
      "metadata": {
        "id": "2d8544b1",
        "colab": {
          "base_uri": "https://localhost:8080/"
        },
        "outputId": "b3cad36a-228d-4cbc-ccf2-68b6e93c0025"
      },
      "outputs": [
        {
          "output_type": "execute_result",
          "data": {
            "text/plain": [
              "array([[ 7.4225850e-04,  6.7156740e-04,  6.0290284e-04, ...,\n",
              "         1.8471666e-04,  2.0653196e-04,  2.2882409e-04],\n",
              "       [ 1.0276141e-02,  1.0107817e-02,  9.9425931e-03, ...,\n",
              "         2.5475640e-03,  2.5636572e-03,  2.5801081e-03],\n",
              "       [ 1.9863071e-02,  1.9596638e-02,  1.9334855e-02, ...,\n",
              "         4.9150605e-03,  4.9255509e-03,  4.9363989e-03],\n",
              "       ...,\n",
              "       [-4.1184947e-05, -1.4143996e-04, -2.2870116e-04, ...,\n",
              "         3.1646430e-02,  3.1745732e-02,  3.1841695e-02],\n",
              "       [ 1.3917871e-04,  3.5185367e-06, -1.1628680e-04, ...,\n",
              "         1.6943814e-02,  1.6990485e-02,  1.7034533e-02],\n",
              "       [ 3.9726682e-04,  2.2190996e-04,  6.4672902e-05, ...,\n",
              "         1.8591899e-03,  1.8398184e-03,  1.8185396e-03]], dtype=float32)"
            ]
          },
          "metadata": {},
          "execution_count": 44
        }
      ],
      "source": [
        "y_pred"
      ]
    },
    {
      "cell_type": "code",
      "execution_count": null,
      "id": "805a4290",
      "metadata": {
        "id": "805a4290",
        "colab": {
          "base_uri": "https://localhost:8080/",
          "height": 731
        },
        "outputId": "b6218277-a3d1-417a-945b-b2677b737029"
      },
      "outputs": [
        {
          "output_type": "display_data",
          "data": {
            "text/plain": [
              "<Figure size 1000x800 with 2 Axes>"
            ],
            "image/png": "[encoded data removed]"
          },
          "metadata": {}
        }
      ],
      "source": [
        "sns.set_style(\"white\")\n",
        "plt.figure(figsize=(10,8))\n",
        "sns.heatmap(y_pred, cmap='jet')\n",
        "plt.xlabel('t')\n",
        "plt.ylabel('x')\n",
        "plt.title('Теплова карта функції u(x, t)')\n",
        "plt.show()\n",
        "\n"
      ]
    },
    {
      "cell_type": "code",
      "execution_count": null,
      "id": "5f6298ef",
      "metadata": {
        "id": "5f6298ef",
        "colab": {
          "base_uri": "https://localhost:8080/",
          "height": 430
        },
        "outputId": "45752831-368b-4aa8-de83-2e6c1129633e"
      },
      "outputs": [
        {
          "output_type": "display_data",
          "data": {
            "text/plain": [
              "<Figure size 640x480 with 1 Axes>"
            ],
            "image/png": "[encoded data removed]"
          },
          "metadata": {}
        }
      ],
      "source": [
        "\n",
        "plt.plot(y_pred[:,0])\n",
        "plt.plot(y_pred[:,50])\n",
        "plt.plot(y_pred[:,110])\n",
        "plt.plot(y_pred[:,160])\n",
        "\n",
        "\n",
        "plt.grid(True)\n",
        "plt.show()"
      ]
    },
    {
      "cell_type": "code",
      "source": [
        "t[50]"
      ],
      "metadata": {
        "colab": {
          "base_uri": "https://localhost:8080/"
        },
        "id": "j3YXPbsxHedR",
        "outputId": "6828ffaa-acf8-4f52-ff0e-f29ad944c342"
      },
      "id": "j3YXPbsxHedR",
      "execution_count": null,
      "outputs": [
        {
          "output_type": "execute_result",
          "data": {
            "text/plain": [
              "tensor(1.5000)"
            ]
          },
          "metadata": {},
          "execution_count": 47
        }
      ]
    },
    {
      "cell_type": "code",
      "source": [
        "x[50]"
      ],
      "metadata": {
        "colab": {
          "base_uri": "https://localhost:8080/"
        },
        "id": "efZ1myZCJ3JO",
        "outputId": "280e6b6f-c2b5-4a40-e229-7c0d1f171849"
      },
      "id": "efZ1myZCJ3JO",
      "execution_count": null,
      "outputs": [
        {
          "output_type": "execute_result",
          "data": {
            "text/plain": [
              "tensor(0.5000)"
            ]
          },
          "metadata": {},
          "execution_count": 48
        }
      ]
    },
    {
      "cell_type": "code",
      "source": [],
      "metadata": {
        "id": "7MlloE_7KJP1"
      },
      "id": "7MlloE_7KJP1",
      "execution_count": null,
      "outputs": []
    },
    {
      "cell_type": "markdown",
      "source": [
        "Порівняння з іншими результатами"
      ],
      "metadata": {
        "id": "Z8R0WhXo-zh-"
      },
      "id": "Z8R0WhXo-zh-"
    },
    {
      "cell_type": "code",
      "source": [],
      "metadata": {
        "id": "dwtv3obAIZjP"
      },
      "id": "dwtv3obAIZjP",
      "execution_count": null,
      "outputs": []
    }
  ],
  "metadata": {
    "colab": {
      "provenance": [],
      "machine_shape": "hm",
      "gpuType": "L4"
    },
    "kernelspec": {
      "display_name": "Python 3",
      "name": "python3"
    },
    "language_info": {
      "codemirror_mode": {
        "name": "ipython",
        "version": 3
      },
      "file_extension": ".py",
      "mimetype": "text/x-python",
      "name": "python",
      "nbconvert_exporter": "python",
      "pygments_lexer": "ipython3",
      "version": "3.11.3"
    },
    "accelerator": "GPU"
  },
  "nbformat": 4,
  "nbformat_minor": 5
}