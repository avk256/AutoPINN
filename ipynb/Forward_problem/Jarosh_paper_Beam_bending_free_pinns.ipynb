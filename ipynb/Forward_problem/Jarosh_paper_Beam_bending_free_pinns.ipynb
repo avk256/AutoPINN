{
  "cells": [
    {
      "cell_type": "markdown",
      "source": [
        "#Прогин балки.\n",
        "\n",
        "$\\cfrac{d^4w}{dx^4}=\\cfrac{q}{EI}$"
      ],
      "metadata": {
        "id": "rbH1GySAj2cb"
      },
      "id": "rbH1GySAj2cb"
    },
    {
      "cell_type": "markdown",
      "source": [
        "##Защемлення\n",
        "\n",
        "\n",
        "![picture](https://drive.google.com/uc?id=1tN6JMHRoUw5I3UGxmc1F5BGfmQnnUmYC)\n",
        "\n",
        "\n",
        "Граничні умови\n",
        "\n",
        "$w(0)=0,$\n",
        "$\\cfrac{dw}{dx}(0)=0$\n",
        "\n",
        "Розв'язок\n",
        "\n",
        "$w=-\\cfrac{q}{24EI}\\left( x^4 - 4Lx^3 + 6L^2x^2 \\right)$\n",
        "\n",
        "$w_{max}=\\cfrac{-q_0L^4}{8EI}$\n"
      ],
      "metadata": {
        "id": "hCqU1qlGCCAx"
      },
      "id": "hCqU1qlGCCAx"
    },
    {
      "cell_type": "code",
      "source": [
        "import seaborn as sns\n",
        "import matplotlib.pyplot as plt\n",
        "import numpy as np\n",
        "from mpl_toolkits.mplot3d import Axes3D\n"
      ],
      "metadata": {
        "id": "MzT5jgdUCYi_"
      },
      "id": "MzT5jgdUCYi_",
      "execution_count": null,
      "outputs": []
    },
    {
      "cell_type": "code",
      "source": [
        "L = 2.0\n",
        "q = 1.0\n",
        "G = 2.77 * 10**4\n",
        "nu = 0.3\n",
        "E = 2*G*(1+nu)\n",
        "h = 0.5\n",
        "I = (h**4)/12\n",
        "print(I)"
      ],
      "metadata": {
        "id": "4BUVvwxMCJ_9",
        "colab": {
          "base_uri": "https://localhost:8080/"
        },
        "outputId": "0e10767b-5a53-470e-d682-589cd82708f9"
      },
      "id": "4BUVvwxMCJ_9",
      "execution_count": null,
      "outputs": [
        {
          "output_type": "stream",
          "name": "stdout",
          "text": [
            "0.005208333333333333\n"
          ]
        }
      ]
    },
    {
      "cell_type": "code",
      "source": [
        "def w(x, q, E, I):\n",
        "    return q/(24*E*I)*(x**4 - 4*L*x**3 + 6*L**2*x**2)"
      ],
      "metadata": {
        "id": "YC4MH1-fCL29"
      },
      "id": "YC4MH1-fCL29",
      "execution_count": null,
      "outputs": []
    },
    {
      "cell_type": "code",
      "source": [
        "import matplotlib.pyplot as plt\n",
        "import numpy as np\n",
        "\n",
        "# Генерація значень x в діапазоні від -10 до 10\n",
        "x_values = np.linspace(0, L, 100)\n",
        "\n",
        "# Обчислення значень y за допомогою функції\n",
        "y_values = w(x_values, q, E, I)\n",
        "\n",
        "# Побудова графіка\n",
        "plt.plot(x_values, y_values, label='w(x)')\n",
        "plt.title('Прогин')\n",
        "plt.xlabel('x')\n",
        "plt.ylabel('w')\n",
        "plt.legend()\n",
        "plt.grid(True)\n",
        "plt.show()\n"
      ],
      "metadata": {
        "id": "91TpnGbIGhga",
        "colab": {
          "base_uri": "https://localhost:8080/",
          "height": 472
        },
        "outputId": "c1d866b2-fb14-4779-93e2-919a436620f0"
      },
      "id": "91TpnGbIGhga",
      "execution_count": null,
      "outputs": [
        {
          "output_type": "display_data",
          "data": {
            "text/plain": [
              "<Figure size 640x480 with 1 Axes>"
            ],
            "image/png": "[encoded data removed]"
          },
          "metadata": {}
        }
      ]
    },
    {
      "cell_type": "code",
      "source": [
        "w(L, q, E, I)"
      ],
      "metadata": {
        "colab": {
          "base_uri": "https://localhost:8080/"
        },
        "id": "vXjHqg3dNBH1",
        "outputId": "cbf83999-85ee-41d0-b7f2-0386936b2133"
      },
      "id": "vXjHqg3dNBH1",
      "execution_count": null,
      "outputs": [
        {
          "output_type": "execute_result",
          "data": {
            "text/plain": [
              "0.005331852263260205"
            ]
          },
          "metadata": {},
          "execution_count": 113
        }
      ]
    },
    {
      "cell_type": "markdown",
      "source": [
        "#Розв'язок за допомогою PINN"
      ],
      "metadata": {
        "id": "mbWFHPQ0CP89"
      },
      "id": "mbWFHPQ0CP89"
    },
    {
      "cell_type": "code",
      "execution_count": null,
      "id": "52680b11",
      "metadata": {
        "id": "52680b11"
      },
      "outputs": [],
      "source": [
        "import torch\n",
        "import torch.nn as nn\n",
        "import torch.optim as optim\n",
        "import seaborn as sns\n",
        "import matplotlib.pyplot as plt"
      ]
    },
    {
      "cell_type": "code",
      "execution_count": null,
      "id": "c42f60f1",
      "metadata": {
        "id": "c42f60f1"
      },
      "outputs": [],
      "source": [
        "class PINN(nn.Module):\n",
        "    def __init__(self):\n",
        "        super(PINN,self).__init__()\n",
        "        # def init_weights(m):\n",
        "        #     if isinstance(m, nn.Linear):\n",
        "        #         nn.init.xavier_uniform(m.weight)\n",
        "        #         m.bias.data.fill_(0.02)\n",
        "        self.net = nn.Sequential(\n",
        "            nn.Linear(1,64),\n",
        "            nn.Tanh(),\n",
        "            # nn.Linear(64,64),\n",
        "            # nn.Tanh(),\n",
        "            # nn.Linear(64,64),\n",
        "            # nn.ReLU(),\n",
        "            nn.Linear(64,1),\n",
        "            # nn.ReLU()\n",
        "        )\n",
        "\n",
        "        # self.apply(init_weights)\n",
        "        self.double()\n",
        "    def forward(self,x):\n",
        "        return self.net(x)"
      ]
    },
    {
      "cell_type": "code",
      "source": [
        "# x = torch.rand(10, 1, requires_grad = True)\n",
        "# x"
      ],
      "metadata": {
        "id": "CCEyURFU6WD9"
      },
      "id": "CCEyURFU6WD9",
      "execution_count": null,
      "outputs": []
    },
    {
      "cell_type": "code",
      "source": [
        "# x = (0 - 2)*torch.rand(10, 1, requires_grad = True) + 2 + 0.000000000001\n",
        "# x"
      ],
      "metadata": {
        "id": "hu7b2p2bEOh1"
      },
      "id": "hu7b2p2bEOh1",
      "execution_count": null,
      "outputs": []
    },
    {
      "cell_type": "code",
      "execution_count": null,
      "id": "0d3d62a8",
      "metadata": {
        "id": "0d3d62a8"
      },
      "outputs": [],
      "source": [
        "def initial_condition():\n",
        "    return torch.tensor([0.0])\n",
        "\n",
        "def boundary_condition():\n",
        "    return torch.tensor([0.0])"
      ]
    },
    {
      "cell_type": "code",
      "execution_count": null,
      "id": "6cf104d1",
      "metadata": {
        "id": "6cf104d1"
      },
      "outputs": [],
      "source": [
        "def generate_training_data(num_points, L):\n",
        "    # x = torch.rand(num_points, 1, requires_grad = True)\n",
        "\n",
        "    # x_rand = (0 - R)*torch.rand(int(num_points), 1, requires_grad = True) + R + 0.0001\n",
        "\n",
        "    # x_vals = torch.linspace(0+0.001, R-0.001, num_points, requires_grad = True)\n",
        "    # x_vals = x_vals + x_rand.flatten()\n",
        "    # x = torch.stack([x_vals.double()], dim=1)\n",
        "\n",
        "\n",
        "    # x = (0 - L)*torch.rand(int(num_points), 1, requires_grad = True) + L\n",
        "\n",
        "    x_vals = torch.linspace(0, L, num_points, requires_grad = True)\n",
        "    x = torch.stack([x_vals.double()], dim=1)\n",
        "\n",
        "\n",
        "    return x"
      ]
    },
    {
      "cell_type": "code",
      "source": [
        "tmp = torch.tensor([0.4])\n",
        "tmp.view(-1,1)"
      ],
      "metadata": {
        "colab": {
          "base_uri": "https://localhost:8080/"
        },
        "id": "JzbvspzLVWMj",
        "outputId": "5c63c56e-e4d8-4eb2-8b70-e16681357d70"
      },
      "id": "JzbvspzLVWMj",
      "execution_count": null,
      "outputs": [
        {
          "output_type": "execute_result",
          "data": {
            "text/plain": [
              "tensor([[0.4000]])"
            ]
          },
          "metadata": {},
          "execution_count": 120
        }
      ]
    },
    {
      "cell_type": "code",
      "execution_count": null,
      "id": "a42303a2",
      "metadata": {
        "id": "a42303a2"
      },
      "outputs": [],
      "source": [
        "def generate_boundary_points(b_point):\n",
        "    x_boundary = torch.tensor([b_point],  requires_grad = True)\n",
        "\n",
        "\n",
        "    return x_boundary.view(-1,1)\n",
        "\n",
        "\n",
        "def generate_boundary_training_data(b_point):\n",
        "    x_boundary = generate_boundary_points(b_point)\n",
        "\n",
        "\n",
        "    return x_boundary"
      ]
    },
    {
      "cell_type": "code",
      "execution_count": null,
      "id": "9f9e7a39",
      "metadata": {
        "id": "9f9e7a39"
      },
      "outputs": [],
      "source": [
        "def pde(x, model):\n",
        "\n",
        "    x = x.double()\n",
        "\n",
        "    # print('*********************************************************')\n",
        "    # print(x.size())\n",
        "    # print(x.dtype)\n",
        "\n",
        "    input_data = x\n",
        "\n",
        "    # print('*********************************************************')\n",
        "    # print(input_data.size())\n",
        "    # print(input_data.dtype)\n",
        "\n",
        "    u = model(input_data)\n",
        "    u_x = torch.autograd.grad(u, x, grad_outputs= torch.ones_like(u), create_graph= True, retain_graph=True)[0]\n",
        "    u_xx = torch.autograd.grad(u_x, x, grad_outputs= torch.ones_like(u_x), create_graph= True, retain_graph=True)[0]\n",
        "    u_xxx = torch.autograd.grad(u_xx, x, grad_outputs= torch.ones_like(u_xx), create_graph= True, retain_graph=True)[0]\n",
        "    u_xxxx = torch.autograd.grad(u_xxx, x, grad_outputs= torch.ones_like(u_xxx), create_graph= True, retain_graph=True)[0]\n",
        "    # print('*********************************************************')\n",
        "    # print(u_x.size())\n",
        "    # print(u_x.dtype)\n",
        "    # print('*********************************************************')\n",
        "    # print(u.size())\n",
        "    # print(u.dtype)\n",
        "    # print('*********************************************************')\n",
        "    # print(x.size())\n",
        "    # print(x.dtype)\n",
        "\n",
        "    eq_residual = u_xxxx\n",
        "    return eq_residual"
      ]
    },
    {
      "cell_type": "code",
      "execution_count": null,
      "id": "00395c93",
      "metadata": {
        "id": "00395c93"
      },
      "outputs": [],
      "source": [
        "def train_PINN(model, num_iterations, num_points, q, L, E, I):\n",
        "\n",
        "\n",
        "    optimizer = optim.Adam(model.parameters(), lr=1e-4)\n",
        "    # optimizer = optim.SGD(model.parameters(), lr=1e-3)\n",
        "    # optimizer = optim.LBFGS(model.parameters())\n",
        "    # breakpoint()\n",
        "    # x = generate_training_data(num_points, R)\n",
        "    for  iteration in range(num_iterations):\n",
        "        optimizer.zero_grad()\n",
        "\n",
        "        # breakpoint()\n",
        "\n",
        "        x = generate_training_data(num_points, L)\n",
        "\n",
        "        # print('generate_training_data')\n",
        "        # print(x)\n",
        "        # breakpoint()\n",
        "\n",
        "\n",
        "        x_b = generate_boundary_training_data(L)\n",
        "\n",
        "\n",
        "        # print('generate_boundary_training_data')\n",
        "        # print(x_b)\n",
        "        # breakpoint()\n",
        "\n",
        "        x_initial = torch.tensor([0.0],  requires_grad = True)\n",
        "        x_initial = x_initial.view(-1,1)\n",
        "        x_initial = x_initial.double()\n",
        "\n",
        "        # print('x_initial')\n",
        "        # print(x_initial)\n",
        "        # breakpoint()\n",
        "\n",
        "        u_initial_x = initial_condition()\n",
        "        u_initial_x = u_initial_x.double()\n",
        "\n",
        "        # print('u_initial_x')\n",
        "        # print(u_initial_x)\n",
        "        # breakpoint()\n",
        "\n",
        "\n",
        "        u_boundary_x = boundary_condition()\n",
        "\n",
        "        # print('boundary_condition')\n",
        "        # print(u_boundary_x)\n",
        "        # breakpoint()\n",
        "\n",
        "        residual = pde(x, model)\n",
        "\n",
        "        # print('residual')\n",
        "        # print(residual)\n",
        "        # breakpoint()\n",
        "\n",
        "        u_boundary_x = u_boundary_x.double()\n",
        "        x_b = x_b.double()\n",
        "\n",
        "        ub = model(x_b)\n",
        "        ui = model(x_initial)\n",
        "\n",
        "        ub_x = torch.autograd.grad(ub, x_b, grad_outputs= torch.ones_like(ub), create_graph= True, retain_graph=True)[0]\n",
        "        ub_xx = torch.autograd.grad(ub_x, x_b, grad_outputs= torch.ones_like(ub_x), create_graph= True, retain_graph=True)[0]\n",
        "        ub_xxx = torch.autograd.grad(ub_xx, x_b, grad_outputs= torch.ones_like(ub_xx), create_graph= True, retain_graph=True)[0]\n",
        "\n",
        "        ui_x = torch.autograd.grad(ui, x_initial, grad_outputs= torch.ones_like(ui), create_graph= True, retain_graph=True)[0]\n",
        "\n",
        "        # print('ub_x')\n",
        "        # print(ub_x)\n",
        "\n",
        "        # print('ui_x')\n",
        "        # print(ui_x)\n",
        "\n",
        "        # print('ui')\n",
        "        # print(ui)\n",
        "\n",
        "        # print('ub')\n",
        "        # print(ub)\n",
        "\n",
        "        # breakpoint()\n",
        "\n",
        "        residual_r = torch.tensor([q/(E*I)]).double()\n",
        "\n",
        "        # print('residual_r')\n",
        "        # print(residual_r)\n",
        "        # breakpoint()\n",
        "\n",
        "        # loss =  nn.MSELoss()(u_boundary_x, ub) + \\\n",
        "        #         nn.MSELoss()(u_boundary_x, ub_x) + \\\n",
        "        #         nn.MSELoss()(u_initial_x, ui_x) + \\\n",
        "        #         nn.MSELoss()(residual, torch.zeros_like(residual))\n",
        "\n",
        "        # loss =  nn.MSELoss()(u_boundary_x, ub) + \\\n",
        "        #         nn.MSELoss()(u_boundary_x, ub_x) + \\\n",
        "        #         nn.MSELoss()(u_boundary_x, (x_b)*ub_xx + nu*ub_x) + \\\n",
        "        #         nn.MSELoss()(u_initial_x, ui_x) + \\\n",
        "        #         nn.MSELoss()(residual, residual_r)\n",
        "\n",
        "        loss =  nn.MSELoss()(u_boundary_x, ub_xx) + \\\n",
        "                nn.MSELoss()(u_boundary_x, ub_xxx) + \\\n",
        "                nn.MSELoss()(u_initial_x, ui_x) + \\\n",
        "                nn.MSELoss()(u_initial_x, ui) + \\\n",
        "                nn.MSELoss()(residual, residual_r)\n",
        "\n",
        "\n",
        "\n",
        "        # l1_regularization, l2_regularization = torch.tensor(0.0), torch.tensor(0.0)\n",
        "        # for param in model.parameters():\n",
        "        #     l1_regularization += torch.norm(param, 1)**2\n",
        "        #     l2_regularization += torch.norm(param, 2)**2\n",
        "\n",
        "        # loss = loss + l1_regularization + l2_regularization\n",
        "\n",
        "        # print('loss')\n",
        "        # print(loss)\n",
        "        # breakpoint()\n",
        "\n",
        "        loss.backward()\n",
        "\n",
        "        # breakpoint()\n",
        "\n",
        "        optimizer.step()\n",
        "\n",
        "        # breakpoint()\n",
        "\n",
        "        if iteration % 100 == 0:\n",
        "            print(\"itration\", iteration, \"loss\", loss )"
      ]
    },
    {
      "cell_type": "code",
      "execution_count": null,
      "id": "3565e7b3",
      "metadata": {
        "scrolled": true,
        "colab": {
          "base_uri": "https://localhost:8080/"
        },
        "id": "3565e7b3",
        "outputId": "8a935d5a-6b9f-4772-f132-b89feae7062a"
      },
      "outputs": [
        {
          "output_type": "stream",
          "name": "stderr",
          "text": [
            "/usr/local/lib/python3.10/dist-packages/torch/nn/modules/loss.py:535: UserWarning:\n",
            "\n",
            "Using a target size (torch.Size([1, 1])) that is different to the input size (torch.Size([1])). This will likely lead to incorrect results due to broadcasting. Please ensure they have the same size.\n",
            "\n",
            "/usr/local/lib/python3.10/dist-packages/torch/nn/modules/loss.py:535: UserWarning:\n",
            "\n",
            "Using a target size (torch.Size([1])) that is different to the input size (torch.Size([100, 1])). This will likely lead to incorrect results due to broadcasting. Please ensure they have the same size.\n",
            "\n"
          ]
        },
        {
          "output_type": "stream",
          "name": "stdout",
          "text": [
            "itration 0 loss tensor(0.1464, dtype=torch.float64, grad_fn=<AddBackward0>)\n",
            "itration 100 loss tensor(0.0255, dtype=torch.float64, grad_fn=<AddBackward0>)\n",
            "itration 200 loss tensor(0.0059, dtype=torch.float64, grad_fn=<AddBackward0>)\n",
            "itration 300 loss tensor(0.0034, dtype=torch.float64, grad_fn=<AddBackward0>)\n",
            "itration 400 loss tensor(0.0023, dtype=torch.float64, grad_fn=<AddBackward0>)\n",
            "itration 500 loss tensor(0.0015, dtype=torch.float64, grad_fn=<AddBackward0>)\n",
            "itration 600 loss tensor(0.0011, dtype=torch.float64, grad_fn=<AddBackward0>)\n",
            "itration 700 loss tensor(0.0008, dtype=torch.float64, grad_fn=<AddBackward0>)\n",
            "itration 800 loss tensor(0.0006, dtype=torch.float64, grad_fn=<AddBackward0>)\n",
            "itration 900 loss tensor(0.0005, dtype=torch.float64, grad_fn=<AddBackward0>)\n",
            "itration 1000 loss tensor(0.0004, dtype=torch.float64, grad_fn=<AddBackward0>)\n",
            "itration 1100 loss tensor(0.0003, dtype=torch.float64, grad_fn=<AddBackward0>)\n",
            "itration 1200 loss tensor(0.0003, dtype=torch.float64, grad_fn=<AddBackward0>)\n",
            "itration 1300 loss tensor(0.0003, dtype=torch.float64, grad_fn=<AddBackward0>)\n",
            "itration 1400 loss tensor(0.0002, dtype=torch.float64, grad_fn=<AddBackward0>)\n",
            "itration 1500 loss tensor(0.0002, dtype=torch.float64, grad_fn=<AddBackward0>)\n",
            "itration 1600 loss tensor(0.0002, dtype=torch.float64, grad_fn=<AddBackward0>)\n",
            "itration 1700 loss tensor(0.0002, dtype=torch.float64, grad_fn=<AddBackward0>)\n",
            "itration 1800 loss tensor(0.0001, dtype=torch.float64, grad_fn=<AddBackward0>)\n",
            "itration 1900 loss tensor(0.0001, dtype=torch.float64, grad_fn=<AddBackward0>)\n",
            "itration 2000 loss tensor(0.0001, dtype=torch.float64, grad_fn=<AddBackward0>)\n",
            "itration 2100 loss tensor(9.6257e-05, dtype=torch.float64, grad_fn=<AddBackward0>)\n",
            "itration 2200 loss tensor(8.6713e-05, dtype=torch.float64, grad_fn=<AddBackward0>)\n",
            "itration 2300 loss tensor(7.8589e-05, dtype=torch.float64, grad_fn=<AddBackward0>)\n",
            "itration 2400 loss tensor(7.1627e-05, dtype=torch.float64, grad_fn=<AddBackward0>)\n",
            "itration 2500 loss tensor(6.5609e-05, dtype=torch.float64, grad_fn=<AddBackward0>)\n",
            "itration 2600 loss tensor(6.0356e-05, dtype=torch.float64, grad_fn=<AddBackward0>)\n",
            "itration 2700 loss tensor(5.5724e-05, dtype=torch.float64, grad_fn=<AddBackward0>)\n",
            "itration 2800 loss tensor(5.1598e-05, dtype=torch.float64, grad_fn=<AddBackward0>)\n",
            "itration 2900 loss tensor(4.7888e-05, dtype=torch.float64, grad_fn=<AddBackward0>)\n",
            "itration 3000 loss tensor(4.4524e-05, dtype=torch.float64, grad_fn=<AddBackward0>)\n",
            "itration 3100 loss tensor(4.1453e-05, dtype=torch.float64, grad_fn=<AddBackward0>)\n",
            "itration 3200 loss tensor(3.8634e-05, dtype=torch.float64, grad_fn=<AddBackward0>)\n",
            "itration 3300 loss tensor(3.6036e-05, dtype=torch.float64, grad_fn=<AddBackward0>)\n",
            "itration 3400 loss tensor(3.3635e-05, dtype=torch.float64, grad_fn=<AddBackward0>)\n",
            "itration 3500 loss tensor(3.1412e-05, dtype=torch.float64, grad_fn=<AddBackward0>)\n",
            "itration 3600 loss tensor(2.9354e-05, dtype=torch.float64, grad_fn=<AddBackward0>)\n",
            "itration 3700 loss tensor(2.7448e-05, dtype=torch.float64, grad_fn=<AddBackward0>)\n",
            "itration 3800 loss tensor(2.5684e-05, dtype=torch.float64, grad_fn=<AddBackward0>)\n",
            "itration 3900 loss tensor(2.4051e-05, dtype=torch.float64, grad_fn=<AddBackward0>)\n",
            "itration 4000 loss tensor(2.2542e-05, dtype=torch.float64, grad_fn=<AddBackward0>)\n",
            "itration 4100 loss tensor(2.1146e-05, dtype=torch.float64, grad_fn=<AddBackward0>)\n",
            "itration 4200 loss tensor(1.9857e-05, dtype=torch.float64, grad_fn=<AddBackward0>)\n",
            "itration 4300 loss tensor(1.8664e-05, dtype=torch.float64, grad_fn=<AddBackward0>)\n",
            "itration 4400 loss tensor(1.7560e-05, dtype=torch.float64, grad_fn=<AddBackward0>)\n",
            "itration 4500 loss tensor(1.6537e-05, dtype=torch.float64, grad_fn=<AddBackward0>)\n",
            "itration 4600 loss tensor(1.5586e-05, dtype=torch.float64, grad_fn=<AddBackward0>)\n",
            "itration 4700 loss tensor(1.4699e-05, dtype=torch.float64, grad_fn=<AddBackward0>)\n",
            "itration 4800 loss tensor(1.3869e-05, dtype=torch.float64, grad_fn=<AddBackward0>)\n",
            "itration 4900 loss tensor(1.3090e-05, dtype=torch.float64, grad_fn=<AddBackward0>)\n",
            "itration 5000 loss tensor(1.2355e-05, dtype=torch.float64, grad_fn=<AddBackward0>)\n",
            "itration 5100 loss tensor(1.1658e-05, dtype=torch.float64, grad_fn=<AddBackward0>)\n",
            "itration 5200 loss tensor(1.0994e-05, dtype=torch.float64, grad_fn=<AddBackward0>)\n",
            "itration 5300 loss tensor(1.0360e-05, dtype=torch.float64, grad_fn=<AddBackward0>)\n",
            "itration 5400 loss tensor(9.7511e-06, dtype=torch.float64, grad_fn=<AddBackward0>)\n",
            "itration 5500 loss tensor(9.1653e-06, dtype=torch.float64, grad_fn=<AddBackward0>)\n",
            "itration 5600 loss tensor(8.6004e-06, dtype=torch.float64, grad_fn=<AddBackward0>)\n",
            "itration 5700 loss tensor(8.0547e-06, dtype=torch.float64, grad_fn=<AddBackward0>)\n",
            "itration 5800 loss tensor(7.5274e-06, dtype=torch.float64, grad_fn=<AddBackward0>)\n",
            "itration 5900 loss tensor(7.0181e-06, dtype=torch.float64, grad_fn=<AddBackward0>)\n",
            "itration 6000 loss tensor(6.5266e-06, dtype=torch.float64, grad_fn=<AddBackward0>)\n",
            "itration 6100 loss tensor(6.0533e-06, dtype=torch.float64, grad_fn=<AddBackward0>)\n",
            "itration 6200 loss tensor(5.5987e-06, dtype=torch.float64, grad_fn=<AddBackward0>)\n",
            "itration 6300 loss tensor(5.1633e-06, dtype=torch.float64, grad_fn=<AddBackward0>)\n",
            "itration 6400 loss tensor(4.7478e-06, dtype=torch.float64, grad_fn=<AddBackward0>)\n",
            "itration 6500 loss tensor(4.3527e-06, dtype=torch.float64, grad_fn=<AddBackward0>)\n",
            "itration 6600 loss tensor(3.9786e-06, dtype=torch.float64, grad_fn=<AddBackward0>)\n",
            "itration 6700 loss tensor(3.6258e-06, dtype=torch.float64, grad_fn=<AddBackward0>)\n",
            "itration 6800 loss tensor(3.2945e-06, dtype=torch.float64, grad_fn=<AddBackward0>)\n",
            "itration 6900 loss tensor(2.9848e-06, dtype=torch.float64, grad_fn=<AddBackward0>)\n",
            "itration 7000 loss tensor(2.6966e-06, dtype=torch.float64, grad_fn=<AddBackward0>)\n",
            "itration 7100 loss tensor(2.4296e-06, dtype=torch.float64, grad_fn=<AddBackward0>)\n",
            "itration 7200 loss tensor(2.1833e-06, dtype=torch.float64, grad_fn=<AddBackward0>)\n",
            "itration 7300 loss tensor(1.9573e-06, dtype=torch.float64, grad_fn=<AddBackward0>)\n",
            "itration 7400 loss tensor(1.7508e-06, dtype=torch.float64, grad_fn=<AddBackward0>)\n",
            "itration 7500 loss tensor(1.5631e-06, dtype=torch.float64, grad_fn=<AddBackward0>)\n",
            "itration 7600 loss tensor(1.3932e-06, dtype=torch.float64, grad_fn=<AddBackward0>)\n",
            "itration 7700 loss tensor(1.2403e-06, dtype=torch.float64, grad_fn=<AddBackward0>)\n",
            "itration 7800 loss tensor(1.1034e-06, dtype=torch.float64, grad_fn=<AddBackward0>)\n",
            "itration 7900 loss tensor(9.8134e-07, dtype=torch.float64, grad_fn=<AddBackward0>)\n",
            "itration 8000 loss tensor(8.7320e-07, dtype=torch.float64, grad_fn=<AddBackward0>)\n",
            "itration 8100 loss tensor(7.7785e-07, dtype=torch.float64, grad_fn=<AddBackward0>)\n",
            "itration 8200 loss tensor(6.9425e-07, dtype=torch.float64, grad_fn=<AddBackward0>)\n",
            "itration 8300 loss tensor(6.2132e-07, dtype=torch.float64, grad_fn=<AddBackward0>)\n",
            "itration 8400 loss tensor(5.5802e-07, dtype=torch.float64, grad_fn=<AddBackward0>)\n",
            "itration 8500 loss tensor(5.0334e-07, dtype=torch.float64, grad_fn=<AddBackward0>)\n",
            "itration 8600 loss tensor(4.5632e-07, dtype=torch.float64, grad_fn=<AddBackward0>)\n",
            "itration 8700 loss tensor(4.1602e-07, dtype=torch.float64, grad_fn=<AddBackward0>)\n",
            "itration 8800 loss tensor(3.8158e-07, dtype=torch.float64, grad_fn=<AddBackward0>)\n",
            "itration 8900 loss tensor(3.5219e-07, dtype=torch.float64, grad_fn=<AddBackward0>)\n",
            "itration 9000 loss tensor(3.2709e-07, dtype=torch.float64, grad_fn=<AddBackward0>)\n",
            "itration 9100 loss tensor(3.0561e-07, dtype=torch.float64, grad_fn=<AddBackward0>)\n",
            "itration 9200 loss tensor(2.8714e-07, dtype=torch.float64, grad_fn=<AddBackward0>)\n",
            "itration 9300 loss tensor(2.7114e-07, dtype=torch.float64, grad_fn=<AddBackward0>)\n",
            "itration 9400 loss tensor(2.5714e-07, dtype=torch.float64, grad_fn=<AddBackward0>)\n",
            "itration 9500 loss tensor(2.4473e-07, dtype=torch.float64, grad_fn=<AddBackward0>)\n",
            "itration 9600 loss tensor(2.3356e-07, dtype=torch.float64, grad_fn=<AddBackward0>)\n",
            "itration 9700 loss tensor(2.2336e-07, dtype=torch.float64, grad_fn=<AddBackward0>)\n",
            "itration 9800 loss tensor(2.1388e-07, dtype=torch.float64, grad_fn=<AddBackward0>)\n",
            "itration 9900 loss tensor(2.0495e-07, dtype=torch.float64, grad_fn=<AddBackward0>)\n",
            "itration 10000 loss tensor(1.9642e-07, dtype=torch.float64, grad_fn=<AddBackward0>)\n",
            "itration 10100 loss tensor(1.8819e-07, dtype=torch.float64, grad_fn=<AddBackward0>)\n",
            "itration 10200 loss tensor(1.8017e-07, dtype=torch.float64, grad_fn=<AddBackward0>)\n",
            "itration 10300 loss tensor(1.7231e-07, dtype=torch.float64, grad_fn=<AddBackward0>)\n",
            "itration 10400 loss tensor(1.6458e-07, dtype=torch.float64, grad_fn=<AddBackward0>)\n",
            "itration 10500 loss tensor(1.5696e-07, dtype=torch.float64, grad_fn=<AddBackward0>)\n",
            "itration 10600 loss tensor(1.4945e-07, dtype=torch.float64, grad_fn=<AddBackward0>)\n",
            "itration 10700 loss tensor(1.4204e-07, dtype=torch.float64, grad_fn=<AddBackward0>)\n",
            "itration 10800 loss tensor(1.3474e-07, dtype=torch.float64, grad_fn=<AddBackward0>)\n",
            "itration 10900 loss tensor(1.2757e-07, dtype=torch.float64, grad_fn=<AddBackward0>)\n",
            "itration 11000 loss tensor(1.2054e-07, dtype=torch.float64, grad_fn=<AddBackward0>)\n",
            "itration 11100 loss tensor(1.1366e-07, dtype=torch.float64, grad_fn=<AddBackward0>)\n",
            "itration 11200 loss tensor(1.0696e-07, dtype=torch.float64, grad_fn=<AddBackward0>)\n",
            "itration 11300 loss tensor(1.0045e-07, dtype=torch.float64, grad_fn=<AddBackward0>)\n",
            "itration 11400 loss tensor(9.4152e-08, dtype=torch.float64, grad_fn=<AddBackward0>)\n",
            "itration 11500 loss tensor(8.8077e-08, dtype=torch.float64, grad_fn=<AddBackward0>)\n",
            "itration 11600 loss tensor(8.2537e-08, dtype=torch.float64, grad_fn=<AddBackward0>)\n",
            "itration 11700 loss tensor(7.7234e-08, dtype=torch.float64, grad_fn=<AddBackward0>)\n",
            "itration 11800 loss tensor(7.2170e-08, dtype=torch.float64, grad_fn=<AddBackward0>)\n",
            "itration 11900 loss tensor(6.7335e-08, dtype=torch.float64, grad_fn=<AddBackward0>)\n",
            "itration 12000 loss tensor(6.2999e-08, dtype=torch.float64, grad_fn=<AddBackward0>)\n",
            "itration 12100 loss tensor(5.8821e-08, dtype=torch.float64, grad_fn=<AddBackward0>)\n",
            "itration 12200 loss tensor(5.4926e-08, dtype=torch.float64, grad_fn=<AddBackward0>)\n",
            "itration 12300 loss tensor(1.4351e-07, dtype=torch.float64, grad_fn=<AddBackward0>)\n",
            "itration 12400 loss tensor(4.8047e-08, dtype=torch.float64, grad_fn=<AddBackward0>)\n",
            "itration 12500 loss tensor(4.5007e-08, dtype=torch.float64, grad_fn=<AddBackward0>)\n",
            "itration 12600 loss tensor(4.2155e-08, dtype=torch.float64, grad_fn=<AddBackward0>)\n",
            "itration 12700 loss tensor(4.0087e-08, dtype=torch.float64, grad_fn=<AddBackward0>)\n",
            "itration 12800 loss tensor(3.7334e-08, dtype=torch.float64, grad_fn=<AddBackward0>)\n",
            "itration 12900 loss tensor(3.5202e-08, dtype=torch.float64, grad_fn=<AddBackward0>)\n",
            "itration 13000 loss tensor(8.1328e-08, dtype=torch.float64, grad_fn=<AddBackward0>)\n",
            "itration 13100 loss tensor(3.1559e-08, dtype=torch.float64, grad_fn=<AddBackward0>)\n",
            "itration 13200 loss tensor(2.9976e-08, dtype=torch.float64, grad_fn=<AddBackward0>)\n",
            "itration 13300 loss tensor(4.0836e-08, dtype=torch.float64, grad_fn=<AddBackward0>)\n",
            "itration 13400 loss tensor(3.0283e-08, dtype=torch.float64, grad_fn=<AddBackward0>)\n",
            "itration 13500 loss tensor(2.7457e-08, dtype=torch.float64, grad_fn=<AddBackward0>)\n",
            "itration 13600 loss tensor(2.4966e-08, dtype=torch.float64, grad_fn=<AddBackward0>)\n",
            "itration 13700 loss tensor(2.3977e-08, dtype=torch.float64, grad_fn=<AddBackward0>)\n",
            "itration 13800 loss tensor(2.3601e-08, dtype=torch.float64, grad_fn=<AddBackward0>)\n",
            "itration 13900 loss tensor(2.2271e-08, dtype=torch.float64, grad_fn=<AddBackward0>)\n",
            "itration 14000 loss tensor(2.1639e-08, dtype=torch.float64, grad_fn=<AddBackward0>)\n",
            "itration 14100 loss tensor(2.3950e-08, dtype=torch.float64, grad_fn=<AddBackward0>)\n",
            "itration 14200 loss tensor(2.0204e-08, dtype=torch.float64, grad_fn=<AddBackward0>)\n",
            "itration 14300 loss tensor(2.3495e-08, dtype=torch.float64, grad_fn=<AddBackward0>)\n",
            "itration 14400 loss tensor(1.9079e-08, dtype=torch.float64, grad_fn=<AddBackward0>)\n",
            "itration 14500 loss tensor(2.2896e-08, dtype=torch.float64, grad_fn=<AddBackward0>)\n",
            "itration 14600 loss tensor(2.0595e-08, dtype=torch.float64, grad_fn=<AddBackward0>)\n",
            "itration 14700 loss tensor(1.7666e-08, dtype=torch.float64, grad_fn=<AddBackward0>)\n",
            "itration 14800 loss tensor(8.9427e-08, dtype=torch.float64, grad_fn=<AddBackward0>)\n",
            "itration 14900 loss tensor(1.6870e-08, dtype=torch.float64, grad_fn=<AddBackward0>)\n",
            "itration 15000 loss tensor(1.6532e-08, dtype=torch.float64, grad_fn=<AddBackward0>)\n",
            "itration 15100 loss tensor(3.9762e-08, dtype=torch.float64, grad_fn=<AddBackward0>)\n",
            "itration 15200 loss tensor(1.5836e-08, dtype=torch.float64, grad_fn=<AddBackward0>)\n",
            "itration 15300 loss tensor(1.5494e-08, dtype=torch.float64, grad_fn=<AddBackward0>)\n",
            "itration 15400 loss tensor(1.7593e-08, dtype=torch.float64, grad_fn=<AddBackward0>)\n",
            "itration 15500 loss tensor(1.4899e-08, dtype=torch.float64, grad_fn=<AddBackward0>)\n",
            "itration 15600 loss tensor(1.4613e-08, dtype=torch.float64, grad_fn=<AddBackward0>)\n",
            "itration 15700 loss tensor(1.4392e-08, dtype=torch.float64, grad_fn=<AddBackward0>)\n",
            "itration 15800 loss tensor(1.4114e-08, dtype=torch.float64, grad_fn=<AddBackward0>)\n",
            "itration 15900 loss tensor(1.3827e-08, dtype=torch.float64, grad_fn=<AddBackward0>)\n",
            "itration 16000 loss tensor(4.4253e-08, dtype=torch.float64, grad_fn=<AddBackward0>)\n",
            "itration 16100 loss tensor(1.3340e-08, dtype=torch.float64, grad_fn=<AddBackward0>)\n",
            "itration 16200 loss tensor(1.3097e-08, dtype=torch.float64, grad_fn=<AddBackward0>)\n",
            "itration 16300 loss tensor(1.5748e-08, dtype=torch.float64, grad_fn=<AddBackward0>)\n",
            "itration 16400 loss tensor(1.2688e-08, dtype=torch.float64, grad_fn=<AddBackward0>)\n",
            "itration 16500 loss tensor(1.4559e-08, dtype=torch.float64, grad_fn=<AddBackward0>)\n",
            "itration 16600 loss tensor(1.2213e-08, dtype=torch.float64, grad_fn=<AddBackward0>)\n",
            "itration 16700 loss tensor(1.2001e-08, dtype=torch.float64, grad_fn=<AddBackward0>)\n",
            "itration 16800 loss tensor(1.1788e-08, dtype=torch.float64, grad_fn=<AddBackward0>)\n",
            "itration 16900 loss tensor(2.3017e-08, dtype=torch.float64, grad_fn=<AddBackward0>)\n",
            "itration 17000 loss tensor(1.1506e-08, dtype=torch.float64, grad_fn=<AddBackward0>)\n",
            "itration 17100 loss tensor(1.1297e-08, dtype=torch.float64, grad_fn=<AddBackward0>)\n",
            "itration 17200 loss tensor(9.2944e-08, dtype=torch.float64, grad_fn=<AddBackward0>)\n",
            "itration 17300 loss tensor(1.0820e-08, dtype=torch.float64, grad_fn=<AddBackward0>)\n",
            "itration 17400 loss tensor(1.0987e-08, dtype=torch.float64, grad_fn=<AddBackward0>)\n",
            "itration 17500 loss tensor(1.0818e-08, dtype=torch.float64, grad_fn=<AddBackward0>)\n",
            "itration 17600 loss tensor(1.0287e-08, dtype=torch.float64, grad_fn=<AddBackward0>)\n",
            "itration 17700 loss tensor(1.1125e-08, dtype=torch.float64, grad_fn=<AddBackward0>)\n",
            "itration 17800 loss tensor(9.9469e-09, dtype=torch.float64, grad_fn=<AddBackward0>)\n",
            "itration 17900 loss tensor(9.8281e-09, dtype=torch.float64, grad_fn=<AddBackward0>)\n",
            "itration 18000 loss tensor(9.6298e-09, dtype=torch.float64, grad_fn=<AddBackward0>)\n",
            "itration 18100 loss tensor(1.0534e-08, dtype=torch.float64, grad_fn=<AddBackward0>)\n",
            "itration 18200 loss tensor(9.3204e-09, dtype=torch.float64, grad_fn=<AddBackward0>)\n",
            "itration 18300 loss tensor(7.0795e-08, dtype=torch.float64, grad_fn=<AddBackward0>)\n",
            "itration 18400 loss tensor(9.0169e-09, dtype=torch.float64, grad_fn=<AddBackward0>)\n",
            "itration 18500 loss tensor(9.7191e-09, dtype=torch.float64, grad_fn=<AddBackward0>)\n",
            "itration 18600 loss tensor(3.5476e-08, dtype=torch.float64, grad_fn=<AddBackward0>)\n",
            "itration 18700 loss tensor(8.5964e-09, dtype=torch.float64, grad_fn=<AddBackward0>)\n",
            "itration 18800 loss tensor(8.6582e-09, dtype=torch.float64, grad_fn=<AddBackward0>)\n",
            "itration 18900 loss tensor(8.3851e-09, dtype=torch.float64, grad_fn=<AddBackward0>)\n",
            "itration 19000 loss tensor(1.0086e-08, dtype=torch.float64, grad_fn=<AddBackward0>)\n",
            "itration 19100 loss tensor(8.0761e-09, dtype=torch.float64, grad_fn=<AddBackward0>)\n",
            "itration 19200 loss tensor(7.9762e-09, dtype=torch.float64, grad_fn=<AddBackward0>)\n",
            "itration 19300 loss tensor(7.8248e-09, dtype=torch.float64, grad_fn=<AddBackward0>)\n",
            "itration 19400 loss tensor(6.6658e-08, dtype=torch.float64, grad_fn=<AddBackward0>)\n",
            "itration 19500 loss tensor(7.5909e-09, dtype=torch.float64, grad_fn=<AddBackward0>)\n",
            "itration 19600 loss tensor(5.7158e-08, dtype=torch.float64, grad_fn=<AddBackward0>)\n",
            "itration 19700 loss tensor(7.3583e-09, dtype=torch.float64, grad_fn=<AddBackward0>)\n",
            "itration 19800 loss tensor(9.5078e-09, dtype=torch.float64, grad_fn=<AddBackward0>)\n",
            "itration 19900 loss tensor(7.1446e-09, dtype=torch.float64, grad_fn=<AddBackward0>)\n"
          ]
        }
      ],
      "source": [
        "model = PINN()\n",
        "num_iterations = 20000\n",
        "num_points = 100\n",
        "train_PINN(model, num_iterations, num_points, q, L, E, I)"
      ]
    },
    {
      "cell_type": "code",
      "execution_count": null,
      "id": "da8f8045",
      "metadata": {
        "id": "da8f8045",
        "colab": {
          "base_uri": "https://localhost:8080/"
        },
        "outputId": "14fe7d91-aa59-48ca-dc91-6eca4a80281f"
      },
      "outputs": [
        {
          "output_type": "stream",
          "name": "stdout",
          "text": [
            "tensor([[0.0000e+00, 3.9037e-08],\n",
            "        [4.0816e-02, 4.4178e-06],\n",
            "        [8.1632e-02, 1.7328e-05],\n",
            "        [1.2245e-01, 3.8418e-05],\n",
            "        [1.6326e-01, 6.7345e-05],\n",
            "        [2.0408e-01, 1.0377e-04],\n",
            "        [2.4490e-01, 1.4737e-04],\n",
            "        [2.8571e-01, 1.9781e-04],\n",
            "        [3.2653e-01, 2.5478e-04],\n",
            "        [3.6735e-01, 3.1798e-04],\n",
            "        [4.0816e-01, 3.8710e-04],\n",
            "        [4.4898e-01, 4.6185e-04],\n",
            "        [4.8979e-01, 5.4195e-04],\n",
            "        [5.3061e-01, 6.2712e-04],\n",
            "        [5.7143e-01, 7.1709e-04],\n",
            "        [6.1224e-01, 8.1160e-04],\n",
            "        [6.5306e-01, 9.1038e-04],\n",
            "        [6.9387e-01, 1.0132e-03],\n",
            "        [7.3469e-01, 1.1198e-03],\n",
            "        [7.7551e-01, 1.2300e-03],\n",
            "        [8.1632e-01, 1.3435e-03],\n",
            "        [8.5714e-01, 1.4601e-03],\n",
            "        [8.9795e-01, 1.5797e-03],\n",
            "        [9.3877e-01, 1.7019e-03],\n",
            "        [9.7959e-01, 1.8266e-03],\n",
            "        [1.0204e+00, 1.9537e-03],\n",
            "        [1.0612e+00, 2.0828e-03],\n",
            "        [1.1020e+00, 2.2140e-03],\n",
            "        [1.1429e+00, 2.3469e-03],\n",
            "        [1.1837e+00, 2.4814e-03],\n",
            "        [1.2245e+00, 2.6175e-03],\n",
            "        [1.2653e+00, 2.7548e-03],\n",
            "        [1.3061e+00, 2.8934e-03],\n",
            "        [1.3469e+00, 3.0331e-03],\n",
            "        [1.3877e+00, 3.1737e-03],\n",
            "        [1.4286e+00, 3.3151e-03],\n",
            "        [1.4694e+00, 3.4573e-03],\n",
            "        [1.5102e+00, 3.6000e-03],\n",
            "        [1.5510e+00, 3.7434e-03],\n",
            "        [1.5918e+00, 3.8871e-03],\n",
            "        [1.6326e+00, 4.0313e-03],\n",
            "        [1.6735e+00, 4.1757e-03],\n",
            "        [1.7143e+00, 4.3204e-03],\n",
            "        [1.7551e+00, 4.4652e-03],\n",
            "        [1.7959e+00, 4.6102e-03],\n",
            "        [1.8367e+00, 4.7552e-03],\n",
            "        [1.8775e+00, 4.9004e-03],\n",
            "        [1.9184e+00, 5.0455e-03],\n",
            "        [1.9592e+00, 5.1907e-03],\n",
            "        [2.0000e+00, 5.3358e-03]], dtype=torch.float64)\n"
          ]
        }
      ],
      "source": [
        "with torch.no_grad():\n",
        "    x_vals = torch.linspace(0, L-0.00001, 50)\n",
        "\n",
        "\n",
        "    input_data = torch.stack([x_vals.double()], dim=1)\n",
        "    solution = model(input_data)\n",
        "    sol = torch.stack([x_vals, solution.flatten()], dim=1)\n",
        "\n",
        "    print(sol)\n",
        "\n"
      ]
    },
    {
      "cell_type": "code",
      "source": [],
      "metadata": {
        "id": "2jqhZZie9GrR"
      },
      "id": "2jqhZZie9GrR",
      "execution_count": null,
      "outputs": []
    },
    {
      "cell_type": "code",
      "source": [
        "sol_np = sol.numpy()\n",
        "np.shape(sol_np)\n",
        "points = sol_np[:, 0]\n",
        "points"
      ],
      "metadata": {
        "id": "kcDJO6eV9l-H",
        "colab": {
          "base_uri": "https://localhost:8080/"
        },
        "outputId": "d55cf369-7be8-4c27-9bfe-30c0d6f31ab7"
      },
      "id": "kcDJO6eV9l-H",
      "execution_count": null,
      "outputs": [
        {
          "output_type": "execute_result",
          "data": {
            "text/plain": [
              "array([0.        , 0.04081612, 0.08163224, 0.12244836, 0.16326448,\n",
              "       0.20408061, 0.24489672, 0.28571284, 0.32652897, 0.36734509,\n",
              "       0.40816122, 0.44897732, 0.48979345, 0.53060955, 0.57142568,\n",
              "       0.6122418 , 0.65305793, 0.69387406, 0.73469019, 0.77550632,\n",
              "       0.81632245, 0.85713851, 0.89795464, 0.93877077, 0.9795869 ,\n",
              "       1.02040315, 1.06121922, 1.10203528, 1.14285147, 1.18366754,\n",
              "       1.22448373, 1.2652998 , 1.30611598, 1.34693205, 1.38774812,\n",
              "       1.42856431, 1.46938038, 1.51019657, 1.55101264, 1.59182882,\n",
              "       1.63264489, 1.67346096, 1.71427715, 1.75509322, 1.7959094 ,\n",
              "       1.83672547, 1.87754166, 1.91835773, 1.95917392, 1.99998999])"
            ]
          },
          "metadata": {},
          "execution_count": 126
        }
      ]
    },
    {
      "cell_type": "code",
      "source": [
        "pred_y = []\n",
        "true_y = []\n",
        "pred_y = sol_np[:, 1]\n",
        "for x in points:\n",
        "    true_y.append(w(x, q, E, I))\n",
        "\n",
        "print(true_y)"
      ],
      "metadata": {
        "id": "9Whq6QhQ86yT",
        "colab": {
          "base_uri": "https://localhost:8080/"
        },
        "outputId": "74ba3efe-b98c-44d4-fc2c-53f42843c1be"
      },
      "id": "9Whq6QhQ86yT",
      "execution_count": null,
      "outputs": [
        {
          "output_type": "stream",
          "name": "stdout",
          "text": [
            "[0.0, 4.381197426086723e-06, 1.72867862283483e-05, 3.836531046822636e-05, 6.727271324108185e-05, 0.00010367234398425637, 0.00014723492193676567, 0.0001976385994140749, 0.0002545689377566741, 0.0003177188578887169, 0.00038678869694565396, 0.00046148613457634084, 0.0005415264152478098, 0.0006266319567625355, 0.0007165328168509697, 0.0008109662675095565, 0.0009096770400988726, 0.0010124172650188166, 0.0011189464717086088, 0.0012290315886467921, 0.0013424469433512298, 0.0014589740900431485, 0.0015784024949048235, 0.0017005285146140133, 0.0018251560728350647, 0.0019520968662183828, 0.002081168684624146, 0.0022121982008026764, 0.0023450193256917976, 0.0024794722026228906, 0.002615405934584825, 0.002752675444777219, 0.0028911446507491746, 0.003030683258939741, 0.0031711695866785774, 0.0033124893614136877, 0.0034545344699971063, 0.003597205853131438, 0.0037404101878234283, 0.0038840632196545186, 0.004028086417947206, 0.004172409909280278, 0.004316971222787251, 0.004461714019549038, 0.004606591049391524, 0.004751560769601268, 0.004896590729437137, 0.005041654183342214, 0.005186733479230349, 0.005331816669306269]\n"
          ]
        }
      ]
    },
    {
      "cell_type": "code",
      "source": [
        "import plotly.express as px\n",
        "import plotly.graph_objects as go\n",
        "from plotly.offline import plot\n",
        "\n",
        "def plot_feature(true_y, pred_y, points):\n",
        "\n",
        "    fig_prices = go.Figure()\n",
        "    fig_prices.add_trace(go.Scatter(x=points, y=true_y,\n",
        "                        # fill= 'tonexty',\n",
        "                        mode='lines',\n",
        "                        # line_color='indigo',\n",
        "                        name=\"Точний розв'язок\"))\n",
        "    fig_prices.add_trace(go.Scatter(\n",
        "                        x=points,\n",
        "                        y=pred_y,\n",
        "                        # fill='tonexty', # fill area between trace0 and trace1\n",
        "                        mode='lines',\n",
        "                        # line_color='red',\n",
        "                        name=\"Наближений розв'язок\"))\n",
        "\n",
        "\n",
        "    fig_prices.update_layout(yaxis_title=\"Значення функції\")\n",
        "    fig_prices.update_layout(\n",
        "    xaxis=dict(\n",
        "        title='Точки колокації',\n",
        "        title_font=dict(size=20),  # Збільшення розміру шрифту підпису осі X\n",
        "        tickfont=dict(size=16),    # Збільшення розміру шрифту тікерів-\n",
        "    ),\n",
        "    yaxis=dict(\n",
        "        title='Значення функції',\n",
        "        title_font=dict(size=20),  # Збільшення розміру шрифту підпису осі Y\n",
        "        tickfont=dict(size=16),    # Збільшення розміру шрифту тікерів\n",
        "    ),\n",
        "    legend=dict(\n",
        "        font=dict(size=18)          # Збільшення розміру шрифту легенди\n",
        "    )\n",
        ")\n",
        "    fig_prices.show()\n",
        "\n",
        "    return 0"
      ],
      "metadata": {
        "id": "AfTNIgdy4lBi"
      },
      "id": "AfTNIgdy4lBi",
      "execution_count": null,
      "outputs": []
    },
    {
      "cell_type": "code",
      "source": [
        "plot_feature(true_y, pred_y, points)"
      ],
      "metadata": {
        "id": "YQsC-3cA4lhh",
        "colab": {
          "base_uri": "https://localhost:8080/",
          "height": 560
        },
        "outputId": "48779578-f74e-440d-e42d-43b977a1707a"
      },
      "id": "YQsC-3cA4lhh",
      "execution_count": null,
      "outputs": [
        {
          "output_type": "display_data",
          "data": {
            "text/html": [
              "<html>\n",
              "<head><meta charset=\"utf-8\" /></head>\n",
              "<body>\n",
              "    <div>            <script src=\"https://cdnjs.cloudflare.com/ajax/libs/mathjax/2.7.5/MathJax.js?config=TeX-AMS-MML_SVG\"></script><script type=\"text/javascript\">if (window.MathJax && window.MathJax.Hub && window.MathJax.Hub.Config) {window.MathJax.Hub.Config({SVG: {font: \"STIX-Web\"}});}</script>                <script type=\"text/javascript\">window.PlotlyConfig = {MathJaxConfig: 'local'};</script>\n",
              "        <script charset=\"utf-8\" src=\"https://cdn.plot.ly/plotly-2.24.1.min.js\"></script>                <div id=\"f71fc45c-f286-48dd-8bc8-e3b28ecad989\" class=\"plotly-graph-div\" style=\"height:525px; width:100%;\"></div>            <script type=\"text/javascript\">                                    window.PLOTLYENV=window.PLOTLYENV || {};                                    if (document.getElementById(\"f71fc45c-f286-48dd-8bc8-e3b28ecad989\")) {                    Plotly.newPlot(                        \"f71fc45c-f286-48dd-8bc8-e3b28ecad989\",                        [{\"mode\":\"lines\",\"name\":\"\\u0422\\u043e\\u0447\\u043d\\u0438\\u0439 \\u0440\\u043e\\u0437\\u0432'\\u044f\\u0437\\u043e\\u043a\",\"x\":[0.0,0.04081612080335617,0.08163224160671234,0.12244836241006851,0.16326448321342468,0.20408061146736145,0.24489672482013702,0.2857128381729126,0.32652896642684937,0.36734509468078613,0.4081612229347229,0.4489773213863373,0.48979344964027405,0.5306095480918884,0.5714256763458252,0.612241804599762,0.6530579328536987,0.6938740611076355,0.7346901893615723,0.775506317615509,0.8163224458694458,0.8571385145187378,0.8979546427726746,0.9387707710266113,0.9795868992805481,1.0204031467437744,1.0612192153930664,1.1020352840423584,1.14285147190094,1.183667540550232,1.2244837284088135,1.2652997970581055,1.306115984916687,1.346932053565979,1.387748122215271,1.4285643100738525,1.4693803787231445,1.510196566581726,1.551012635231018,1.5918288230895996,1.6326448917388916,1.6734609603881836,1.7142771482467651,1.7550932168960571,1.7959094047546387,1.8367254734039307,1.8775416612625122,1.9183577299118042,1.9591739177703857,1.9999899864196777],\"y\":[0.0,4.381197426086723e-06,1.72867862283483e-05,3.836531046822636e-05,6.727271324108185e-05,0.00010367234398425637,0.00014723492193676567,0.0001976385994140749,0.0002545689377566741,0.0003177188578887169,0.00038678869694565396,0.00046148613457634084,0.0005415264152478098,0.0006266319567625355,0.0007165328168509697,0.0008109662675095565,0.0009096770400988726,0.0010124172650188166,0.0011189464717086088,0.0012290315886467921,0.0013424469433512298,0.0014589740900431485,0.0015784024949048235,0.0017005285146140133,0.0018251560728350647,0.0019520968662183828,0.002081168684624146,0.0022121982008026764,0.0023450193256917976,0.0024794722026228906,0.002615405934584825,0.002752675444777219,0.0028911446507491746,0.003030683258939741,0.0031711695866785774,0.0033124893614136877,0.0034545344699971063,0.003597205853131438,0.0037404101878234283,0.0038840632196545186,0.004028086417947206,0.004172409909280278,0.004316971222787251,0.004461714019549038,0.004606591049391524,0.004751560769601268,0.004896590729437137,0.005041654183342214,0.005186733479230349,0.005331816669306269],\"type\":\"scatter\"},{\"mode\":\"lines\",\"name\":\"\\u041d\\u0430\\u0431\\u043b\\u0438\\u0436\\u0435\\u043d\\u0438\\u0439 \\u0440\\u043e\\u0437\\u0432'\\u044f\\u0437\\u043e\\u043a\",\"x\":[0.0,0.04081612080335617,0.08163224160671234,0.12244836241006851,0.16326448321342468,0.20408061146736145,0.24489672482013702,0.2857128381729126,0.32652896642684937,0.36734509468078613,0.4081612229347229,0.4489773213863373,0.48979344964027405,0.5306095480918884,0.5714256763458252,0.612241804599762,0.6530579328536987,0.6938740611076355,0.7346901893615723,0.775506317615509,0.8163224458694458,0.8571385145187378,0.8979546427726746,0.9387707710266113,0.9795868992805481,1.0204031467437744,1.0612192153930664,1.1020352840423584,1.14285147190094,1.183667540550232,1.2244837284088135,1.2652997970581055,1.306115984916687,1.346932053565979,1.387748122215271,1.4285643100738525,1.4693803787231445,1.510196566581726,1.551012635231018,1.5918288230895996,1.6326448917388916,1.6734609603881836,1.7142771482467651,1.7550932168960571,1.7959094047546387,1.8367254734039307,1.8775416612625122,1.9183577299118042,1.9591739177703857,1.9999899864196777],\"y\":[3.903705796115542e-08,4.417805958972787e-06,1.732805536983073e-05,3.8418434234785415e-05,6.734492015335325e-05,0.00010377067595168654,0.00014736596269764035,0.0001978082512999746,0.0002547823170931801,0.0003179803382849372,0.00038710208818550085,0.0004618549517161896,0.0005419541742067296,0.000627122429428778,0.0007170901916579292,0.0008115951823102624,0.0009103824823360335,0.001013204359663851,0.0011198201982518668,0.001229996479996151,0.0013435068208825438,0.0014601318806727187,0.0015796601612820815,0.001701887107570077,0.0018266158977209984,0.0019536577353163956,0.0020828302144689503,0.0022139601127630915,0.0023468817026287628,0.0024814356663782136,0.00261747172364353,0.0027548453791206365,0.002893420995269985,0.003033068500576705,0.0031736661599297417,0.0033150993549870347,0.0034572593514232072,0.003600046248373942,0.0037433657376298238,0.0038871325351452837,0.004031267136113993,0.004175698847971601,0.00432036461556818,0.004465207804987617,0.004610181184755806,0.0047552435263580745,0.004900362934105396,0.005045513357395462,0.005190677841367897,0.005335844957254601],\"type\":\"scatter\"}],                        {\"template\":{\"data\":{\"histogram2dcontour\":[{\"type\":\"histogram2dcontour\",\"colorbar\":{\"outlinewidth\":0,\"ticks\":\"\"},\"colorscale\":[[0.0,\"#0d0887\"],[0.1111111111111111,\"#46039f\"],[0.2222222222222222,\"#7201a8\"],[0.3333333333333333,\"#9c179e\"],[0.4444444444444444,\"#bd3786\"],[0.5555555555555556,\"#d8576b\"],[0.6666666666666666,\"#ed7953\"],[0.7777777777777778,\"#fb9f3a\"],[0.8888888888888888,\"#fdca26\"],[1.0,\"#f0f921\"]]}],\"choropleth\":[{\"type\":\"choropleth\",\"colorbar\":{\"outlinewidth\":0,\"ticks\":\"\"}}],\"histogram2d\":[{\"type\":\"histogram2d\",\"colorbar\":{\"outlinewidth\":0,\"ticks\":\"\"},\"colorscale\":[[0.0,\"#0d0887\"],[0.1111111111111111,\"#46039f\"],[0.2222222222222222,\"#7201a8\"],[0.3333333333333333,\"#9c179e\"],[0.4444444444444444,\"#bd3786\"],[0.5555555555555556,\"#d8576b\"],[0.6666666666666666,\"#ed7953\"],[0.7777777777777778,\"#fb9f3a\"],[0.8888888888888888,\"#fdca26\"],[1.0,\"#f0f921\"]]}],\"heatmap\":[{\"type\":\"heatmap\",\"colorbar\":{\"outlinewidth\":0,\"ticks\":\"\"},\"colorscale\":[[0.0,\"#0d0887\"],[0.1111111111111111,\"#46039f\"],[0.2222222222222222,\"#7201a8\"],[0.3333333333333333,\"#9c179e\"],[0.4444444444444444,\"#bd3786\"],[0.5555555555555556,\"#d8576b\"],[0.6666666666666666,\"#ed7953\"],[0.7777777777777778,\"#fb9f3a\"],[0.8888888888888888,\"#fdca26\"],[1.0,\"#f0f921\"]]}],\"heatmapgl\":[{\"type\":\"heatmapgl\",\"colorbar\":{\"outlinewidth\":0,\"ticks\":\"\"},\"colorscale\":[[0.0,\"#0d0887\"],[0.1111111111111111,\"#46039f\"],[0.2222222222222222,\"#7201a8\"],[0.3333333333333333,\"#9c179e\"],[0.4444444444444444,\"#bd3786\"],[0.5555555555555556,\"#d8576b\"],[0.6666666666666666,\"#ed7953\"],[0.7777777777777778,\"#fb9f3a\"],[0.8888888888888888,\"#fdca26\"],[1.0,\"#f0f921\"]]}],\"contourcarpet\":[{\"type\":\"contourcarpet\",\"colorbar\":{\"outlinewidth\":0,\"ticks\":\"\"}}],\"contour\":[{\"type\":\"contour\",\"colorbar\":{\"outlinewidth\":0,\"ticks\":\"\"},\"colorscale\":[[0.0,\"#0d0887\"],[0.1111111111111111,\"#46039f\"],[0.2222222222222222,\"#7201a8\"],[0.3333333333333333,\"#9c179e\"],[0.4444444444444444,\"#bd3786\"],[0.5555555555555556,\"#d8576b\"],[0.6666666666666666,\"#ed7953\"],[0.7777777777777778,\"#fb9f3a\"],[0.8888888888888888,\"#fdca26\"],[1.0,\"#f0f921\"]]}],\"surface\":[{\"type\":\"surface\",\"colorbar\":{\"outlinewidth\":0,\"ticks\":\"\"},\"colorscale\":[[0.0,\"#0d0887\"],[0.1111111111111111,\"#46039f\"],[0.2222222222222222,\"#7201a8\"],[0.3333333333333333,\"#9c179e\"],[0.4444444444444444,\"#bd3786\"],[0.5555555555555556,\"#d8576b\"],[0.6666666666666666,\"#ed7953\"],[0.7777777777777778,\"#fb9f3a\"],[0.8888888888888888,\"#fdca26\"],[1.0,\"#f0f921\"]]}],\"mesh3d\":[{\"type\":\"mesh3d\",\"colorbar\":{\"outlinewidth\":0,\"ticks\":\"\"}}],\"scatter\":[{\"fillpattern\":{\"fillmode\":\"overlay\",\"size\":10,\"solidity\":0.2},\"type\":\"scatter\"}],\"parcoords\":[{\"type\":\"parcoords\",\"line\":{\"colorbar\":{\"outlinewidth\":0,\"ticks\":\"\"}}}],\"scatterpolargl\":[{\"type\":\"scatterpolargl\",\"marker\":{\"colorbar\":{\"outlinewidth\":0,\"ticks\":\"\"}}}],\"bar\":[{\"error_x\":{\"color\":\"#2a3f5f\"},\"error_y\":{\"color\":\"#2a3f5f\"},\"marker\":{\"line\":{\"color\":\"#E5ECF6\",\"width\":0.5},\"pattern\":{\"fillmode\":\"overlay\",\"size\":10,\"solidity\":0.2}},\"type\":\"bar\"}],\"scattergeo\":[{\"type\":\"scattergeo\",\"marker\":{\"colorbar\":{\"outlinewidth\":0,\"ticks\":\"\"}}}],\"scatterpolar\":[{\"type\":\"scatterpolar\",\"marker\":{\"colorbar\":{\"outlinewidth\":0,\"ticks\":\"\"}}}],\"histogram\":[{\"marker\":{\"pattern\":{\"fillmode\":\"overlay\",\"size\":10,\"solidity\":0.2}},\"type\":\"histogram\"}],\"scattergl\":[{\"type\":\"scattergl\",\"marker\":{\"colorbar\":{\"outlinewidth\":0,\"ticks\":\"\"}}}],\"scatter3d\":[{\"type\":\"scatter3d\",\"line\":{\"colorbar\":{\"outlinewidth\":0,\"ticks\":\"\"}},\"marker\":{\"colorbar\":{\"outlinewidth\":0,\"ticks\":\"\"}}}],\"scattermapbox\":[{\"type\":\"scattermapbox\",\"marker\":{\"colorbar\":{\"outlinewidth\":0,\"ticks\":\"\"}}}],\"scatterternary\":[{\"type\":\"scatterternary\",\"marker\":{\"colorbar\":{\"outlinewidth\":0,\"ticks\":\"\"}}}],\"scattercarpet\":[{\"type\":\"scattercarpet\",\"marker\":{\"colorbar\":{\"outlinewidth\":0,\"ticks\":\"\"}}}],\"carpet\":[{\"aaxis\":{\"endlinecolor\":\"#2a3f5f\",\"gridcolor\":\"white\",\"linecolor\":\"white\",\"minorgridcolor\":\"white\",\"startlinecolor\":\"#2a3f5f\"},\"baxis\":{\"endlinecolor\":\"#2a3f5f\",\"gridcolor\":\"white\",\"linecolor\":\"white\",\"minorgridcolor\":\"white\",\"startlinecolor\":\"#2a3f5f\"},\"type\":\"carpet\"}],\"table\":[{\"cells\":{\"fill\":{\"color\":\"#EBF0F8\"},\"line\":{\"color\":\"white\"}},\"header\":{\"fill\":{\"color\":\"#C8D4E3\"},\"line\":{\"color\":\"white\"}},\"type\":\"table\"}],\"barpolar\":[{\"marker\":{\"line\":{\"color\":\"#E5ECF6\",\"width\":0.5},\"pattern\":{\"fillmode\":\"overlay\",\"size\":10,\"solidity\":0.2}},\"type\":\"barpolar\"}],\"pie\":[{\"automargin\":true,\"type\":\"pie\"}]},\"layout\":{\"autotypenumbers\":\"strict\",\"colorway\":[\"#636efa\",\"#EF553B\",\"#00cc96\",\"#ab63fa\",\"#FFA15A\",\"#19d3f3\",\"#FF6692\",\"#B6E880\",\"#FF97FF\",\"#FECB52\"],\"font\":{\"color\":\"#2a3f5f\"},\"hovermode\":\"closest\",\"hoverlabel\":{\"align\":\"left\"},\"paper_bgcolor\":\"white\",\"plot_bgcolor\":\"#E5ECF6\",\"polar\":{\"bgcolor\":\"#E5ECF6\",\"angularaxis\":{\"gridcolor\":\"white\",\"linecolor\":\"white\",\"ticks\":\"\"},\"radialaxis\":{\"gridcolor\":\"white\",\"linecolor\":\"white\",\"ticks\":\"\"}},\"ternary\":{\"bgcolor\":\"#E5ECF6\",\"aaxis\":{\"gridcolor\":\"white\",\"linecolor\":\"white\",\"ticks\":\"\"},\"baxis\":{\"gridcolor\":\"white\",\"linecolor\":\"white\",\"ticks\":\"\"},\"caxis\":{\"gridcolor\":\"white\",\"linecolor\":\"white\",\"ticks\":\"\"}},\"coloraxis\":{\"colorbar\":{\"outlinewidth\":0,\"ticks\":\"\"}},\"colorscale\":{\"sequential\":[[0.0,\"#0d0887\"],[0.1111111111111111,\"#46039f\"],[0.2222222222222222,\"#7201a8\"],[0.3333333333333333,\"#9c179e\"],[0.4444444444444444,\"#bd3786\"],[0.5555555555555556,\"#d8576b\"],[0.6666666666666666,\"#ed7953\"],[0.7777777777777778,\"#fb9f3a\"],[0.8888888888888888,\"#fdca26\"],[1.0,\"#f0f921\"]],\"sequentialminus\":[[0.0,\"#0d0887\"],[0.1111111111111111,\"#46039f\"],[0.2222222222222222,\"#7201a8\"],[0.3333333333333333,\"#9c179e\"],[0.4444444444444444,\"#bd3786\"],[0.5555555555555556,\"#d8576b\"],[0.6666666666666666,\"#ed7953\"],[0.7777777777777778,\"#fb9f3a\"],[0.8888888888888888,\"#fdca26\"],[1.0,\"#f0f921\"]],\"diverging\":[[0,\"#8e0152\"],[0.1,\"#c51b7d\"],[0.2,\"#de77ae\"],[0.3,\"#f1b6da\"],[0.4,\"#fde0ef\"],[0.5,\"#f7f7f7\"],[0.6,\"#e6f5d0\"],[0.7,\"#b8e186\"],[0.8,\"#7fbc41\"],[0.9,\"#4d9221\"],[1,\"#276419\"]]},\"xaxis\":{\"gridcolor\":\"white\",\"linecolor\":\"white\",\"ticks\":\"\",\"title\":{\"standoff\":15},\"zerolinecolor\":\"white\",\"automargin\":true,\"zerolinewidth\":2},\"yaxis\":{\"gridcolor\":\"white\",\"linecolor\":\"white\",\"ticks\":\"\",\"title\":{\"standoff\":15},\"zerolinecolor\":\"white\",\"automargin\":true,\"zerolinewidth\":2},\"scene\":{\"xaxis\":{\"backgroundcolor\":\"#E5ECF6\",\"gridcolor\":\"white\",\"linecolor\":\"white\",\"showbackground\":true,\"ticks\":\"\",\"zerolinecolor\":\"white\",\"gridwidth\":2},\"yaxis\":{\"backgroundcolor\":\"#E5ECF6\",\"gridcolor\":\"white\",\"linecolor\":\"white\",\"showbackground\":true,\"ticks\":\"\",\"zerolinecolor\":\"white\",\"gridwidth\":2},\"zaxis\":{\"backgroundcolor\":\"#E5ECF6\",\"gridcolor\":\"white\",\"linecolor\":\"white\",\"showbackground\":true,\"ticks\":\"\",\"zerolinecolor\":\"white\",\"gridwidth\":2}},\"shapedefaults\":{\"line\":{\"color\":\"#2a3f5f\"}},\"annotationdefaults\":{\"arrowcolor\":\"#2a3f5f\",\"arrowhead\":0,\"arrowwidth\":1},\"geo\":{\"bgcolor\":\"white\",\"landcolor\":\"#E5ECF6\",\"subunitcolor\":\"white\",\"showland\":true,\"showlakes\":true,\"lakecolor\":\"white\"},\"title\":{\"x\":0.05},\"mapbox\":{\"style\":\"light\"}}},\"yaxis\":{\"title\":{\"text\":\"\\u0417\\u043d\\u0430\\u0447\\u0435\\u043d\\u043d\\u044f \\u0444\\u0443\\u043d\\u043a\\u0446\\u0456\\u0457\",\"font\":{\"size\":20}},\"tickfont\":{\"size\":16}},\"xaxis\":{\"title\":{\"text\":\"\\u0422\\u043e\\u0447\\u043a\\u0438 \\u043a\\u043e\\u043b\\u043e\\u043a\\u0430\\u0446\\u0456\\u0457\",\"font\":{\"size\":20}},\"tickfont\":{\"size\":16}},\"legend\":{\"font\":{\"size\":18}}},                        {\"responsive\": true}                    ).then(function(){\n",
              "                            \n",
              "var gd = document.getElementById('f71fc45c-f286-48dd-8bc8-e3b28ecad989');\n",
              "var x = new MutationObserver(function (mutations, observer) {{\n",
              "        var display = window.getComputedStyle(gd).display;\n",
              "        if (!display || display === 'none') {{\n",
              "            console.log([gd, 'removed!']);\n",
              "            Plotly.purge(gd);\n",
              "            observer.disconnect();\n",
              "        }}\n",
              "}});\n",
              "\n",
              "// Listen for the removal of the full notebook cells\n",
              "var notebookContainer = gd.closest('#notebook-container');\n",
              "if (notebookContainer) {{\n",
              "    x.observe(notebookContainer, {childList: true});\n",
              "}}\n",
              "\n",
              "// Listen for the clearing of the current output cell\n",
              "var outputEl = gd.closest('.output');\n",
              "if (outputEl) {{\n",
              "    x.observe(outputEl, {childList: true});\n",
              "}}\n",
              "\n",
              "                        })                };                            </script>        </div>\n",
              "</body>\n",
              "</html>"
            ]
          },
          "metadata": {}
        },
        {
          "output_type": "execute_result",
          "data": {
            "text/plain": [
              "0"
            ]
          },
          "metadata": {},
          "execution_count": 129
        }
      ]
    },
    {
      "cell_type": "code",
      "source": [
        "w(L/2, q, E, I)"
      ],
      "metadata": {
        "id": "vlGyp0tAMvFN",
        "colab": {
          "base_uri": "https://localhost:8080/"
        },
        "outputId": "5b360861-d68d-4bb7-f1e5-ddc4e6af5301"
      },
      "id": "vlGyp0tAMvFN",
      "execution_count": null,
      "outputs": [
        {
          "output_type": "execute_result",
          "data": {
            "text/plain": [
              "0.0018883643432379895"
            ]
          },
          "metadata": {},
          "execution_count": 130
        }
      ]
    },
    {
      "cell_type": "code",
      "source": [],
      "metadata": {
        "id": "M9SaqzVSMwGI"
      },
      "id": "M9SaqzVSMwGI",
      "execution_count": null,
      "outputs": []
    },
    {
      "cell_type": "code",
      "source": [
        "import pandas as pd\n",
        "import numpy as np\n",
        "\n",
        "# Об'єднання масивів в DataFrame та назви стовпців\n",
        "df = pd.DataFrame({'True': true_y, 'Pred': np.round(pred_y, 6)})\n",
        "\n",
        "# Вивід DataFrame\n",
        "print(df)"
      ],
      "metadata": {
        "id": "Ylrx8jTx7r2H",
        "colab": {
          "base_uri": "https://localhost:8080/"
        },
        "outputId": "12f49013-decb-4713-8f96-c9468b159808"
      },
      "id": "Ylrx8jTx7r2H",
      "execution_count": null,
      "outputs": [
        {
          "output_type": "stream",
          "name": "stdout",
          "text": [
            "        True      Pred\n",
            "0   0.000000  0.000000\n",
            "1   0.000004  0.000004\n",
            "2   0.000017  0.000017\n",
            "3   0.000038  0.000038\n",
            "4   0.000067  0.000067\n",
            "5   0.000104  0.000104\n",
            "6   0.000147  0.000147\n",
            "7   0.000198  0.000198\n",
            "8   0.000255  0.000255\n",
            "9   0.000318  0.000318\n",
            "10  0.000387  0.000387\n",
            "11  0.000461  0.000462\n",
            "12  0.000542  0.000542\n",
            "13  0.000627  0.000627\n",
            "14  0.000717  0.000717\n",
            "15  0.000811  0.000812\n",
            "16  0.000910  0.000910\n",
            "17  0.001012  0.001013\n",
            "18  0.001119  0.001120\n",
            "19  0.001229  0.001230\n",
            "20  0.001342  0.001344\n",
            "21  0.001459  0.001460\n",
            "22  0.001578  0.001580\n",
            "23  0.001701  0.001702\n",
            "24  0.001825  0.001827\n",
            "25  0.001952  0.001954\n",
            "26  0.002081  0.002083\n",
            "27  0.002212  0.002214\n",
            "28  0.002345  0.002347\n",
            "29  0.002479  0.002481\n",
            "30  0.002615  0.002617\n",
            "31  0.002753  0.002755\n",
            "32  0.002891  0.002893\n",
            "33  0.003031  0.003033\n",
            "34  0.003171  0.003174\n",
            "35  0.003312  0.003315\n",
            "36  0.003455  0.003457\n",
            "37  0.003597  0.003600\n",
            "38  0.003740  0.003743\n",
            "39  0.003884  0.003887\n",
            "40  0.004028  0.004031\n",
            "41  0.004172  0.004176\n",
            "42  0.004317  0.004320\n",
            "43  0.004462  0.004465\n",
            "44  0.004607  0.004610\n",
            "45  0.004752  0.004755\n",
            "46  0.004897  0.004900\n",
            "47  0.005042  0.005046\n",
            "48  0.005187  0.005191\n",
            "49  0.005332  0.005336\n"
          ]
        }
      ]
    }
  ],
  "metadata": {
    "kernelspec": {
      "display_name": "Python 3 (ipykernel)",
      "language": "python",
      "name": "python3"
    },
    "language_info": {
      "codemirror_mode": {
        "name": "ipython",
        "version": 3
      },
      "file_extension": ".py",
      "mimetype": "text/x-python",
      "name": "python",
      "nbconvert_exporter": "python",
      "pygments_lexer": "ipython3",
      "version": "3.11.3"
    },
    "colab": {
      "provenance": []
    }
  },
  "nbformat": 4,
  "nbformat_minor": 5
}